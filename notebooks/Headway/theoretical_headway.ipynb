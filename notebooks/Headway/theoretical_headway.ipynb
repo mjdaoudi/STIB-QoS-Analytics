{
  "cells": [
    {
      "cell_type": "markdown",
      "metadata": {},
      "source": [
        "# Theoretical Headway"
      ]
    },
    {
      "cell_type": "code",
      "execution_count": 2,
      "metadata": {},
      "outputs": [],
      "source": [
        "import pandas as pd\n",
        "import numpy as np"
      ]
    },
    {
      "cell_type": "code",
      "execution_count": null,
      "metadata": {},
      "outputs": [],
      "source": [
        "calendar_dates = pd.read_csv('data/timetables/gtfs3Sept/calendar_dates.txt', sep = \",\")\n",
        "calendar = pd.read_csv('data/timetables/gtfs3Sept/calendar.txt', sep = \",\")\n",
        "trips = pd.read_csv('data/timetables/gtfs3Sept/trips.txt', sep = \",\")\n",
        "stops = pd.read_csv('data/timetables/gtfs3Sept/stops.txt', sep = \",\")\n",
        "stop_times = pd.read_csv('data/timetables/gtfs3Sept/stop_times.txt', sep = \",\")\n",
        "routes = pd.read_csv('data/timetables/gtfs3Sept/routes.txt', sep = \",\")"
      ]
    },
    {
      "cell_type": "markdown",
      "metadata": {},
      "source": [
        "## Isolate case computation"
      ]
    },
    {
      "cell_type": "code",
      "execution_count": null,
      "metadata": {},
      "outputs": [],
      "source": [
        "stop = stops.head(1).to_dict(orient=\"records\")[0]\n",
        "stop"
      ]
    },
    {
      "cell_type": "code",
      "execution_count": null,
      "metadata": {},
      "outputs": [],
      "source": [
        "stop_times_stop = stop_times.merge(\n",
        "    stops,\n",
        "    \"left\",\n",
        "    \"stop_id\"\n",
        ")"
      ]
    },
    {
      "cell_type": "code",
      "execution_count": null,
      "metadata": {},
      "outputs": [],
      "source": [
        "stop_times_stop = stop_times_stop[stop_times_stop.stop_id == stop.get(\"stop_id\")]\n",
        "stop_times_stop"
      ]
    },
    {
      "cell_type": "code",
      "execution_count": null,
      "metadata": {},
      "outputs": [],
      "source": [
        "stop_times_with_trips = stop_times_stop.merge(\n",
        "    trips,\n",
        "    \"left\",\n",
        "    \"trip_id\"\n",
        ")\n",
        "route_id = stop_times_with_trips.head(1).to_dict(\"records\")[0].get(\"route_id\")"
      ]
    },
    {
      "cell_type": "code",
      "execution_count": null,
      "metadata": {},
      "outputs": [],
      "source": [
        "stop_times_with_trips = stop_times_with_trips[stop_times_with_trips.route_id == route_id]\n",
        "stop_times_with_trips"
      ]
    },
    {
      "cell_type": "code",
      "execution_count": null,
      "metadata": {},
      "outputs": [],
      "source": [
        "# Fix direction\n",
        "direction_id = stop_times_with_trips.head(1).to_dict(\"records\")[0].get(\"direction_id\")\n",
        "\n",
        "# Fix Service\n",
        "service_id = stop_times_with_trips.head(1).to_dict(\"records\")[0].get(\"service_id\")\n",
        "\n",
        "print(direction_id, service_id)"
      ]
    },
    {
      "cell_type": "code",
      "execution_count": null,
      "metadata": {},
      "outputs": [],
      "source": [
        "stop_times_with_trips_stops = stop_times_with_trips[(stop_times_with_trips.direction_id == direction_id) & (stop_times_with_trips.service_id == service_id)]"
      ]
    },
    {
      "cell_type": "code",
      "execution_count": null,
      "metadata": {},
      "outputs": [],
      "source": [
        "time = stop_times_with_trips_stops[\"arrival_time\"].str.split(':', expand = True)\n",
        "t = time[0].astype(int) * 3600 + time[1].astype(int) * 60 + time[2].astype(int)\n",
        "stop_times_with_trips_stops[\"time_seconds\"] = t"
      ]
    },
    {
      "cell_type": "code",
      "execution_count": null,
      "metadata": {},
      "outputs": [],
      "source": [
        "stop_times_with_trips_stops = stop_times_with_trips_stops.sort_values(by=[\"time_seconds\"], ascending=True)"
      ]
    },
    {
      "cell_type": "code",
      "execution_count": null,
      "metadata": {},
      "outputs": [],
      "source": [
        "stop_times_with_trips_stops[\"headway\"] = (stop_times_with_trips_stops.time_seconds.sort_values() - stop_times_with_trips_stops.time_seconds.sort_values().shift()) / 60"
      ]
    },
    {
      "cell_type": "code",
      "execution_count": null,
      "metadata": {},
      "outputs": [],
      "source": [
        "stop_times_with_trips_stops.sort_values(by=\"time_seconds\", ascending= True)[[\"trip_id\", \"arrival_time\",\"headway\", \"stop_name\", \"route_id\", \"service_id\", \"trip_headsign\"]]"
      ]
    },
    {
      "cell_type": "code",
      "execution_count": null,
      "metadata": {},
      "outputs": [],
      "source": [
        "import plotly.express as px\n",
        "fig = px.scatter(stop_times_with_trips_stops.sort_values(\"time_seconds\"), x=\"arrival_time\", y=\"headway\", color='headway',  marginal_y=\"histogram\", text=\"headway\")\n",
        "fig.show()"
      ]
    },
    {
      "cell_type": "markdown",
      "metadata": {},
      "source": [
        "## All headways Computation"
      ]
    },
    {
      "cell_type": "code",
      "execution_count": null,
      "metadata": {},
      "outputs": [],
      "source": [
        "from custom_functions.gtfs_methods import headways"
      ]
    },
    {
      "cell_type": "code",
      "execution_count": null,
      "metadata": {},
      "outputs": [],
      "source": [
        "stops.shape"
      ]
    },
    {
      "cell_type": "code",
      "execution_count": null,
      "metadata": {},
      "outputs": [],
      "source": [
        "stop_times.shape"
      ]
    },
    {
      "cell_type": "code",
      "execution_count": null,
      "metadata": {},
      "outputs": [],
      "source": [
        "trips.shape"
      ]
    },
    {
      "cell_type": "code",
      "execution_count": null,
      "metadata": {},
      "outputs": [],
      "source": [
        "routes.shape"
      ]
    },
    {
      "cell_type": "code",
      "execution_count": null,
      "metadata": {},
      "outputs": [],
      "source": [
        "trips_with_routes = trips.merge(\n",
        "    routes,\n",
        "    \"left\",\n",
        "    \"route_id\"\n",
        ")\n",
        "stop_times_stop = stop_times.merge(\n",
        "    stops,\n",
        "    \"left\",\n",
        "    \"stop_id\"\n",
        ")\n",
        "stop_times_with_trips = stop_times_stop.merge(\n",
        "    trips_with_routes,\n",
        "    \"left\",\n",
        "    \"trip_id\"\n",
        ")\n",
        "stop_times_with_trips.info(verbose=True)"
      ]
    },
    {
      "cell_type": "code",
      "execution_count": null,
      "metadata": {},
      "outputs": [],
      "source": [
        "headway_theoretical = headways(\n",
        "    table_times_trips = stop_times_with_trips,\n",
        "    time_col = \"arrival_time\",\n",
        "    stop_col = \"stop_id\",\n",
        "    route_col = \"route_id\",\n",
        "    direction_col = \"direction_id\",\n",
        "    service_col = \"service_id\"\n",
        ")"
      ]
    },
    {
      "cell_type": "code",
      "execution_count": 3,
      "metadata": {},
      "outputs": [
        {
          "ename": "NameError",
          "evalue": "name 'headway_theoretical' is not defined",
          "output_type": "error",
          "traceback": [
            "\u001b[0;31m---------------------------------------------------------------------------\u001b[0m",
            "\u001b[0;31mNameError\u001b[0m                                 Traceback (most recent call last)",
            "\u001b[1;32m/Users/mjdaoudi/Library/CloudStorage/OneDrive-UniversitéLibredeBruxelles/_MS-BDGA.2022-2023/Semester_1/INFO-H423 - Data Mining/STIB-Network-QoS-Analysis/Headway/theoretical_headway.ipynb Cell 25\u001b[0m in \u001b[0;36m<cell line: 1>\u001b[0;34m()\u001b[0m\n\u001b[0;32m----> <a href='vscode-notebook-cell:/Users/mjdaoudi/Library/CloudStorage/OneDrive-Universite%CC%81LibredeBruxelles/_MS-BDGA.2022-2023/Semester_1/INFO-H423%20-%20Data%20Mining/STIB-Network-QoS-Analysis/Headway/theoretical_headway.ipynb#X33sZmlsZQ%3D%3D?line=0'>1</a>\u001b[0m headway_theoretical\n",
            "\u001b[0;31mNameError\u001b[0m: name 'headway_theoretical' is not defined"
          ]
        }
      ],
      "source": [
        "headway_theoretical"
      ]
    },
    {
      "cell_type": "code",
      "execution_count": null,
      "metadata": {},
      "outputs": [],
      "source": [
        "headway_theoretical.to_pickle(path = \"data/computed/theoretical_schedule.pkl\")"
      ]
    },
    {
      "cell_type": "code",
      "execution_count": 4,
      "metadata": {},
      "outputs": [
        {
          "ename": "FileNotFoundError",
          "evalue": "[Errno 2] No such file or directory: 'data/computed/theoretical_schedule.pkl'",
          "output_type": "error",
          "traceback": [
            "\u001b[0;31m---------------------------------------------------------------------------\u001b[0m",
            "\u001b[0;31mFileNotFoundError\u001b[0m                         Traceback (most recent call last)",
            "\u001b[1;32m/Users/mjdaoudi/Library/CloudStorage/OneDrive-UniversitéLibredeBruxelles/_MS-BDGA.2022-2023/Semester_1/INFO-H423 - Data Mining/STIB-Network-QoS-Analysis/Headway/theoretical_headway.ipynb Cell 27\u001b[0m in \u001b[0;36m<cell line: 1>\u001b[0;34m()\u001b[0m\n\u001b[0;32m----> <a href='vscode-notebook-cell:/Users/mjdaoudi/Library/CloudStorage/OneDrive-Universite%CC%81LibredeBruxelles/_MS-BDGA.2022-2023/Semester_1/INFO-H423%20-%20Data%20Mining/STIB-Network-QoS-Analysis/Headway/theoretical_headway.ipynb#X56sZmlsZQ%3D%3D?line=0'>1</a>\u001b[0m headway_theoretical \u001b[39m=\u001b[39m pd\u001b[39m.\u001b[39;49mread_pickle(\u001b[39m\"\u001b[39;49m\u001b[39mdata/computed/theoretical_schedule.pkl\u001b[39;49m\u001b[39m\"\u001b[39;49m)\n",
            "File \u001b[0;32m~/opt/anaconda3/lib/python3.9/site-packages/pandas/io/pickle.py:187\u001b[0m, in \u001b[0;36mread_pickle\u001b[0;34m(filepath_or_buffer, compression, storage_options)\u001b[0m\n\u001b[1;32m    124\u001b[0m \u001b[39m\"\"\"\u001b[39;00m\n\u001b[1;32m    125\u001b[0m \u001b[39mLoad pickled pandas object (or any object) from file.\u001b[39;00m\n\u001b[1;32m    126\u001b[0m \n\u001b[0;32m   (...)\u001b[0m\n\u001b[1;32m    184\u001b[0m \u001b[39m4    4    9\u001b[39;00m\n\u001b[1;32m    185\u001b[0m \u001b[39m\"\"\"\u001b[39;00m  \u001b[39m# noqa: E501\u001b[39;00m\n\u001b[1;32m    186\u001b[0m excs_to_catch \u001b[39m=\u001b[39m (\u001b[39mAttributeError\u001b[39;00m, \u001b[39mImportError\u001b[39;00m, \u001b[39mModuleNotFoundError\u001b[39;00m, \u001b[39mTypeError\u001b[39;00m)\n\u001b[0;32m--> 187\u001b[0m \u001b[39mwith\u001b[39;00m get_handle(\n\u001b[1;32m    188\u001b[0m     filepath_or_buffer,\n\u001b[1;32m    189\u001b[0m     \u001b[39m\"\u001b[39;49m\u001b[39mrb\u001b[39;49m\u001b[39m\"\u001b[39;49m,\n\u001b[1;32m    190\u001b[0m     compression\u001b[39m=\u001b[39;49mcompression,\n\u001b[1;32m    191\u001b[0m     is_text\u001b[39m=\u001b[39;49m\u001b[39mFalse\u001b[39;49;00m,\n\u001b[1;32m    192\u001b[0m     storage_options\u001b[39m=\u001b[39;49mstorage_options,\n\u001b[1;32m    193\u001b[0m ) \u001b[39mas\u001b[39;00m handles:\n\u001b[1;32m    194\u001b[0m \n\u001b[1;32m    195\u001b[0m     \u001b[39m# 1) try standard library Pickle\u001b[39;00m\n\u001b[1;32m    196\u001b[0m     \u001b[39m# 2) try pickle_compat (older pandas version) to handle subclass changes\u001b[39;00m\n\u001b[1;32m    197\u001b[0m     \u001b[39m# 3) try pickle_compat with latin-1 encoding upon a UnicodeDecodeError\u001b[39;00m\n\u001b[1;32m    199\u001b[0m     \u001b[39mtry\u001b[39;00m:\n\u001b[1;32m    200\u001b[0m         \u001b[39m# TypeError for Cython complaints about object.__new__ vs Tick.__new__\u001b[39;00m\n\u001b[1;32m    201\u001b[0m         \u001b[39mtry\u001b[39;00m:\n",
            "File \u001b[0;32m~/opt/anaconda3/lib/python3.9/site-packages/pandas/io/common.py:798\u001b[0m, in \u001b[0;36mget_handle\u001b[0;34m(path_or_buf, mode, encoding, compression, memory_map, is_text, errors, storage_options)\u001b[0m\n\u001b[1;32m    789\u001b[0m         handle \u001b[39m=\u001b[39m \u001b[39mopen\u001b[39m(\n\u001b[1;32m    790\u001b[0m             handle,\n\u001b[1;32m    791\u001b[0m             ioargs\u001b[39m.\u001b[39mmode,\n\u001b[0;32m   (...)\u001b[0m\n\u001b[1;32m    794\u001b[0m             newline\u001b[39m=\u001b[39m\u001b[39m\"\u001b[39m\u001b[39m\"\u001b[39m,\n\u001b[1;32m    795\u001b[0m         )\n\u001b[1;32m    796\u001b[0m     \u001b[39melse\u001b[39;00m:\n\u001b[1;32m    797\u001b[0m         \u001b[39m# Binary mode\u001b[39;00m\n\u001b[0;32m--> 798\u001b[0m         handle \u001b[39m=\u001b[39m \u001b[39mopen\u001b[39;49m(handle, ioargs\u001b[39m.\u001b[39;49mmode)\n\u001b[1;32m    799\u001b[0m     handles\u001b[39m.\u001b[39mappend(handle)\n\u001b[1;32m    801\u001b[0m \u001b[39m# Convert BytesIO or file objects passed with an encoding\u001b[39;00m\n",
            "\u001b[0;31mFileNotFoundError\u001b[0m: [Errno 2] No such file or directory: 'data/computed/theoretical_schedule.pkl'"
          ]
        }
      ],
      "source": [
        "headway_theoretical = pd.read_pickle(\"data/computed/theoretical_schedule.pkl\")"
      ]
    },
    {
      "cell_type": "code",
      "execution_count": null,
      "metadata": {},
      "outputs": [],
      "source": [
        "t = headway_theoretical[\n",
        "    (headway_theoretical.stop_id == \"0089\") & \n",
        "    (headway_theoretical.route_id == 40) & \n",
        "    (headway_theoretical.direction_id == 0) & \n",
        "    (headway_theoretical.service_id == 233817050)]"
      ]
    },
    {
      "cell_type": "code",
      "execution_count": null,
      "metadata": {},
      "outputs": [],
      "source": [
        "import plotly.express as px\n",
        "fig = px.scatter(t.sort_values(\"time_seconds\"), x=\"arrival_time\", y=\"headway_min\", color='headway_min', text=\"headway_min\")\n",
        "fig.show()"
      ]
    },
    {
      "cell_type": "code",
      "execution_count": null,
      "metadata": {},
      "outputs": [],
      "source": [
        "k2 = ('9996', 59, 0, 238006605)\n",
        "\n",
        "t2 = headway_theoretical[\n",
        "    (headway_theoretical.stop_id == \"9996\") & \n",
        "    (headway_theoretical.route_id == 59) & \n",
        "    (headway_theoretical.direction_id == 0) & \n",
        "    (headway_theoretical.service_id == 238006605)]"
      ]
    },
    {
      "cell_type": "code",
      "execution_count": null,
      "metadata": {},
      "outputs": [],
      "source": [
        "t2"
      ]
    },
    {
      "cell_type": "code",
      "execution_count": null,
      "metadata": {},
      "outputs": [],
      "source": [
        "fig = px.scatter(t2.sort_values(\"time_seconds\"), x=\"arrival_time\", y=\"headway_min\", color='headway_min', text=\"headway_min\")\n",
        "fig.show()"
      ]
    },
    {
      "cell_type": "code",
      "execution_count": null,
      "metadata": {},
      "outputs": [],
      "source": [
        "k3 = ('1083', 74, 1, 237569501)\n",
        "\n",
        "t3 = headway_theoretical[\n",
        "    (headway_theoretical.stop_id == \"1083\") & \n",
        "    (headway_theoretical.route_id == 74) & \n",
        "    (headway_theoretical.direction_id == 1) & \n",
        "    (headway_theoretical.service_id == 237569501)]"
      ]
    },
    {
      "cell_type": "code",
      "execution_count": null,
      "metadata": {},
      "outputs": [],
      "source": [
        "t3"
      ]
    },
    {
      "cell_type": "code",
      "execution_count": null,
      "metadata": {},
      "outputs": [],
      "source": [
        "fig = px.scatter(t3.sort_values(\"time_seconds\"), x=\"arrival_time\", y=\"headway_min\", color='headway_min', text=\"headway_min\")\n",
        "fig.show()"
      ]
    },
    {
      "cell_type": "markdown",
      "metadata": {},
      "source": [
        "## Service Issue"
      ]
    },
    {
      "cell_type": "code",
      "execution_count": null,
      "metadata": {},
      "outputs": [],
      "source": [
        "calendar_dates"
      ]
    },
    {
      "cell_type": "code",
      "execution_count": null,
      "metadata": {},
      "outputs": [],
      "source": [
        "calendar_dates[calendar_dates.service_id == 238006605]"
      ]
    },
    {
      "cell_type": "code",
      "execution_count": null,
      "metadata": {},
      "outputs": [],
      "source": [
        "calendar[calendar.service_id == 238006605]"
      ]
    },
    {
      "cell_type": "code",
      "execution_count": null,
      "metadata": {},
      "outputs": [],
      "source": [
        "calendar[\"start_date\"] = pd.to_datetime(calendar.start_date, format = \"%Y%m%d\")\n",
        "calendar[\"end_date\"] = pd.to_datetime(calendar.end_date, format = \"%Y%m%d\")"
      ]
    },
    {
      "cell_type": "code",
      "execution_count": null,
      "metadata": {},
      "outputs": [],
      "source": [
        "calendar[\"diff\"] = (calendar[\"end_date\"] - calendar[\"start_date\"]).dt.days"
      ]
    },
    {
      "cell_type": "code",
      "execution_count": null,
      "metadata": {},
      "outputs": [],
      "source": [
        "fig = px.histogram(calendar, x=\"diff\")\n",
        "fig.show()"
      ]
    }
  ],
  "metadata": {
    "kernelspec": {
      "display_name": "Python 3.9.12 ('base')",
      "language": "python",
      "name": "python3"
    },
    "language_info": {
      "codemirror_mode": {
        "name": "ipython",
        "version": 3
      },
      "file_extension": ".py",
      "mimetype": "text/x-python",
      "name": "python",
      "nbconvert_exporter": "python",
      "pygments_lexer": "ipython3",
      "version": "3.9.12"
    },
    "orig_nbformat": 4,
    "vscode": {
      "interpreter": {
        "hash": "64d58bae5e1836223e39dfe00c2cc12f2d07ff9816769b2cafc50efbdc5d5643"
      }
    }
  },
  "nbformat": 4,
  "nbformat_minor": 2
}
