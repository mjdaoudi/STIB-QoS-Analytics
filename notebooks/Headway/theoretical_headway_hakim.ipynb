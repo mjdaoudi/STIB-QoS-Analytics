{
 "cells": [
  {
   "cell_type": "markdown",
   "metadata": {},
   "source": [
    "# Theoretical Headway"
   ]
  },
  {
   "cell_type": "code",
   "execution_count": null,
   "metadata": {},
   "outputs": [],
   "source": [
    "import pandas as pd"
   ]
  },
  {
   "cell_type": "code",
   "execution_count": null,
   "metadata": {},
   "outputs": [],
   "source": [
    "calendar_dates = pd.read_csv('data/timetables/gtfs3Sept/calendar_dates.txt', sep = \",\")\n",
    "calendar = pd.read_csv('data/timetables/gtfs3Sept/calendar.txt', sep = \",\")\n",
    "trips = pd.read_csv('data/timetables/gtfs3Sept/trips.txt', sep = \",\")\n",
    "stops = pd.read_csv('data/timetables/gtfs3Sept/stops.txt', sep = \",\")\n",
    "\n",
    "stop_times = pd.read_csv('data/timetables/gtfs3Sept/stop_times.txt', sep = \",\")\n",
    "\n",
    "routes = pd.read_csv('data/timetables/gtfs3Sept/routes.txt', sep = \",\")"
   ]
  },
  {
   "cell_type": "code",
   "execution_count": null,
   "metadata": {},
   "outputs": [],
   "source": [
    "stop = stops.head(1).to_dict(orient=\"records\")[0]\n",
    "stop"
   ]
  },
  {
   "cell_type": "code",
   "execution_count": null,
   "metadata": {},
   "outputs": [],
   "source": [
    "stop_times_stop = stop_times.merge(\n",
    "    stops,\n",
    "    \"left\",\n",
    "    \"stop_id\"\n",
    ")"
   ]
  },
  {
   "cell_type": "code",
   "execution_count": null,
   "metadata": {},
   "outputs": [],
   "source": [
    "stop_times_stop = stop_times_stop[stop_times_stop.stop_id == stop.get(\"stop_id\")]\n",
    "stop_times_stop"
   ]
  },
  {
   "cell_type": "code",
   "execution_count": null,
   "metadata": {},
   "outputs": [],
   "source": [
    "stop_times_with_trips = stop_times_stop.merge(\n",
    "    trips,\n",
    "    \"left\",\n",
    "    \"trip_id\"\n",
    ")\n",
    "route_id = stop_times_with_trips.head(1).to_dict(\"records\")[0].get(\"route_id\")"
   ]
  },
  {
   "cell_type": "code",
   "execution_count": null,
   "metadata": {},
   "outputs": [],
   "source": [
    "stop_times_with_trips = stop_times_with_trips[stop_times_with_trips.route_id == route_id]\n",
    "stop_times_with_trips"
   ]
  },
  {
   "cell_type": "code",
   "execution_count": null,
   "metadata": {},
   "outputs": [],
   "source": [
    "# Fix direction\n",
    "direction_id = stop_times_with_trips.head(1).to_dict(\"records\")[0].get(\"direction_id\")\n",
    "\n",
    "# Fix Service\n",
    "service_id = stop_times_with_trips.head(1).to_dict(\"records\")[0].get(\"service_id\")\n",
    "\n",
    "print(direction_id, service_id)"
   ]
  },
  {
   "cell_type": "code",
   "execution_count": null,
   "metadata": {},
   "outputs": [],
   "source": [
    "stop_times_with_trips_stops = stop_times_with_trips[(stop_times_with_trips.direction_id == direction_id) & (stop_times_with_trips.service_id == service_id)]"
   ]
  },
  {
   "cell_type": "code",
   "execution_count": null,
   "metadata": {},
   "outputs": [],
   "source": [
    "time = stop_times_with_trips_stops[\"arrival_time\"].str.split(':', expand = True)\n",
    "t = time[0].astype(int) * 3600 + time[1].astype(int) * 60 + time[2].astype(int)\n",
    "stop_times_with_trips_stops[\"time_seconds\"] = t"
   ]
  },
  {
   "cell_type": "code",
   "execution_count": null,
   "metadata": {},
   "outputs": [],
   "source": [
    "stop_times_with_trips_stops = stop_times_with_trips_stops.sort_values(by=[\"time_seconds\"], ascending=True)"
   ]
  },
  {
   "cell_type": "code",
   "execution_count": null,
   "metadata": {},
   "outputs": [],
   "source": [
    "stop_times_with_trips_stops"
   ]
  },
  {
   "cell_type": "code",
   "execution_count": null,
   "metadata": {},
   "outputs": [],
   "source": [
    "stop_times_with_trips_stops[\"headway\"] = (stop_times_with_trips_stops.time_seconds.sort_values() - stop_times_with_trips_stops.time_seconds.sort_values().shift()) / 60"
   ]
  },
  {
   "cell_type": "code",
   "execution_count": null,
   "metadata": {},
   "outputs": [],
   "source": [
    "stop_times_with_trips_stops.sort_values(by=\"time_seconds\", ascending= True)[[\"trip_id\", \"arrival_time\",\"headway\", \"stop_name\", \"route_id\", \"service_id\", \"trip_headsign\"]]"
   ]
  },
  {
   "cell_type": "code",
   "execution_count": null,
   "metadata": {},
   "outputs": [],
   "source": [
    "import plotly.express as px\n",
    "fig = px.scatter(stop_times_with_trips_stops.sort_values(\"time_seconds\"), x=\"arrival_time\", y=\"headway\", color='headway',  marginal_y=\"histogram\", text=\"headway\")\n",
    "fig.show()"
   ]
  },
  {
   "cell_type": "markdown",
   "metadata": {},
   "source": [
    "# Clustering"
   ]
  },
  {
   "cell_type": "markdown",
   "metadata": {},
   "source": [
    "### Hierarchical agglomerative clustering \n",
    "<br> https://towardsdatascience.com/machine-learning-algorithms-part-12-hierarchical-agglomerative-clustering-example-in-python-1e18e0075019\n",
    "<br> https://scikit-learn.org/stable/modules/generated/sklearn.cluster.AgglomerativeClustering.html\n",
    "<br> https://analyticsindiamag.com/all-you-need-to-know-about-time-series-clustering/"
   ]
  },
  {
   "cell_type": "code",
   "execution_count": null,
   "metadata": {},
   "outputs": [],
   "source": [
    "import pandas as pd\n",
    "import numpy as np\n",
    "from matplotlib import pyplot as plt\n",
    "from sklearn.cluster import AgglomerativeClustering\n",
    "import scipy.cluster.hierarchy as sch"
   ]
  },
  {
   "cell_type": "code",
   "execution_count": null,
   "metadata": {},
   "outputs": [],
   "source": [
    "dataset = stop_times_with_trips_stops.sort_values(by=\"time_seconds\", ascending= True)[[\"trip_id\", \"time_seconds\",\"headway\", \"stop_name\", \"route_id\", \"service_id\", \"trip_headsign\"]]"
   ]
  },
  {
   "cell_type": "code",
   "execution_count": null,
   "metadata": {},
   "outputs": [],
   "source": [
    "dataset.fillna(0)"
   ]
  },
  {
   "cell_type": "code",
   "execution_count": null,
   "metadata": {},
   "outputs": [],
   "source": [
    "dataset[\"time_seconds\"] = dataset[\"time_seconds\"].fillna(0.0).astype(int)"
   ]
  },
  {
   "cell_type": "code",
   "execution_count": null,
   "metadata": {},
   "outputs": [],
   "source": [
    "dataset"
   ]
  },
  {
   "cell_type": "code",
   "execution_count": null,
   "metadata": {},
   "outputs": [],
   "source": [
    "data = dataset.iloc[:, [1, 2]].values"
   ]
  },
  {
   "cell_type": "code",
   "execution_count": null,
   "metadata": {},
   "outputs": [],
   "source": [
    "data "
   ]
  },
  {
   "cell_type": "code",
   "execution_count": null,
   "metadata": {},
   "outputs": [],
   "source": [
    "dendrogram = sch.dendrogram(sch.linkage(data, method='ward'))"
   ]
  },
  {
   "cell_type": "code",
   "execution_count": null,
   "metadata": {},
   "outputs": [],
   "source": [
    "model = AgglomerativeClustering(n_clusters= None,affinity='euclidean', linkage='ward', distance_threshold=10)\n",
    "model.fit(data)\n",
    "labels = model.labels_"
   ]
  },
  {
   "cell_type": "code",
   "execution_count": null,
   "metadata": {},
   "outputs": [],
   "source": [
    "plt.scatter(data[labels==0, 0], data[labels==0, 1], s=50, marker='o', color='red')\n",
    "plt.scatter(data[labels==1, 0], data[labels==1, 1], s=50, marker='o', color='blue')\n",
    "plt.scatter(data[labels==2, 0], data[labels==2, 1], s=50, marker='o', color='green')\n",
    "plt.scatter(data[labels==3, 0], data[labels==3, 1], s=50, marker='o', color='purple')\n",
    "plt.scatter(data[labels==4, 0], data[labels==4, 1], s=50, marker='o', color='orange')\n",
    "plt.show()"
   ]
  },
  {
   "cell_type": "markdown",
   "metadata": {},
   "source": [
    "éclaté enft "
   ]
  },
  {
   "cell_type": "markdown",
   "metadata": {},
   "source": []
  }
 ],
 "metadata": {
  "kernelspec": {
   "display_name": "Python 3.10.8 64-bit",
   "language": "python",
   "name": "python3"
  },
  "language_info": {
   "codemirror_mode": {
    "name": "ipython",
    "version": 3
   },
   "file_extension": ".py",
   "mimetype": "text/x-python",
   "name": "python",
   "nbconvert_exporter": "python",
   "pygments_lexer": "ipython3",
   "version": "3.10.8"
  },
  "orig_nbformat": 4,
  "vscode": {
   "interpreter": {
    "hash": "b0fa6594d8f4cbf19f97940f81e996739fb7646882a419484c72d19e05852a7e"
   }
  }
 },
 "nbformat": 4,
 "nbformat_minor": 2
}
