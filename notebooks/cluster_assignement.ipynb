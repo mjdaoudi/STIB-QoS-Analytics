{
 "cells": [
  {
   "cell_type": "markdown",
   "metadata": {},
   "source": [
    "# Cluster Assignement"
   ]
  },
  {
   "cell_type": "code",
   "execution_count": 2,
   "metadata": {},
   "outputs": [],
   "source": [
    "import pandas as pd\n",
    "import numpy as np\n",
    "import plotly.express as px\n",
    "from itertools import groupby\n",
    "import matplotlib.pyplot as plt\n",
    "from custom_functions.gtfs_methods import get_schedule\n",
    "import ruptures as rpt \n",
    "pd.set_option('display.max_columns', None)"
   ]
  },
  {
   "cell_type": "code",
   "execution_count": 3,
   "metadata": {},
   "outputs": [],
   "source": [
    "headway_t = pd.read_pickle(\"data/computed/theoretical_schedule.pkl\")\n",
    "\n",
    "calendar_dates = pd.read_csv('data/timetables/gtfs3Sept/calendar_dates.txt', sep = \",\")\n",
    "calendar = pd.read_csv('data/timetables/gtfs3Sept/calendar.txt', sep = \",\")\n",
    "trips = pd.read_csv('data/timetables/gtfs3Sept/trips.txt', sep = \",\")\n",
    "stops = pd.read_csv('data/timetables/gtfs3Sept/stops.txt', sep = \",\")\n",
    "stop_times = pd.read_csv('data/timetables/gtfs3Sept/stop_times.txt', sep = \",\")\n",
    "routes = pd.read_csv('data/timetables/gtfs3Sept/routes.txt', sep = \",\")"
   ]
  },
  {
   "cell_type": "code",
   "execution_count": 4,
   "metadata": {},
   "outputs": [],
   "source": [
    "sample_test = get_schedule(\n",
    "    headway_t,\n",
    "    stops,\n",
    "    25,\n",
    "    1,\n",
    "    stop_name= \"GEORGES HENRI\"\n",
    ")"
   ]
  },
  {
   "cell_type": "code",
   "execution_count": 5,
   "metadata": {},
   "outputs": [],
   "source": [
    "def segmentation_model(serie: pd.Series, penalty, model) -> list:\n",
    "    serie = np.array(serie.dropna().to_list())\n",
    "    PELT = rpt.Pelt(model = model).fit(serie)\n",
    "    PELT_res = PELT.predict(pen = penalty)\n",
    "    return PELT_res\n",
    "\n",
    "def cluster_assgnement(clusters:list[int]) -> list[int]:\n",
    "    clstrs = []\n",
    "    cluster_index = 0\n",
    "    for i in range(len(clusters)):\n",
    "        if i == 0:\n",
    "            clstrs.append([cluster_index for x in range(clusters[i])])\n",
    "        else:\n",
    "            clstrs.append([cluster_index for x in range(clusters[i-1], clusters[i])])\n",
    "        cluster_index += 1\n",
    "    clusters_flatten = [\"cluster_\" + str(0)]+ [\"cluster_\" + str(cl) for sublist in clstrs for cl in sublist]\n",
    "    return clusters_flatten\n",
    "\n",
    "def compute_clusters(timetable:pd.DataFrame, cluster_computation_col_name:str=\"headway_min\", cluster_col_name:str=\"clusters\", penalty:int=3, model:str=\"rbf\"):\n",
    "    breakpoints = segmentation_model(timetable.sort_values(by=\"time_seconds\")[cluster_computation_col_name], penalty, model)\n",
    "    temp = timetable.sort_values(by=\"time_seconds\")\n",
    "    temp[cluster_col_name] = cluster_assgnement(breakpoints)\n",
    "    return temp"
   ]
  },
  {
   "cell_type": "code",
   "execution_count": 6,
   "metadata": {},
   "outputs": [],
   "source": [
    "def assess_regularity(timetable:pd.DataFrame, threshold:int= 12, aggregation_method:str = \"median\", cluster_computation_col_name:str=\"headway_min\", cluster_col_name:str=\"clusters\", col_reg_name:str=\"regularity\") -> pd.DataFrame:\n",
    "    agg = timetable.groupby(cluster_col_name)[cluster_computation_col_name].agg(aggregation_method)\n",
    "    temp = timetable.merge(\n",
    "        agg,\n",
    "        \"left\",\n",
    "        cluster_col_name,   \n",
    "    ).rename(\n",
    "        columns={\n",
    "            cluster_computation_col_name + \"_x\" : cluster_computation_col_name,\n",
    "            cluster_computation_col_name + \"_y\" : \"cluster_agg_value\"\n",
    "        }\n",
    "    )\n",
    "    temp[col_reg_name] = np.where(\n",
    "        temp[\"cluster_agg_value\"] <= threshold,\n",
    "        1,\n",
    "        0\n",
    "    )\n",
    "    return temp"
   ]
  },
  {
   "cell_type": "code",
   "execution_count": 7,
   "metadata": {},
   "outputs": [],
   "source": [
    "sample_test_function = assess_regularity(compute_clusters(sample_test[0]))"
   ]
  },
  {
   "cell_type": "code",
   "execution_count": 8,
   "metadata": {},
   "outputs": [
    {
     "data": {
      "text/html": [
       "<div>\n",
       "<style scoped>\n",
       "    .dataframe tbody tr th:only-of-type {\n",
       "        vertical-align: middle;\n",
       "    }\n",
       "\n",
       "    .dataframe tbody tr th {\n",
       "        vertical-align: top;\n",
       "    }\n",
       "\n",
       "    .dataframe thead th {\n",
       "        text-align: right;\n",
       "    }\n",
       "</style>\n",
       "<table border=\"1\" class=\"dataframe\">\n",
       "  <thead>\n",
       "    <tr style=\"text-align: right;\">\n",
       "      <th></th>\n",
       "      <th>trip_id</th>\n",
       "      <th>arrival_time</th>\n",
       "      <th>departure_time</th>\n",
       "      <th>stop_id</th>\n",
       "      <th>stop_sequence</th>\n",
       "      <th>pickup_type</th>\n",
       "      <th>drop_off_type</th>\n",
       "      <th>stop_code</th>\n",
       "      <th>stop_name</th>\n",
       "      <th>stop_desc</th>\n",
       "      <th>stop_lat</th>\n",
       "      <th>stop_lon</th>\n",
       "      <th>zone_id</th>\n",
       "      <th>stop_url</th>\n",
       "      <th>location_type</th>\n",
       "      <th>parent_station</th>\n",
       "      <th>route_id</th>\n",
       "      <th>service_id</th>\n",
       "      <th>trip_headsign</th>\n",
       "      <th>direction_id</th>\n",
       "      <th>block_id</th>\n",
       "      <th>shape_id</th>\n",
       "      <th>route_short_name</th>\n",
       "      <th>route_long_name</th>\n",
       "      <th>route_desc</th>\n",
       "      <th>route_type</th>\n",
       "      <th>route_url</th>\n",
       "      <th>route_color</th>\n",
       "      <th>route_text_color</th>\n",
       "      <th>time_seconds</th>\n",
       "      <th>headway_min</th>\n",
       "      <th>clusters</th>\n",
       "      <th>cluster_agg_value</th>\n",
       "      <th>regularity</th>\n",
       "    </tr>\n",
       "  </thead>\n",
       "  <tbody>\n",
       "    <tr>\n",
       "      <th>0</th>\n",
       "      <td>113305249237261000</td>\n",
       "      <td>05:33:12</td>\n",
       "      <td>05:33:12</td>\n",
       "      <td>0811</td>\n",
       "      <td>7</td>\n",
       "      <td>0</td>\n",
       "      <td>0</td>\n",
       "      <td>NaN</td>\n",
       "      <td>GEORGES HENRI</td>\n",
       "      <td>NaN</td>\n",
       "      <td>50.843453</td>\n",
       "      <td>4.405598</td>\n",
       "      <td>NaN</td>\n",
       "      <td>NaN</td>\n",
       "      <td>0</td>\n",
       "      <td>69.0</td>\n",
       "      <td>25</td>\n",
       "      <td>237261000</td>\n",
       "      <td>BOONDAEL GARE</td>\n",
       "      <td>1</td>\n",
       "      <td>8943276</td>\n",
       "      <td>025t0277</td>\n",
       "      <td>25</td>\n",
       "      <td>BOONDAEL GARE - ROGIER</td>\n",
       "      <td>NaN</td>\n",
       "      <td>0</td>\n",
       "      <td>NaN</td>\n",
       "      <td>991F36</td>\n",
       "      <td>FFFFFF</td>\n",
       "      <td>19992</td>\n",
       "      <td>NaN</td>\n",
       "      <td>cluster_0</td>\n",
       "      <td>8.0</td>\n",
       "      <td>1</td>\n",
       "    </tr>\n",
       "    <tr>\n",
       "      <th>1</th>\n",
       "      <td>113305269237261000</td>\n",
       "      <td>05:49:12</td>\n",
       "      <td>05:49:12</td>\n",
       "      <td>0811</td>\n",
       "      <td>7</td>\n",
       "      <td>0</td>\n",
       "      <td>0</td>\n",
       "      <td>NaN</td>\n",
       "      <td>GEORGES HENRI</td>\n",
       "      <td>NaN</td>\n",
       "      <td>50.843453</td>\n",
       "      <td>4.405598</td>\n",
       "      <td>NaN</td>\n",
       "      <td>NaN</td>\n",
       "      <td>0</td>\n",
       "      <td>69.0</td>\n",
       "      <td>25</td>\n",
       "      <td>237261000</td>\n",
       "      <td>BOONDAEL GARE</td>\n",
       "      <td>1</td>\n",
       "      <td>8942438</td>\n",
       "      <td>025t0277</td>\n",
       "      <td>25</td>\n",
       "      <td>BOONDAEL GARE - ROGIER</td>\n",
       "      <td>NaN</td>\n",
       "      <td>0</td>\n",
       "      <td>NaN</td>\n",
       "      <td>991F36</td>\n",
       "      <td>FFFFFF</td>\n",
       "      <td>20952</td>\n",
       "      <td>16.0</td>\n",
       "      <td>cluster_0</td>\n",
       "      <td>8.0</td>\n",
       "      <td>1</td>\n",
       "    </tr>\n",
       "    <tr>\n",
       "      <th>2</th>\n",
       "      <td>113305200237261000</td>\n",
       "      <td>06:08:12</td>\n",
       "      <td>06:08:12</td>\n",
       "      <td>0811</td>\n",
       "      <td>7</td>\n",
       "      <td>0</td>\n",
       "      <td>0</td>\n",
       "      <td>NaN</td>\n",
       "      <td>GEORGES HENRI</td>\n",
       "      <td>NaN</td>\n",
       "      <td>50.843453</td>\n",
       "      <td>4.405598</td>\n",
       "      <td>NaN</td>\n",
       "      <td>NaN</td>\n",
       "      <td>0</td>\n",
       "      <td>69.0</td>\n",
       "      <td>25</td>\n",
       "      <td>237261000</td>\n",
       "      <td>BOONDAEL GARE</td>\n",
       "      <td>1</td>\n",
       "      <td>8942437</td>\n",
       "      <td>025t0277</td>\n",
       "      <td>25</td>\n",
       "      <td>BOONDAEL GARE - ROGIER</td>\n",
       "      <td>NaN</td>\n",
       "      <td>0</td>\n",
       "      <td>NaN</td>\n",
       "      <td>991F36</td>\n",
       "      <td>FFFFFF</td>\n",
       "      <td>22092</td>\n",
       "      <td>19.0</td>\n",
       "      <td>cluster_0</td>\n",
       "      <td>8.0</td>\n",
       "      <td>1</td>\n",
       "    </tr>\n",
       "    <tr>\n",
       "      <th>3</th>\n",
       "      <td>113306701237261000</td>\n",
       "      <td>06:16:12</td>\n",
       "      <td>06:16:12</td>\n",
       "      <td>0811</td>\n",
       "      <td>7</td>\n",
       "      <td>0</td>\n",
       "      <td>0</td>\n",
       "      <td>NaN</td>\n",
       "      <td>GEORGES HENRI</td>\n",
       "      <td>NaN</td>\n",
       "      <td>50.843453</td>\n",
       "      <td>4.405598</td>\n",
       "      <td>NaN</td>\n",
       "      <td>NaN</td>\n",
       "      <td>0</td>\n",
       "      <td>69.0</td>\n",
       "      <td>25</td>\n",
       "      <td>237261000</td>\n",
       "      <td>BOONDAEL GARE</td>\n",
       "      <td>1</td>\n",
       "      <td>8943486</td>\n",
       "      <td>025t0277</td>\n",
       "      <td>25</td>\n",
       "      <td>BOONDAEL GARE - ROGIER</td>\n",
       "      <td>NaN</td>\n",
       "      <td>0</td>\n",
       "      <td>NaN</td>\n",
       "      <td>991F36</td>\n",
       "      <td>FFFFFF</td>\n",
       "      <td>22572</td>\n",
       "      <td>8.0</td>\n",
       "      <td>cluster_0</td>\n",
       "      <td>8.0</td>\n",
       "      <td>1</td>\n",
       "    </tr>\n",
       "    <tr>\n",
       "      <th>4</th>\n",
       "      <td>113306702237261000</td>\n",
       "      <td>06:24:12</td>\n",
       "      <td>06:24:12</td>\n",
       "      <td>0811</td>\n",
       "      <td>7</td>\n",
       "      <td>0</td>\n",
       "      <td>0</td>\n",
       "      <td>NaN</td>\n",
       "      <td>GEORGES HENRI</td>\n",
       "      <td>NaN</td>\n",
       "      <td>50.843453</td>\n",
       "      <td>4.405598</td>\n",
       "      <td>NaN</td>\n",
       "      <td>NaN</td>\n",
       "      <td>0</td>\n",
       "      <td>69.0</td>\n",
       "      <td>25</td>\n",
       "      <td>237261000</td>\n",
       "      <td>BOONDAEL GARE</td>\n",
       "      <td>1</td>\n",
       "      <td>8942439</td>\n",
       "      <td>025t0277</td>\n",
       "      <td>25</td>\n",
       "      <td>BOONDAEL GARE - ROGIER</td>\n",
       "      <td>NaN</td>\n",
       "      <td>0</td>\n",
       "      <td>NaN</td>\n",
       "      <td>991F36</td>\n",
       "      <td>FFFFFF</td>\n",
       "      <td>23052</td>\n",
       "      <td>8.0</td>\n",
       "      <td>cluster_0</td>\n",
       "      <td>8.0</td>\n",
       "      <td>1</td>\n",
       "    </tr>\n",
       "    <tr>\n",
       "      <th>...</th>\n",
       "      <td>...</td>\n",
       "      <td>...</td>\n",
       "      <td>...</td>\n",
       "      <td>...</td>\n",
       "      <td>...</td>\n",
       "      <td>...</td>\n",
       "      <td>...</td>\n",
       "      <td>...</td>\n",
       "      <td>...</td>\n",
       "      <td>...</td>\n",
       "      <td>...</td>\n",
       "      <td>...</td>\n",
       "      <td>...</td>\n",
       "      <td>...</td>\n",
       "      <td>...</td>\n",
       "      <td>...</td>\n",
       "      <td>...</td>\n",
       "      <td>...</td>\n",
       "      <td>...</td>\n",
       "      <td>...</td>\n",
       "      <td>...</td>\n",
       "      <td>...</td>\n",
       "      <td>...</td>\n",
       "      <td>...</td>\n",
       "      <td>...</td>\n",
       "      <td>...</td>\n",
       "      <td>...</td>\n",
       "      <td>...</td>\n",
       "      <td>...</td>\n",
       "      <td>...</td>\n",
       "      <td>...</td>\n",
       "      <td>...</td>\n",
       "      <td>...</td>\n",
       "      <td>...</td>\n",
       "    </tr>\n",
       "    <tr>\n",
       "      <th>141</th>\n",
       "      <td>113305274237261000</td>\n",
       "      <td>24:11:12</td>\n",
       "      <td>24:11:12</td>\n",
       "      <td>0811</td>\n",
       "      <td>7</td>\n",
       "      <td>0</td>\n",
       "      <td>0</td>\n",
       "      <td>NaN</td>\n",
       "      <td>GEORGES HENRI</td>\n",
       "      <td>NaN</td>\n",
       "      <td>50.843453</td>\n",
       "      <td>4.405598</td>\n",
       "      <td>NaN</td>\n",
       "      <td>NaN</td>\n",
       "      <td>0</td>\n",
       "      <td>69.0</td>\n",
       "      <td>25</td>\n",
       "      <td>237261000</td>\n",
       "      <td>BOONDAEL GARE</td>\n",
       "      <td>1</td>\n",
       "      <td>8943331</td>\n",
       "      <td>025t0277</td>\n",
       "      <td>25</td>\n",
       "      <td>BOONDAEL GARE - ROGIER</td>\n",
       "      <td>NaN</td>\n",
       "      <td>0</td>\n",
       "      <td>NaN</td>\n",
       "      <td>991F36</td>\n",
       "      <td>FFFFFF</td>\n",
       "      <td>87072</td>\n",
       "      <td>15.0</td>\n",
       "      <td>cluster_5</td>\n",
       "      <td>15.0</td>\n",
       "      <td>0</td>\n",
       "    </tr>\n",
       "    <tr>\n",
       "      <th>142</th>\n",
       "      <td>113305367237261000</td>\n",
       "      <td>24:26:12</td>\n",
       "      <td>24:26:12</td>\n",
       "      <td>0811</td>\n",
       "      <td>7</td>\n",
       "      <td>0</td>\n",
       "      <td>0</td>\n",
       "      <td>NaN</td>\n",
       "      <td>GEORGES HENRI</td>\n",
       "      <td>NaN</td>\n",
       "      <td>50.843453</td>\n",
       "      <td>4.405598</td>\n",
       "      <td>NaN</td>\n",
       "      <td>NaN</td>\n",
       "      <td>0</td>\n",
       "      <td>69.0</td>\n",
       "      <td>25</td>\n",
       "      <td>237261000</td>\n",
       "      <td>BOONDAEL GARE</td>\n",
       "      <td>1</td>\n",
       "      <td>8943276</td>\n",
       "      <td>025t0277</td>\n",
       "      <td>25</td>\n",
       "      <td>BOONDAEL GARE - ROGIER</td>\n",
       "      <td>NaN</td>\n",
       "      <td>0</td>\n",
       "      <td>NaN</td>\n",
       "      <td>991F36</td>\n",
       "      <td>FFFFFF</td>\n",
       "      <td>87972</td>\n",
       "      <td>15.0</td>\n",
       "      <td>cluster_5</td>\n",
       "      <td>15.0</td>\n",
       "      <td>0</td>\n",
       "    </tr>\n",
       "    <tr>\n",
       "      <th>143</th>\n",
       "      <td>113305262237261000</td>\n",
       "      <td>24:38:12</td>\n",
       "      <td>24:38:12</td>\n",
       "      <td>0811</td>\n",
       "      <td>7</td>\n",
       "      <td>0</td>\n",
       "      <td>0</td>\n",
       "      <td>NaN</td>\n",
       "      <td>GEORGES HENRI</td>\n",
       "      <td>NaN</td>\n",
       "      <td>50.843453</td>\n",
       "      <td>4.405598</td>\n",
       "      <td>NaN</td>\n",
       "      <td>NaN</td>\n",
       "      <td>0</td>\n",
       "      <td>69.0</td>\n",
       "      <td>25</td>\n",
       "      <td>237261000</td>\n",
       "      <td>BUYL</td>\n",
       "      <td>1</td>\n",
       "      <td>8942438</td>\n",
       "      <td>025t0275</td>\n",
       "      <td>25</td>\n",
       "      <td>BOONDAEL GARE - ROGIER</td>\n",
       "      <td>NaN</td>\n",
       "      <td>0</td>\n",
       "      <td>NaN</td>\n",
       "      <td>991F36</td>\n",
       "      <td>FFFFFF</td>\n",
       "      <td>88692</td>\n",
       "      <td>12.0</td>\n",
       "      <td>cluster_5</td>\n",
       "      <td>15.0</td>\n",
       "      <td>0</td>\n",
       "    </tr>\n",
       "    <tr>\n",
       "      <th>144</th>\n",
       "      <td>113305368237261000</td>\n",
       "      <td>24:46:12</td>\n",
       "      <td>24:46:12</td>\n",
       "      <td>0811</td>\n",
       "      <td>7</td>\n",
       "      <td>0</td>\n",
       "      <td>0</td>\n",
       "      <td>NaN</td>\n",
       "      <td>GEORGES HENRI</td>\n",
       "      <td>NaN</td>\n",
       "      <td>50.843453</td>\n",
       "      <td>4.405598</td>\n",
       "      <td>NaN</td>\n",
       "      <td>NaN</td>\n",
       "      <td>0</td>\n",
       "      <td>69.0</td>\n",
       "      <td>25</td>\n",
       "      <td>237261000</td>\n",
       "      <td>BOONDAEL GARE</td>\n",
       "      <td>1</td>\n",
       "      <td>8942437</td>\n",
       "      <td>025t0277</td>\n",
       "      <td>25</td>\n",
       "      <td>BOONDAEL GARE - ROGIER</td>\n",
       "      <td>NaN</td>\n",
       "      <td>0</td>\n",
       "      <td>NaN</td>\n",
       "      <td>991F36</td>\n",
       "      <td>FFFFFF</td>\n",
       "      <td>89172</td>\n",
       "      <td>8.0</td>\n",
       "      <td>cluster_5</td>\n",
       "      <td>15.0</td>\n",
       "      <td>0</td>\n",
       "    </tr>\n",
       "    <tr>\n",
       "      <th>145</th>\n",
       "      <td>113305281237261000</td>\n",
       "      <td>24:59:12</td>\n",
       "      <td>24:59:12</td>\n",
       "      <td>0811</td>\n",
       "      <td>7</td>\n",
       "      <td>0</td>\n",
       "      <td>0</td>\n",
       "      <td>NaN</td>\n",
       "      <td>GEORGES HENRI</td>\n",
       "      <td>NaN</td>\n",
       "      <td>50.843453</td>\n",
       "      <td>4.405598</td>\n",
       "      <td>NaN</td>\n",
       "      <td>NaN</td>\n",
       "      <td>0</td>\n",
       "      <td>69.0</td>\n",
       "      <td>25</td>\n",
       "      <td>237261000</td>\n",
       "      <td>BUYL</td>\n",
       "      <td>1</td>\n",
       "      <td>8942941</td>\n",
       "      <td>025t0275</td>\n",
       "      <td>25</td>\n",
       "      <td>BOONDAEL GARE - ROGIER</td>\n",
       "      <td>NaN</td>\n",
       "      <td>0</td>\n",
       "      <td>NaN</td>\n",
       "      <td>991F36</td>\n",
       "      <td>FFFFFF</td>\n",
       "      <td>89952</td>\n",
       "      <td>13.0</td>\n",
       "      <td>cluster_5</td>\n",
       "      <td>15.0</td>\n",
       "      <td>0</td>\n",
       "    </tr>\n",
       "  </tbody>\n",
       "</table>\n",
       "<p>146 rows × 34 columns</p>\n",
       "</div>"
      ],
      "text/plain": [
       "                trip_id arrival_time departure_time stop_id  stop_sequence  \\\n",
       "0    113305249237261000     05:33:12       05:33:12    0811              7   \n",
       "1    113305269237261000     05:49:12       05:49:12    0811              7   \n",
       "2    113305200237261000     06:08:12       06:08:12    0811              7   \n",
       "3    113306701237261000     06:16:12       06:16:12    0811              7   \n",
       "4    113306702237261000     06:24:12       06:24:12    0811              7   \n",
       "..                  ...          ...            ...     ...            ...   \n",
       "141  113305274237261000     24:11:12       24:11:12    0811              7   \n",
       "142  113305367237261000     24:26:12       24:26:12    0811              7   \n",
       "143  113305262237261000     24:38:12       24:38:12    0811              7   \n",
       "144  113305368237261000     24:46:12       24:46:12    0811              7   \n",
       "145  113305281237261000     24:59:12       24:59:12    0811              7   \n",
       "\n",
       "     pickup_type  drop_off_type  stop_code      stop_name  stop_desc  \\\n",
       "0              0              0        NaN  GEORGES HENRI        NaN   \n",
       "1              0              0        NaN  GEORGES HENRI        NaN   \n",
       "2              0              0        NaN  GEORGES HENRI        NaN   \n",
       "3              0              0        NaN  GEORGES HENRI        NaN   \n",
       "4              0              0        NaN  GEORGES HENRI        NaN   \n",
       "..           ...            ...        ...            ...        ...   \n",
       "141            0              0        NaN  GEORGES HENRI        NaN   \n",
       "142            0              0        NaN  GEORGES HENRI        NaN   \n",
       "143            0              0        NaN  GEORGES HENRI        NaN   \n",
       "144            0              0        NaN  GEORGES HENRI        NaN   \n",
       "145            0              0        NaN  GEORGES HENRI        NaN   \n",
       "\n",
       "      stop_lat  stop_lon  zone_id  stop_url  location_type  parent_station  \\\n",
       "0    50.843453  4.405598      NaN       NaN              0            69.0   \n",
       "1    50.843453  4.405598      NaN       NaN              0            69.0   \n",
       "2    50.843453  4.405598      NaN       NaN              0            69.0   \n",
       "3    50.843453  4.405598      NaN       NaN              0            69.0   \n",
       "4    50.843453  4.405598      NaN       NaN              0            69.0   \n",
       "..         ...       ...      ...       ...            ...             ...   \n",
       "141  50.843453  4.405598      NaN       NaN              0            69.0   \n",
       "142  50.843453  4.405598      NaN       NaN              0            69.0   \n",
       "143  50.843453  4.405598      NaN       NaN              0            69.0   \n",
       "144  50.843453  4.405598      NaN       NaN              0            69.0   \n",
       "145  50.843453  4.405598      NaN       NaN              0            69.0   \n",
       "\n",
       "     route_id  service_id  trip_headsign  direction_id  block_id  shape_id  \\\n",
       "0          25   237261000  BOONDAEL GARE             1   8943276  025t0277   \n",
       "1          25   237261000  BOONDAEL GARE             1   8942438  025t0277   \n",
       "2          25   237261000  BOONDAEL GARE             1   8942437  025t0277   \n",
       "3          25   237261000  BOONDAEL GARE             1   8943486  025t0277   \n",
       "4          25   237261000  BOONDAEL GARE             1   8942439  025t0277   \n",
       "..        ...         ...            ...           ...       ...       ...   \n",
       "141        25   237261000  BOONDAEL GARE             1   8943331  025t0277   \n",
       "142        25   237261000  BOONDAEL GARE             1   8943276  025t0277   \n",
       "143        25   237261000           BUYL             1   8942438  025t0275   \n",
       "144        25   237261000  BOONDAEL GARE             1   8942437  025t0277   \n",
       "145        25   237261000           BUYL             1   8942941  025t0275   \n",
       "\n",
       "    route_short_name         route_long_name  route_desc  route_type  \\\n",
       "0                 25  BOONDAEL GARE - ROGIER         NaN           0   \n",
       "1                 25  BOONDAEL GARE - ROGIER         NaN           0   \n",
       "2                 25  BOONDAEL GARE - ROGIER         NaN           0   \n",
       "3                 25  BOONDAEL GARE - ROGIER         NaN           0   \n",
       "4                 25  BOONDAEL GARE - ROGIER         NaN           0   \n",
       "..               ...                     ...         ...         ...   \n",
       "141               25  BOONDAEL GARE - ROGIER         NaN           0   \n",
       "142               25  BOONDAEL GARE - ROGIER         NaN           0   \n",
       "143               25  BOONDAEL GARE - ROGIER         NaN           0   \n",
       "144               25  BOONDAEL GARE - ROGIER         NaN           0   \n",
       "145               25  BOONDAEL GARE - ROGIER         NaN           0   \n",
       "\n",
       "     route_url route_color route_text_color  time_seconds  headway_min  \\\n",
       "0          NaN      991F36           FFFFFF         19992          NaN   \n",
       "1          NaN      991F36           FFFFFF         20952         16.0   \n",
       "2          NaN      991F36           FFFFFF         22092         19.0   \n",
       "3          NaN      991F36           FFFFFF         22572          8.0   \n",
       "4          NaN      991F36           FFFFFF         23052          8.0   \n",
       "..         ...         ...              ...           ...          ...   \n",
       "141        NaN      991F36           FFFFFF         87072         15.0   \n",
       "142        NaN      991F36           FFFFFF         87972         15.0   \n",
       "143        NaN      991F36           FFFFFF         88692         12.0   \n",
       "144        NaN      991F36           FFFFFF         89172          8.0   \n",
       "145        NaN      991F36           FFFFFF         89952         13.0   \n",
       "\n",
       "      clusters  cluster_agg_value  regularity  \n",
       "0    cluster_0                8.0           1  \n",
       "1    cluster_0                8.0           1  \n",
       "2    cluster_0                8.0           1  \n",
       "3    cluster_0                8.0           1  \n",
       "4    cluster_0                8.0           1  \n",
       "..         ...                ...         ...  \n",
       "141  cluster_5               15.0           0  \n",
       "142  cluster_5               15.0           0  \n",
       "143  cluster_5               15.0           0  \n",
       "144  cluster_5               15.0           0  \n",
       "145  cluster_5               15.0           0  \n",
       "\n",
       "[146 rows x 34 columns]"
      ]
     },
     "execution_count": 8,
     "metadata": {},
     "output_type": "execute_result"
    }
   ],
   "source": [
    "sample_test_function"
   ]
  },
  {
   "cell_type": "code",
   "execution_count": 7,
   "metadata": {},
   "outputs": [
    {
     "data": {
      "application/vnd.plotly.v1+json": {
       "config": {
        "plotlyServerURL": "https://plot.ly"
       },
       "data": [
        {
         "hovertemplate": "x=%{x}<br>y=%{y}<extra></extra>",
         "legendgroup": "",
         "marker": {
          "color": "#636efa",
          "symbol": "circle"
         },
         "mode": "markers",
         "name": "",
         "orientation": "v",
         "showlegend": false,
         "type": "scatter",
         "x": [
          0,
          1,
          2,
          3,
          4,
          5,
          6,
          7,
          8,
          9,
          10,
          11,
          12,
          13,
          14,
          15,
          16,
          17,
          18,
          19,
          20,
          21,
          22,
          23,
          24,
          25,
          26,
          27,
          28,
          29,
          30,
          31,
          32,
          33,
          34,
          35,
          36,
          37,
          38,
          39,
          40,
          41,
          42,
          43,
          44,
          45,
          46,
          47,
          48,
          49,
          50,
          51,
          52,
          53,
          54,
          55,
          56,
          57,
          58,
          59,
          60,
          61,
          62,
          63,
          64,
          65,
          66,
          67,
          68,
          69,
          70,
          71,
          72,
          73,
          74,
          75,
          76,
          77,
          78,
          79,
          80,
          81,
          82,
          83,
          84,
          85,
          86,
          87,
          88,
          89,
          90,
          91,
          92,
          93,
          94,
          95,
          96,
          97,
          98,
          99,
          100,
          101,
          102,
          103,
          104,
          105,
          106,
          107,
          108,
          109,
          110,
          111,
          112,
          113,
          114,
          115,
          116,
          117,
          118,
          119,
          120,
          121,
          122,
          123,
          124,
          125,
          126,
          127,
          128,
          129,
          130,
          131,
          132,
          133,
          134,
          135,
          136,
          137,
          138,
          139,
          140,
          141,
          142,
          143,
          144
         ],
         "xaxis": "x",
         "y": [
          16,
          19,
          8,
          8,
          8,
          9,
          8,
          6,
          2,
          8,
          6,
          6,
          6,
          6,
          6.65,
          7,
          6,
          7,
          6,
          6,
          6,
          6,
          7,
          7,
          7,
          7,
          6,
          11,
          7,
          6.35,
          6,
          6,
          6,
          7,
          7,
          7,
          7,
          7,
          8,
          8,
          8,
          8,
          8,
          8,
          8,
          8,
          8,
          8,
          8,
          8,
          8,
          8,
          8,
          8,
          8,
          8,
          8,
          8,
          8,
          8,
          8,
          8,
          8,
          8,
          8,
          8,
          8,
          8,
          8,
          8,
          8,
          8,
          8,
          8,
          7,
          8,
          7,
          7,
          5,
          5,
          6,
          8,
          7,
          6,
          6,
          6,
          6,
          6,
          6,
          6,
          6,
          6,
          6,
          6,
          6,
          6,
          6,
          6,
          6,
          6,
          6,
          6,
          6,
          6,
          6,
          6,
          6,
          6,
          7,
          7,
          7,
          5,
          4,
          9,
          11,
          6,
          4,
          9,
          5,
          5,
          9,
          5,
          7,
          10,
          4,
          9,
          12,
          12,
          13,
          15,
          16,
          16,
          15,
          15,
          15,
          15,
          15,
          15,
          15,
          15,
          15,
          15,
          12,
          8,
          13
         ],
         "yaxis": "y"
        }
       ],
       "layout": {
        "legend": {
         "tracegroupgap": 0
        },
        "margin": {
         "t": 60
        },
        "shapes": [
         {
          "type": "line",
          "x0": 10,
          "x1": 10,
          "xref": "x",
          "y0": 0,
          "y1": 1,
          "yref": "y domain"
         },
         {
          "type": "line",
          "x0": 35,
          "x1": 35,
          "xref": "x",
          "y0": 0,
          "y1": 1,
          "yref": "y domain"
         },
         {
          "type": "line",
          "x0": 75,
          "x1": 75,
          "xref": "x",
          "y0": 0,
          "y1": 1,
          "yref": "y domain"
         },
         {
          "type": "line",
          "x0": 110,
          "x1": 110,
          "xref": "x",
          "y0": 0,
          "y1": 1,
          "yref": "y domain"
         },
         {
          "type": "line",
          "x0": 125,
          "x1": 125,
          "xref": "x",
          "y0": 0,
          "y1": 1,
          "yref": "y domain"
         },
         {
          "type": "line",
          "x0": 145,
          "x1": 145,
          "xref": "x",
          "y0": 0,
          "y1": 1,
          "yref": "y domain"
         }
        ],
        "template": {
         "data": {
          "bar": [
           {
            "error_x": {
             "color": "#2a3f5f"
            },
            "error_y": {
             "color": "#2a3f5f"
            },
            "marker": {
             "line": {
              "color": "#E5ECF6",
              "width": 0.5
             },
             "pattern": {
              "fillmode": "overlay",
              "size": 10,
              "solidity": 0.2
             }
            },
            "type": "bar"
           }
          ],
          "barpolar": [
           {
            "marker": {
             "line": {
              "color": "#E5ECF6",
              "width": 0.5
             },
             "pattern": {
              "fillmode": "overlay",
              "size": 10,
              "solidity": 0.2
             }
            },
            "type": "barpolar"
           }
          ],
          "carpet": [
           {
            "aaxis": {
             "endlinecolor": "#2a3f5f",
             "gridcolor": "white",
             "linecolor": "white",
             "minorgridcolor": "white",
             "startlinecolor": "#2a3f5f"
            },
            "baxis": {
             "endlinecolor": "#2a3f5f",
             "gridcolor": "white",
             "linecolor": "white",
             "minorgridcolor": "white",
             "startlinecolor": "#2a3f5f"
            },
            "type": "carpet"
           }
          ],
          "choropleth": [
           {
            "colorbar": {
             "outlinewidth": 0,
             "ticks": ""
            },
            "type": "choropleth"
           }
          ],
          "contour": [
           {
            "colorbar": {
             "outlinewidth": 0,
             "ticks": ""
            },
            "colorscale": [
             [
              0,
              "#0d0887"
             ],
             [
              0.1111111111111111,
              "#46039f"
             ],
             [
              0.2222222222222222,
              "#7201a8"
             ],
             [
              0.3333333333333333,
              "#9c179e"
             ],
             [
              0.4444444444444444,
              "#bd3786"
             ],
             [
              0.5555555555555556,
              "#d8576b"
             ],
             [
              0.6666666666666666,
              "#ed7953"
             ],
             [
              0.7777777777777778,
              "#fb9f3a"
             ],
             [
              0.8888888888888888,
              "#fdca26"
             ],
             [
              1,
              "#f0f921"
             ]
            ],
            "type": "contour"
           }
          ],
          "contourcarpet": [
           {
            "colorbar": {
             "outlinewidth": 0,
             "ticks": ""
            },
            "type": "contourcarpet"
           }
          ],
          "heatmap": [
           {
            "colorbar": {
             "outlinewidth": 0,
             "ticks": ""
            },
            "colorscale": [
             [
              0,
              "#0d0887"
             ],
             [
              0.1111111111111111,
              "#46039f"
             ],
             [
              0.2222222222222222,
              "#7201a8"
             ],
             [
              0.3333333333333333,
              "#9c179e"
             ],
             [
              0.4444444444444444,
              "#bd3786"
             ],
             [
              0.5555555555555556,
              "#d8576b"
             ],
             [
              0.6666666666666666,
              "#ed7953"
             ],
             [
              0.7777777777777778,
              "#fb9f3a"
             ],
             [
              0.8888888888888888,
              "#fdca26"
             ],
             [
              1,
              "#f0f921"
             ]
            ],
            "type": "heatmap"
           }
          ],
          "heatmapgl": [
           {
            "colorbar": {
             "outlinewidth": 0,
             "ticks": ""
            },
            "colorscale": [
             [
              0,
              "#0d0887"
             ],
             [
              0.1111111111111111,
              "#46039f"
             ],
             [
              0.2222222222222222,
              "#7201a8"
             ],
             [
              0.3333333333333333,
              "#9c179e"
             ],
             [
              0.4444444444444444,
              "#bd3786"
             ],
             [
              0.5555555555555556,
              "#d8576b"
             ],
             [
              0.6666666666666666,
              "#ed7953"
             ],
             [
              0.7777777777777778,
              "#fb9f3a"
             ],
             [
              0.8888888888888888,
              "#fdca26"
             ],
             [
              1,
              "#f0f921"
             ]
            ],
            "type": "heatmapgl"
           }
          ],
          "histogram": [
           {
            "marker": {
             "pattern": {
              "fillmode": "overlay",
              "size": 10,
              "solidity": 0.2
             }
            },
            "type": "histogram"
           }
          ],
          "histogram2d": [
           {
            "colorbar": {
             "outlinewidth": 0,
             "ticks": ""
            },
            "colorscale": [
             [
              0,
              "#0d0887"
             ],
             [
              0.1111111111111111,
              "#46039f"
             ],
             [
              0.2222222222222222,
              "#7201a8"
             ],
             [
              0.3333333333333333,
              "#9c179e"
             ],
             [
              0.4444444444444444,
              "#bd3786"
             ],
             [
              0.5555555555555556,
              "#d8576b"
             ],
             [
              0.6666666666666666,
              "#ed7953"
             ],
             [
              0.7777777777777778,
              "#fb9f3a"
             ],
             [
              0.8888888888888888,
              "#fdca26"
             ],
             [
              1,
              "#f0f921"
             ]
            ],
            "type": "histogram2d"
           }
          ],
          "histogram2dcontour": [
           {
            "colorbar": {
             "outlinewidth": 0,
             "ticks": ""
            },
            "colorscale": [
             [
              0,
              "#0d0887"
             ],
             [
              0.1111111111111111,
              "#46039f"
             ],
             [
              0.2222222222222222,
              "#7201a8"
             ],
             [
              0.3333333333333333,
              "#9c179e"
             ],
             [
              0.4444444444444444,
              "#bd3786"
             ],
             [
              0.5555555555555556,
              "#d8576b"
             ],
             [
              0.6666666666666666,
              "#ed7953"
             ],
             [
              0.7777777777777778,
              "#fb9f3a"
             ],
             [
              0.8888888888888888,
              "#fdca26"
             ],
             [
              1,
              "#f0f921"
             ]
            ],
            "type": "histogram2dcontour"
           }
          ],
          "mesh3d": [
           {
            "colorbar": {
             "outlinewidth": 0,
             "ticks": ""
            },
            "type": "mesh3d"
           }
          ],
          "parcoords": [
           {
            "line": {
             "colorbar": {
              "outlinewidth": 0,
              "ticks": ""
             }
            },
            "type": "parcoords"
           }
          ],
          "pie": [
           {
            "automargin": true,
            "type": "pie"
           }
          ],
          "scatter": [
           {
            "marker": {
             "colorbar": {
              "outlinewidth": 0,
              "ticks": ""
             }
            },
            "type": "scatter"
           }
          ],
          "scatter3d": [
           {
            "line": {
             "colorbar": {
              "outlinewidth": 0,
              "ticks": ""
             }
            },
            "marker": {
             "colorbar": {
              "outlinewidth": 0,
              "ticks": ""
             }
            },
            "type": "scatter3d"
           }
          ],
          "scattercarpet": [
           {
            "marker": {
             "colorbar": {
              "outlinewidth": 0,
              "ticks": ""
             }
            },
            "type": "scattercarpet"
           }
          ],
          "scattergeo": [
           {
            "marker": {
             "colorbar": {
              "outlinewidth": 0,
              "ticks": ""
             }
            },
            "type": "scattergeo"
           }
          ],
          "scattergl": [
           {
            "marker": {
             "colorbar": {
              "outlinewidth": 0,
              "ticks": ""
             }
            },
            "type": "scattergl"
           }
          ],
          "scattermapbox": [
           {
            "marker": {
             "colorbar": {
              "outlinewidth": 0,
              "ticks": ""
             }
            },
            "type": "scattermapbox"
           }
          ],
          "scatterpolar": [
           {
            "marker": {
             "colorbar": {
              "outlinewidth": 0,
              "ticks": ""
             }
            },
            "type": "scatterpolar"
           }
          ],
          "scatterpolargl": [
           {
            "marker": {
             "colorbar": {
              "outlinewidth": 0,
              "ticks": ""
             }
            },
            "type": "scatterpolargl"
           }
          ],
          "scatterternary": [
           {
            "marker": {
             "colorbar": {
              "outlinewidth": 0,
              "ticks": ""
             }
            },
            "type": "scatterternary"
           }
          ],
          "surface": [
           {
            "colorbar": {
             "outlinewidth": 0,
             "ticks": ""
            },
            "colorscale": [
             [
              0,
              "#0d0887"
             ],
             [
              0.1111111111111111,
              "#46039f"
             ],
             [
              0.2222222222222222,
              "#7201a8"
             ],
             [
              0.3333333333333333,
              "#9c179e"
             ],
             [
              0.4444444444444444,
              "#bd3786"
             ],
             [
              0.5555555555555556,
              "#d8576b"
             ],
             [
              0.6666666666666666,
              "#ed7953"
             ],
             [
              0.7777777777777778,
              "#fb9f3a"
             ],
             [
              0.8888888888888888,
              "#fdca26"
             ],
             [
              1,
              "#f0f921"
             ]
            ],
            "type": "surface"
           }
          ],
          "table": [
           {
            "cells": {
             "fill": {
              "color": "#EBF0F8"
             },
             "line": {
              "color": "white"
             }
            },
            "header": {
             "fill": {
              "color": "#C8D4E3"
             },
             "line": {
              "color": "white"
             }
            },
            "type": "table"
           }
          ]
         },
         "layout": {
          "annotationdefaults": {
           "arrowcolor": "#2a3f5f",
           "arrowhead": 0,
           "arrowwidth": 1
          },
          "autotypenumbers": "strict",
          "coloraxis": {
           "colorbar": {
            "outlinewidth": 0,
            "ticks": ""
           }
          },
          "colorscale": {
           "diverging": [
            [
             0,
             "#8e0152"
            ],
            [
             0.1,
             "#c51b7d"
            ],
            [
             0.2,
             "#de77ae"
            ],
            [
             0.3,
             "#f1b6da"
            ],
            [
             0.4,
             "#fde0ef"
            ],
            [
             0.5,
             "#f7f7f7"
            ],
            [
             0.6,
             "#e6f5d0"
            ],
            [
             0.7,
             "#b8e186"
            ],
            [
             0.8,
             "#7fbc41"
            ],
            [
             0.9,
             "#4d9221"
            ],
            [
             1,
             "#276419"
            ]
           ],
           "sequential": [
            [
             0,
             "#0d0887"
            ],
            [
             0.1111111111111111,
             "#46039f"
            ],
            [
             0.2222222222222222,
             "#7201a8"
            ],
            [
             0.3333333333333333,
             "#9c179e"
            ],
            [
             0.4444444444444444,
             "#bd3786"
            ],
            [
             0.5555555555555556,
             "#d8576b"
            ],
            [
             0.6666666666666666,
             "#ed7953"
            ],
            [
             0.7777777777777778,
             "#fb9f3a"
            ],
            [
             0.8888888888888888,
             "#fdca26"
            ],
            [
             1,
             "#f0f921"
            ]
           ],
           "sequentialminus": [
            [
             0,
             "#0d0887"
            ],
            [
             0.1111111111111111,
             "#46039f"
            ],
            [
             0.2222222222222222,
             "#7201a8"
            ],
            [
             0.3333333333333333,
             "#9c179e"
            ],
            [
             0.4444444444444444,
             "#bd3786"
            ],
            [
             0.5555555555555556,
             "#d8576b"
            ],
            [
             0.6666666666666666,
             "#ed7953"
            ],
            [
             0.7777777777777778,
             "#fb9f3a"
            ],
            [
             0.8888888888888888,
             "#fdca26"
            ],
            [
             1,
             "#f0f921"
            ]
           ]
          },
          "colorway": [
           "#636efa",
           "#EF553B",
           "#00cc96",
           "#ab63fa",
           "#FFA15A",
           "#19d3f3",
           "#FF6692",
           "#B6E880",
           "#FF97FF",
           "#FECB52"
          ],
          "font": {
           "color": "#2a3f5f"
          },
          "geo": {
           "bgcolor": "white",
           "lakecolor": "white",
           "landcolor": "#E5ECF6",
           "showlakes": true,
           "showland": true,
           "subunitcolor": "white"
          },
          "hoverlabel": {
           "align": "left"
          },
          "hovermode": "closest",
          "mapbox": {
           "style": "light"
          },
          "paper_bgcolor": "white",
          "plot_bgcolor": "#E5ECF6",
          "polar": {
           "angularaxis": {
            "gridcolor": "white",
            "linecolor": "white",
            "ticks": ""
           },
           "bgcolor": "#E5ECF6",
           "radialaxis": {
            "gridcolor": "white",
            "linecolor": "white",
            "ticks": ""
           }
          },
          "scene": {
           "xaxis": {
            "backgroundcolor": "#E5ECF6",
            "gridcolor": "white",
            "gridwidth": 2,
            "linecolor": "white",
            "showbackground": true,
            "ticks": "",
            "zerolinecolor": "white"
           },
           "yaxis": {
            "backgroundcolor": "#E5ECF6",
            "gridcolor": "white",
            "gridwidth": 2,
            "linecolor": "white",
            "showbackground": true,
            "ticks": "",
            "zerolinecolor": "white"
           },
           "zaxis": {
            "backgroundcolor": "#E5ECF6",
            "gridcolor": "white",
            "gridwidth": 2,
            "linecolor": "white",
            "showbackground": true,
            "ticks": "",
            "zerolinecolor": "white"
           }
          },
          "shapedefaults": {
           "line": {
            "color": "#2a3f5f"
           }
          },
          "ternary": {
           "aaxis": {
            "gridcolor": "white",
            "linecolor": "white",
            "ticks": ""
           },
           "baxis": {
            "gridcolor": "white",
            "linecolor": "white",
            "ticks": ""
           },
           "bgcolor": "#E5ECF6",
           "caxis": {
            "gridcolor": "white",
            "linecolor": "white",
            "ticks": ""
           }
          },
          "title": {
           "x": 0.05
          },
          "xaxis": {
           "automargin": true,
           "gridcolor": "white",
           "linecolor": "white",
           "ticks": "",
           "title": {
            "standoff": 15
           },
           "zerolinecolor": "white",
           "zerolinewidth": 2
          },
          "yaxis": {
           "automargin": true,
           "gridcolor": "white",
           "linecolor": "white",
           "ticks": "",
           "title": {
            "standoff": 15
           },
           "zerolinecolor": "white",
           "zerolinewidth": 2
          }
         }
        },
        "xaxis": {
         "anchor": "y",
         "domain": [
          0,
          1
         ],
         "title": {
          "text": "x"
         }
        },
        "yaxis": {
         "anchor": "x",
         "domain": [
          0,
          1
         ],
         "title": {
          "text": "y"
         }
        }
       }
      }
     },
     "metadata": {},
     "output_type": "display_data"
    }
   ],
   "source": [
    "serie_test = np.array(sample_test[0].sort_values(by=\"time_seconds\")[\"headway_min\"].dropna().to_list())  \n",
    "PELT = rpt.Pelt(model=\"rbf\").fit(serie_test)\n",
    "PELT_res = PELT.predict(pen=3)\n",
    "fig = px.scatter(y=serie_test)\n",
    "for line in PELT_res:\n",
    "    fig.add_vline(x=line)\n",
    "fig.show()"
   ]
  },
  {
   "cell_type": "markdown",
   "metadata": {},
   "source": [
    "Les clusters ont l'air bon sur tableau, et on peut trouver tous nos clusters mtn. Juste le graphique fait n'importe quoi, on (avec Abdelmoumen) sais pas trop ce qui se passe ? "
   ]
  },
  {
   "cell_type": "code",
   "execution_count": 1,
   "metadata": {},
   "outputs": [
    {
     "ename": "NameError",
     "evalue": "name 'sample_test_function' is not defined",
     "output_type": "error",
     "traceback": [
      "\u001b[0;31m---------------------------------------------------------------------------\u001b[0m",
      "\u001b[0;31mNameError\u001b[0m                                 Traceback (most recent call last)",
      "\u001b[1;32m/Users/mjdaoudi/Library/CloudStorage/OneDrive-UniversitéLibredeBruxelles/_MS-BDGA.2022-2023/Semester_1/INFO-H423 - Data Mining/STIB-Network-QoS-Analysis/cluster_assignement.ipynb Cell 11\u001b[0m in \u001b[0;36m<cell line: 1>\u001b[0;34m()\u001b[0m\n\u001b[0;32m----> <a href='vscode-notebook-cell:/Users/mjdaoudi/Library/CloudStorage/OneDrive-Universite%CC%81LibredeBruxelles/_MS-BDGA.2022-2023/Semester_1/INFO-H423%20-%20Data%20Mining/STIB-Network-QoS-Analysis/cluster_assignement.ipynb#X13sZmlsZQ%3D%3D?line=0'>1</a>\u001b[0m sample_test_function\n",
      "\u001b[0;31mNameError\u001b[0m: name 'sample_test_function' is not defined"
     ]
    }
   ],
   "source": [
    "sample_test_function"
   ]
  },
  {
   "cell_type": "code",
   "execution_count": 46,
   "metadata": {},
   "outputs": [
    {
     "data": {
      "application/vnd.plotly.v1+json": {
       "config": {
        "plotlyServerURL": "https://plot.ly"
       },
       "data": [
        {
         "hovertemplate": "color=cluster_0<br>symbol=1<br>x=%{x}<br>y=%{y}<extra></extra>",
         "legendgroup": "cluster_0, 1",
         "marker": {
          "color": "#636efa",
          "symbol": "circle"
         },
         "mode": "markers",
         "name": "cluster_0, 1",
         "orientation": "v",
         "showlegend": true,
         "type": "scatter",
         "x": [
          "05:33:12",
          "05:49:12",
          "06:08:12",
          "06:16:12",
          "06:24:12",
          "06:32:12",
          "06:41:12",
          "06:49:12",
          "06:55:12",
          "06:57:12",
          "07:05:12"
         ],
         "xaxis": "x",
         "y": [
          null,
          16,
          19,
          8,
          8,
          8,
          9,
          8,
          6,
          2,
          8
         ],
         "yaxis": "y"
        },
        {
         "hovertemplate": "color=cluster_1<br>symbol=1<br>x=%{x}<br>y=%{y}<extra></extra>",
         "legendgroup": "cluster_1, 1",
         "marker": {
          "color": "#EF553B",
          "symbol": "circle"
         },
         "mode": "markers",
         "name": "cluster_1, 1",
         "orientation": "v",
         "showlegend": true,
         "type": "scatter",
         "x": [
          "07:11:12",
          "07:17:12",
          "07:23:12",
          "07:29:12",
          "07:35:51",
          "07:42:51",
          "07:48:51",
          "07:55:51",
          "08:01:51",
          "08:07:51",
          "08:13:51",
          "08:19:51",
          "08:26:51",
          "08:33:51",
          "08:40:51",
          "08:47:51",
          "08:53:51",
          "09:04:51",
          "09:11:51",
          "09:18:12",
          "09:24:12",
          "09:30:12",
          "09:36:12",
          "09:43:12",
          "09:50:12"
         ],
         "xaxis": "x",
         "y": [
          6,
          6,
          6,
          6,
          6.65,
          7,
          6,
          7,
          6,
          6,
          6,
          6,
          7,
          7,
          7,
          7,
          6,
          11,
          7,
          6.35,
          6,
          6,
          6,
          7,
          7
         ],
         "yaxis": "y"
        },
        {
         "hovertemplate": "color=cluster_2<br>symbol=1<br>x=%{x}<br>y=%{y}<extra></extra>",
         "legendgroup": "cluster_2, 1",
         "marker": {
          "color": "#00cc96",
          "symbol": "circle"
         },
         "mode": "markers",
         "name": "cluster_2, 1",
         "orientation": "v",
         "showlegend": true,
         "type": "scatter",
         "x": [
          "09:57:12",
          "10:04:12",
          "10:11:12",
          "10:19:12",
          "10:27:12",
          "10:35:12",
          "10:43:12",
          "10:51:12",
          "10:59:12",
          "11:07:12",
          "11:15:12",
          "11:23:12",
          "11:31:12",
          "11:39:12",
          "11:47:12",
          "11:55:12",
          "12:03:12",
          "12:11:12",
          "12:19:12",
          "12:27:12",
          "12:35:12",
          "12:43:12",
          "12:51:12",
          "12:59:12",
          "13:07:12",
          "13:15:12",
          "13:23:12",
          "13:31:12",
          "13:39:12",
          "13:47:12",
          "13:55:12",
          "14:03:12",
          "14:11:12",
          "14:19:12",
          "14:27:12",
          "14:35:12",
          "14:43:12",
          "14:51:12",
          "14:59:12",
          "15:06:12"
         ],
         "xaxis": "x",
         "y": [
          7,
          7,
          7,
          8,
          8,
          8,
          8,
          8,
          8,
          8,
          8,
          8,
          8,
          8,
          8,
          8,
          8,
          8,
          8,
          8,
          8,
          8,
          8,
          8,
          8,
          8,
          8,
          8,
          8,
          8,
          8,
          8,
          8,
          8,
          8,
          8,
          8,
          8,
          8,
          7
         ],
         "yaxis": "y"
        },
        {
         "hovertemplate": "color=cluster_3<br>symbol=1<br>x=%{x}<br>y=%{y}<extra></extra>",
         "legendgroup": "cluster_3, 1",
         "marker": {
          "color": "#ab63fa",
          "symbol": "circle"
         },
         "mode": "markers",
         "name": "cluster_3, 1",
         "orientation": "v",
         "showlegend": true,
         "type": "scatter",
         "x": [
          "15:14:12",
          "15:21:12",
          "15:28:12",
          "15:33:12",
          "15:38:12",
          "15:44:12",
          "15:52:12",
          "15:59:12",
          "16:05:12",
          "16:11:12",
          "16:17:12",
          "16:23:12",
          "16:29:12",
          "16:35:12",
          "16:41:12",
          "16:47:12",
          "16:53:12",
          "16:59:12",
          "17:05:12",
          "17:11:12",
          "17:17:12",
          "17:23:12",
          "17:29:12",
          "17:35:12",
          "17:41:12",
          "17:47:12",
          "17:53:12",
          "17:59:12",
          "18:05:12",
          "18:11:12",
          "18:17:12",
          "18:23:12",
          "18:29:12",
          "18:36:12",
          "18:43:12"
         ],
         "xaxis": "x",
         "y": [
          8,
          7,
          7,
          5,
          5,
          6,
          8,
          7,
          6,
          6,
          6,
          6,
          6,
          6,
          6,
          6,
          6,
          6,
          6,
          6,
          6,
          6,
          6,
          6,
          6,
          6,
          6,
          6,
          6,
          6,
          6,
          6,
          6,
          7,
          7
         ],
         "yaxis": "y"
        },
        {
         "hovertemplate": "color=cluster_4<br>symbol=1<br>x=%{x}<br>y=%{y}<extra></extra>",
         "legendgroup": "cluster_4, 1",
         "marker": {
          "color": "#FFA15A",
          "symbol": "circle"
         },
         "mode": "markers",
         "name": "cluster_4, 1",
         "orientation": "v",
         "showlegend": true,
         "type": "scatter",
         "x": [
          "18:50:12",
          "18:55:12",
          "18:59:12",
          "19:08:12",
          "19:19:12",
          "19:25:12",
          "19:29:12",
          "19:38:12",
          "19:43:12",
          "19:48:12",
          "19:57:12",
          "20:02:12",
          "20:09:12",
          "20:19:12",
          "20:23:12"
         ],
         "xaxis": "x",
         "y": [
          7,
          5,
          4,
          9,
          11,
          6,
          4,
          9,
          5,
          5,
          9,
          5,
          7,
          10,
          4
         ],
         "yaxis": "y"
        },
        {
         "hovertemplate": "color=cluster_5<br>symbol=0<br>x=%{x}<br>y=%{y}<extra></extra>",
         "legendgroup": "cluster_5, 0",
         "marker": {
          "color": "#19d3f3",
          "symbol": "diamond"
         },
         "mode": "markers",
         "name": "cluster_5, 0",
         "orientation": "v",
         "showlegend": true,
         "type": "scatter",
         "x": [
          "20:32:12",
          "20:44:12",
          "20:56:12",
          "21:09:12",
          "21:24:12",
          "21:40:12",
          "21:56:12",
          "22:11:12",
          "22:26:12",
          "22:41:12",
          "22:56:12",
          "23:11:12",
          "23:26:12",
          "23:41:12",
          "23:56:12",
          "24:11:12",
          "24:26:12",
          "24:38:12",
          "24:46:12",
          "24:59:12"
         ],
         "xaxis": "x",
         "y": [
          9,
          12,
          12,
          13,
          15,
          16,
          16,
          15,
          15,
          15,
          15,
          15,
          15,
          15,
          15,
          15,
          15,
          12,
          8,
          13
         ],
         "yaxis": "y"
        }
       ],
       "layout": {
        "legend": {
         "title": {
          "text": "color, symbol"
         },
         "tracegroupgap": 0
        },
        "margin": {
         "t": 60
        },
        "template": {
         "data": {
          "bar": [
           {
            "error_x": {
             "color": "#2a3f5f"
            },
            "error_y": {
             "color": "#2a3f5f"
            },
            "marker": {
             "line": {
              "color": "#E5ECF6",
              "width": 0.5
             },
             "pattern": {
              "fillmode": "overlay",
              "size": 10,
              "solidity": 0.2
             }
            },
            "type": "bar"
           }
          ],
          "barpolar": [
           {
            "marker": {
             "line": {
              "color": "#E5ECF6",
              "width": 0.5
             },
             "pattern": {
              "fillmode": "overlay",
              "size": 10,
              "solidity": 0.2
             }
            },
            "type": "barpolar"
           }
          ],
          "carpet": [
           {
            "aaxis": {
             "endlinecolor": "#2a3f5f",
             "gridcolor": "white",
             "linecolor": "white",
             "minorgridcolor": "white",
             "startlinecolor": "#2a3f5f"
            },
            "baxis": {
             "endlinecolor": "#2a3f5f",
             "gridcolor": "white",
             "linecolor": "white",
             "minorgridcolor": "white",
             "startlinecolor": "#2a3f5f"
            },
            "type": "carpet"
           }
          ],
          "choropleth": [
           {
            "colorbar": {
             "outlinewidth": 0,
             "ticks": ""
            },
            "type": "choropleth"
           }
          ],
          "contour": [
           {
            "colorbar": {
             "outlinewidth": 0,
             "ticks": ""
            },
            "colorscale": [
             [
              0,
              "#0d0887"
             ],
             [
              0.1111111111111111,
              "#46039f"
             ],
             [
              0.2222222222222222,
              "#7201a8"
             ],
             [
              0.3333333333333333,
              "#9c179e"
             ],
             [
              0.4444444444444444,
              "#bd3786"
             ],
             [
              0.5555555555555556,
              "#d8576b"
             ],
             [
              0.6666666666666666,
              "#ed7953"
             ],
             [
              0.7777777777777778,
              "#fb9f3a"
             ],
             [
              0.8888888888888888,
              "#fdca26"
             ],
             [
              1,
              "#f0f921"
             ]
            ],
            "type": "contour"
           }
          ],
          "contourcarpet": [
           {
            "colorbar": {
             "outlinewidth": 0,
             "ticks": ""
            },
            "type": "contourcarpet"
           }
          ],
          "heatmap": [
           {
            "colorbar": {
             "outlinewidth": 0,
             "ticks": ""
            },
            "colorscale": [
             [
              0,
              "#0d0887"
             ],
             [
              0.1111111111111111,
              "#46039f"
             ],
             [
              0.2222222222222222,
              "#7201a8"
             ],
             [
              0.3333333333333333,
              "#9c179e"
             ],
             [
              0.4444444444444444,
              "#bd3786"
             ],
             [
              0.5555555555555556,
              "#d8576b"
             ],
             [
              0.6666666666666666,
              "#ed7953"
             ],
             [
              0.7777777777777778,
              "#fb9f3a"
             ],
             [
              0.8888888888888888,
              "#fdca26"
             ],
             [
              1,
              "#f0f921"
             ]
            ],
            "type": "heatmap"
           }
          ],
          "heatmapgl": [
           {
            "colorbar": {
             "outlinewidth": 0,
             "ticks": ""
            },
            "colorscale": [
             [
              0,
              "#0d0887"
             ],
             [
              0.1111111111111111,
              "#46039f"
             ],
             [
              0.2222222222222222,
              "#7201a8"
             ],
             [
              0.3333333333333333,
              "#9c179e"
             ],
             [
              0.4444444444444444,
              "#bd3786"
             ],
             [
              0.5555555555555556,
              "#d8576b"
             ],
             [
              0.6666666666666666,
              "#ed7953"
             ],
             [
              0.7777777777777778,
              "#fb9f3a"
             ],
             [
              0.8888888888888888,
              "#fdca26"
             ],
             [
              1,
              "#f0f921"
             ]
            ],
            "type": "heatmapgl"
           }
          ],
          "histogram": [
           {
            "marker": {
             "pattern": {
              "fillmode": "overlay",
              "size": 10,
              "solidity": 0.2
             }
            },
            "type": "histogram"
           }
          ],
          "histogram2d": [
           {
            "colorbar": {
             "outlinewidth": 0,
             "ticks": ""
            },
            "colorscale": [
             [
              0,
              "#0d0887"
             ],
             [
              0.1111111111111111,
              "#46039f"
             ],
             [
              0.2222222222222222,
              "#7201a8"
             ],
             [
              0.3333333333333333,
              "#9c179e"
             ],
             [
              0.4444444444444444,
              "#bd3786"
             ],
             [
              0.5555555555555556,
              "#d8576b"
             ],
             [
              0.6666666666666666,
              "#ed7953"
             ],
             [
              0.7777777777777778,
              "#fb9f3a"
             ],
             [
              0.8888888888888888,
              "#fdca26"
             ],
             [
              1,
              "#f0f921"
             ]
            ],
            "type": "histogram2d"
           }
          ],
          "histogram2dcontour": [
           {
            "colorbar": {
             "outlinewidth": 0,
             "ticks": ""
            },
            "colorscale": [
             [
              0,
              "#0d0887"
             ],
             [
              0.1111111111111111,
              "#46039f"
             ],
             [
              0.2222222222222222,
              "#7201a8"
             ],
             [
              0.3333333333333333,
              "#9c179e"
             ],
             [
              0.4444444444444444,
              "#bd3786"
             ],
             [
              0.5555555555555556,
              "#d8576b"
             ],
             [
              0.6666666666666666,
              "#ed7953"
             ],
             [
              0.7777777777777778,
              "#fb9f3a"
             ],
             [
              0.8888888888888888,
              "#fdca26"
             ],
             [
              1,
              "#f0f921"
             ]
            ],
            "type": "histogram2dcontour"
           }
          ],
          "mesh3d": [
           {
            "colorbar": {
             "outlinewidth": 0,
             "ticks": ""
            },
            "type": "mesh3d"
           }
          ],
          "parcoords": [
           {
            "line": {
             "colorbar": {
              "outlinewidth": 0,
              "ticks": ""
             }
            },
            "type": "parcoords"
           }
          ],
          "pie": [
           {
            "automargin": true,
            "type": "pie"
           }
          ],
          "scatter": [
           {
            "marker": {
             "colorbar": {
              "outlinewidth": 0,
              "ticks": ""
             }
            },
            "type": "scatter"
           }
          ],
          "scatter3d": [
           {
            "line": {
             "colorbar": {
              "outlinewidth": 0,
              "ticks": ""
             }
            },
            "marker": {
             "colorbar": {
              "outlinewidth": 0,
              "ticks": ""
             }
            },
            "type": "scatter3d"
           }
          ],
          "scattercarpet": [
           {
            "marker": {
             "colorbar": {
              "outlinewidth": 0,
              "ticks": ""
             }
            },
            "type": "scattercarpet"
           }
          ],
          "scattergeo": [
           {
            "marker": {
             "colorbar": {
              "outlinewidth": 0,
              "ticks": ""
             }
            },
            "type": "scattergeo"
           }
          ],
          "scattergl": [
           {
            "marker": {
             "colorbar": {
              "outlinewidth": 0,
              "ticks": ""
             }
            },
            "type": "scattergl"
           }
          ],
          "scattermapbox": [
           {
            "marker": {
             "colorbar": {
              "outlinewidth": 0,
              "ticks": ""
             }
            },
            "type": "scattermapbox"
           }
          ],
          "scatterpolar": [
           {
            "marker": {
             "colorbar": {
              "outlinewidth": 0,
              "ticks": ""
             }
            },
            "type": "scatterpolar"
           }
          ],
          "scatterpolargl": [
           {
            "marker": {
             "colorbar": {
              "outlinewidth": 0,
              "ticks": ""
             }
            },
            "type": "scatterpolargl"
           }
          ],
          "scatterternary": [
           {
            "marker": {
             "colorbar": {
              "outlinewidth": 0,
              "ticks": ""
             }
            },
            "type": "scatterternary"
           }
          ],
          "surface": [
           {
            "colorbar": {
             "outlinewidth": 0,
             "ticks": ""
            },
            "colorscale": [
             [
              0,
              "#0d0887"
             ],
             [
              0.1111111111111111,
              "#46039f"
             ],
             [
              0.2222222222222222,
              "#7201a8"
             ],
             [
              0.3333333333333333,
              "#9c179e"
             ],
             [
              0.4444444444444444,
              "#bd3786"
             ],
             [
              0.5555555555555556,
              "#d8576b"
             ],
             [
              0.6666666666666666,
              "#ed7953"
             ],
             [
              0.7777777777777778,
              "#fb9f3a"
             ],
             [
              0.8888888888888888,
              "#fdca26"
             ],
             [
              1,
              "#f0f921"
             ]
            ],
            "type": "surface"
           }
          ],
          "table": [
           {
            "cells": {
             "fill": {
              "color": "#EBF0F8"
             },
             "line": {
              "color": "white"
             }
            },
            "header": {
             "fill": {
              "color": "#C8D4E3"
             },
             "line": {
              "color": "white"
             }
            },
            "type": "table"
           }
          ]
         },
         "layout": {
          "annotationdefaults": {
           "arrowcolor": "#2a3f5f",
           "arrowhead": 0,
           "arrowwidth": 1
          },
          "autotypenumbers": "strict",
          "coloraxis": {
           "colorbar": {
            "outlinewidth": 0,
            "ticks": ""
           }
          },
          "colorscale": {
           "diverging": [
            [
             0,
             "#8e0152"
            ],
            [
             0.1,
             "#c51b7d"
            ],
            [
             0.2,
             "#de77ae"
            ],
            [
             0.3,
             "#f1b6da"
            ],
            [
             0.4,
             "#fde0ef"
            ],
            [
             0.5,
             "#f7f7f7"
            ],
            [
             0.6,
             "#e6f5d0"
            ],
            [
             0.7,
             "#b8e186"
            ],
            [
             0.8,
             "#7fbc41"
            ],
            [
             0.9,
             "#4d9221"
            ],
            [
             1,
             "#276419"
            ]
           ],
           "sequential": [
            [
             0,
             "#0d0887"
            ],
            [
             0.1111111111111111,
             "#46039f"
            ],
            [
             0.2222222222222222,
             "#7201a8"
            ],
            [
             0.3333333333333333,
             "#9c179e"
            ],
            [
             0.4444444444444444,
             "#bd3786"
            ],
            [
             0.5555555555555556,
             "#d8576b"
            ],
            [
             0.6666666666666666,
             "#ed7953"
            ],
            [
             0.7777777777777778,
             "#fb9f3a"
            ],
            [
             0.8888888888888888,
             "#fdca26"
            ],
            [
             1,
             "#f0f921"
            ]
           ],
           "sequentialminus": [
            [
             0,
             "#0d0887"
            ],
            [
             0.1111111111111111,
             "#46039f"
            ],
            [
             0.2222222222222222,
             "#7201a8"
            ],
            [
             0.3333333333333333,
             "#9c179e"
            ],
            [
             0.4444444444444444,
             "#bd3786"
            ],
            [
             0.5555555555555556,
             "#d8576b"
            ],
            [
             0.6666666666666666,
             "#ed7953"
            ],
            [
             0.7777777777777778,
             "#fb9f3a"
            ],
            [
             0.8888888888888888,
             "#fdca26"
            ],
            [
             1,
             "#f0f921"
            ]
           ]
          },
          "colorway": [
           "#636efa",
           "#EF553B",
           "#00cc96",
           "#ab63fa",
           "#FFA15A",
           "#19d3f3",
           "#FF6692",
           "#B6E880",
           "#FF97FF",
           "#FECB52"
          ],
          "font": {
           "color": "#2a3f5f"
          },
          "geo": {
           "bgcolor": "white",
           "lakecolor": "white",
           "landcolor": "#E5ECF6",
           "showlakes": true,
           "showland": true,
           "subunitcolor": "white"
          },
          "hoverlabel": {
           "align": "left"
          },
          "hovermode": "closest",
          "mapbox": {
           "style": "light"
          },
          "paper_bgcolor": "white",
          "plot_bgcolor": "#E5ECF6",
          "polar": {
           "angularaxis": {
            "gridcolor": "white",
            "linecolor": "white",
            "ticks": ""
           },
           "bgcolor": "#E5ECF6",
           "radialaxis": {
            "gridcolor": "white",
            "linecolor": "white",
            "ticks": ""
           }
          },
          "scene": {
           "xaxis": {
            "backgroundcolor": "#E5ECF6",
            "gridcolor": "white",
            "gridwidth": 2,
            "linecolor": "white",
            "showbackground": true,
            "ticks": "",
            "zerolinecolor": "white"
           },
           "yaxis": {
            "backgroundcolor": "#E5ECF6",
            "gridcolor": "white",
            "gridwidth": 2,
            "linecolor": "white",
            "showbackground": true,
            "ticks": "",
            "zerolinecolor": "white"
           },
           "zaxis": {
            "backgroundcolor": "#E5ECF6",
            "gridcolor": "white",
            "gridwidth": 2,
            "linecolor": "white",
            "showbackground": true,
            "ticks": "",
            "zerolinecolor": "white"
           }
          },
          "shapedefaults": {
           "line": {
            "color": "#2a3f5f"
           }
          },
          "ternary": {
           "aaxis": {
            "gridcolor": "white",
            "linecolor": "white",
            "ticks": ""
           },
           "baxis": {
            "gridcolor": "white",
            "linecolor": "white",
            "ticks": ""
           },
           "bgcolor": "#E5ECF6",
           "caxis": {
            "gridcolor": "white",
            "linecolor": "white",
            "ticks": ""
           }
          },
          "title": {
           "x": 0.05
          },
          "xaxis": {
           "automargin": true,
           "gridcolor": "white",
           "linecolor": "white",
           "ticks": "",
           "title": {
            "standoff": 15
           },
           "zerolinecolor": "white",
           "zerolinewidth": 2
          },
          "yaxis": {
           "automargin": true,
           "gridcolor": "white",
           "linecolor": "white",
           "ticks": "",
           "title": {
            "standoff": 15
           },
           "zerolinecolor": "white",
           "zerolinewidth": 2
          }
         }
        },
        "xaxis": {
         "anchor": "y",
         "domain": [
          0,
          1
         ],
         "title": {
          "text": "x"
         }
        },
        "yaxis": {
         "anchor": "x",
         "domain": [
          0,
          1
         ],
         "title": {
          "text": "y"
         }
        }
       }
      }
     },
     "metadata": {},
     "output_type": "display_data"
    }
   ],
   "source": [
    "fig = px.scatter(\n",
    "    x=sample_test_function.sort_values(\"time_seconds\")[\"arrival_time\"], \n",
    "    y=sample_test_function.sort_values(\"time_seconds\")[\"headway_min\"],\n",
    "    color= sample_test_function.sort_values(\"time_seconds\")[\"clusters\"],\n",
    "    symbol = sample_test_function.sort_values(\"time_seconds\")[\"regularity\"])\n",
    "fig.show()"
   ]
  },
  {
   "cell_type": "code",
   "execution_count": null,
   "metadata": {},
   "outputs": [],
   "source": []
  }
 ],
 "metadata": {
  "kernelspec": {
   "display_name": "Python 3.9.12 ('base')",
   "language": "python",
   "name": "python3"
  },
  "language_info": {
   "codemirror_mode": {
    "name": "ipython",
    "version": 3
   },
   "file_extension": ".py",
   "mimetype": "text/x-python",
   "name": "python",
   "nbconvert_exporter": "python",
   "pygments_lexer": "ipython3",
   "version": "3.9.12 (main, Apr  5 2022, 01:53:17) \n[Clang 12.0.0 ]"
  },
  "orig_nbformat": 4,
  "vscode": {
   "interpreter": {
    "hash": "64d58bae5e1836223e39dfe00c2cc12f2d07ff9816769b2cafc50efbdc5d5643"
   }
  }
 },
 "nbformat": 4,
 "nbformat_minor": 2
}
