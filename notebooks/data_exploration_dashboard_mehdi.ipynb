{
 "cells": [
  {
   "attachments": {},
   "cell_type": "markdown",
   "metadata": {},
   "source": [
    "# Data Sample"
   ]
  },
  {
   "cell_type": "code",
   "execution_count": null,
   "metadata": {},
   "outputs": [],
   "source": [
    "import pandas as pd \n",
    "import geopandas as gpd\n",
    "import plotly.express as px\n",
    "import plotly.graph_objects as go\n",
    "import shapely.geometry\n",
    "import numpy as np\n",
    "import json\n",
    "\n",
    "\n",
    "pd.set_option('display.max_columns', None)"
   ]
  },
  {
   "cell_type": "code",
   "execution_count": null,
   "metadata": {},
   "outputs": [],
   "source": [
    "res = pd.read_pickle(\"data/computed/matches_clean_EWT_delay_seq.pkl\")\n",
    "data = res\n",
    "df = res"
   ]
  },
  {
   "cell_type": "code",
   "execution_count": null,
   "metadata": {},
   "outputs": [],
   "source": [
    "#data = pd.read_pickle(\"data/computed/matches_EWT_delay_subsampled.pkl\")\n",
    "#stops_sh = gpd.read_file(\"data/map/2109_STIB_MIVB_Network/ACTU_STOPS.shp\")\n",
    "#lines_sh = gpd.read_file(\"data/map/2109_STIB_MIVB_Network/ACTU_LINES.shp\")\n",
    "stops = pd.read_csv(\"data/timetables/gtfs3Sept/stops.txt\")\n"
   ]
  },
  {
   "cell_type": "code",
   "execution_count": null,
   "metadata": {},
   "outputs": [],
   "source": [
    "coord = stops[[\"stop_id\", \"stop_lat\", \"stop_lon\"]].drop_duplicates()\n",
    "coord_name = stops[[\"stop_name\", \"stop_lat\", \"stop_lon\"]].drop_duplicates()"
   ]
  },
  {
   "cell_type": "code",
   "execution_count": null,
   "metadata": {},
   "outputs": [],
   "source": [
    "data.route_long_name.unique()"
   ]
  },
  {
   "cell_type": "code",
   "execution_count": null,
   "metadata": {},
   "outputs": [],
   "source": [
    "data.to_csv(\"data.csv\")"
   ]
  },
  {
   "cell_type": "code",
   "execution_count": null,
   "metadata": {},
   "outputs": [],
   "source": [
    "data_sample = data[(data.route_short_name == \"1\") & (data.stop_name == 'DE BROUCKERE') & (data.direction_id == 1) & (data.date == '06-09-2021')]"
   ]
  },
  {
   "cell_type": "code",
   "execution_count": null,
   "metadata": {},
   "outputs": [],
   "source": [
    "data_sample = data_sample.sort_values(by=\"theoretical_time\")"
   ]
  },
  {
   "cell_type": "code",
   "execution_count": null,
   "metadata": {},
   "outputs": [],
   "source": [
    "data_sample"
   ]
  },
  {
   "cell_type": "code",
   "execution_count": null,
   "metadata": {},
   "outputs": [],
   "source": [
    "data_sample[data_sample.delay == 561]"
   ]
  },
  {
   "cell_type": "code",
   "execution_count": null,
   "metadata": {},
   "outputs": [],
   "source": [
    "import plotly.express as px"
   ]
  },
  {
   "cell_type": "code",
   "execution_count": null,
   "metadata": {},
   "outputs": [],
   "source": [
    "fig = px.scatter(data_sample,\n",
    "        x=\"real_time_sec\",\n",
    "        y=\"delay\",\n",
    "        color=\"delay_label\",\n",
    "    )"
   ]
  },
  {
   "cell_type": "code",
   "execution_count": null,
   "metadata": {},
   "outputs": [],
   "source": [
    "fig"
   ]
  },
  {
   "cell_type": "code",
   "execution_count": null,
   "metadata": {},
   "outputs": [],
   "source": [
    "coord = stops[[\"stop_id\", \"stop_lat\", \"stop_lon\"]]"
   ]
  },
  {
   "cell_type": "code",
   "execution_count": null,
   "metadata": {},
   "outputs": [],
   "source": [
    "test = res.groupby([\"stop_id\"]).agg({\"delay\" : [\"median\"]}).reset_index()\n",
    "test.columns = test.columns.get_level_values(0)\n",
    "test = test.merge(\n",
    "    coord,\n",
    "    \"left\",\n",
    "    \"stop_id\"\n",
    "    \n",
    ")\n",
    "test"
   ]
  },
  {
   "cell_type": "code",
   "execution_count": null,
   "metadata": {},
   "outputs": [],
   "source": [
    "test[test.delay<0]"
   ]
  },
  {
   "attachments": {},
   "cell_type": "markdown",
   "metadata": {},
   "source": [
    "Type de map 1"
   ]
  },
  {
   "cell_type": "code",
   "execution_count": null,
   "metadata": {},
   "outputs": [],
   "source": [
    "px.set_mapbox_access_token(\"pk.eyJ1IjoibWpkYW91ZGkiLCJhIjoiY2xibm54OThyMGdyOTNvcnhqeTYyZmRuYiJ9.rfxe3z8triwA5yvV1XZA-A\")\n",
    "fig = px.density_mapbox(test, lat='stop_lat', lon='stop_lon', z='delay', radius=10,\n",
    "                        center=dict(lat=50.85, lon=4.45), zoom=9,\n",
    "                        mapbox_style=\"white-bg\")\n",
    "\n",
    "fig.update_coloraxes(showscale=False)\n",
    "\n",
    "fig.show()"
   ]
  },
  {
   "attachments": {},
   "cell_type": "markdown",
   "metadata": {},
   "source": [
    "Type de map 2"
   ]
  },
  {
   "cell_type": "code",
   "execution_count": null,
   "metadata": {},
   "outputs": [],
   "source": [
    "px.set_mapbox_access_token(\"pk.eyJ1IjoibWpkYW91ZGkiLCJhIjoiY2xibm54OThyMGdyOTNvcnhqeTYyZmRuYiJ9.rfxe3z8triwA5yvV1XZA-A\")\n",
    "fig = px.scatter_mapbox(test, lat=\"stop_lat\", lon=\"stop_lon\", hover_name=\"stop_id\",\n",
    "                        color=\"delay\", zoom=10)\n",
    "fig.update_layout(mapbox_style=\"white-bg\")\n",
    "fig.update_layout(margin={\"r\":0,\"t\":0,\"l\":0,\"b\":0})\n",
    "fig.update_layout(showlegend=False)\n",
    "fig.show()"
   ]
  },
  {
   "attachments": {},
   "cell_type": "markdown",
   "metadata": {},
   "source": [
    "Type de map 3"
   ]
  },
  {
   "cell_type": "code",
   "execution_count": null,
   "metadata": {},
   "outputs": [],
   "source": [
    "stops_sh"
   ]
  },
  {
   "attachments": {},
   "cell_type": "markdown",
   "metadata": {},
   "source": [
    "La méthode en bas marche seulement si c'est des polygones !  \n",
    "--> px.choropleth_mapbox accepts the geometry of a GeoPandas data frame as the input to geojson if the geometry contains polygons."
   ]
  },
  {
   "cell_type": "code",
   "execution_count": null,
   "metadata": {},
   "outputs": [],
   "source": [
    "fig = px.choropleth_mapbox(stops_sh,\n",
    "                           geojson=stops_sh.geometry,\n",
    "                           locations=stops_sh.stop_id,\n",
    "                           center={\"lat\": 50.85, \"lon\": 4.45},\n",
    "                           mapbox_style=\"open-street-map\",\n",
    "                           zoom=10)\n",
    "fig.show()"
   ]
  },
  {
   "attachments": {},
   "cell_type": "markdown",
   "metadata": {},
   "source": [
    "Tentative dash leaflet - un peu ratée mais je crois comprendre pourquoi. Quand on transforme en geojson, les coordonées n'ont pas un format très standard"
   ]
  },
  {
   "cell_type": "code",
   "execution_count": null,
   "metadata": {},
   "outputs": [],
   "source": [
    "layer = dl.GeoJSON(json.loads(lines_sh.to_json()))\n",
    "app = JupyterDash()\n",
    "app.layout = dl.Map(\n",
    "    [layer, dl.TileLayer()]\n",
    ")\n",
    "#app.run_server(mode=\"inline\")"
   ]
  },
  {
   "cell_type": "code",
   "execution_count": null,
   "metadata": {},
   "outputs": [],
   "source": [
    "gs = json.loads(lines_sh.to_json())\n",
    "fig = go.Figure(\n",
    "    data=[\n",
    "        go.Scattermapbox(\n",
    "            lat=np.array(feature[\"geometry\"][\"coordinates\"])[:, 1],\n",
    "            lon=np.array(feature[\"geometry\"][\"coordinates\"])[:, 0],\n",
    "            mode=\"lines\",\n",
    "            line=dict(width=8, color=\"#F00\")\n",
    "        )\n",
    "        for feature in gs[\"features\"]\n",
    "    ]\n",
    ")\n",
    "\n",
    "fig.update_layout(\n",
    "    margin={\"r\":0,\"t\":0,\"l\":0,\"b\":0},\n",
    "    mapbox=go.layout.Mapbox(\n",
    "        style=\"stamen-terrain\", \n",
    "        zoom=10, \n",
    "        center_lat = 40.5,\n",
    "        center_lon = -105.08,\n",
    "    )\n",
    ")\n",
    "fig.show()"
   ]
  },
  {
   "cell_type": "code",
   "execution_count": null,
   "metadata": {},
   "outputs": [],
   "source": [
    "gs"
   ]
  },
  {
   "attachments": {},
   "cell_type": "markdown",
   "metadata": {},
   "source": [
    "## Information par ligne par jour de la semaine"
   ]
  },
  {
   "attachments": {},
   "cell_type": "markdown",
   "metadata": {},
   "source": [
    "Ici on peut aller par ligne, par type de jour de la semaine, par cluster etc"
   ]
  },
  {
   "cell_type": "code",
   "execution_count": null,
   "metadata": {},
   "outputs": [],
   "source": [
    "sample_7 = res[(res.route_short_name == \"7\") & (res.date_label == \"workdays\") & (res.delay_label == \"lat\") & (res.direction_id == 0)]"
   ]
  },
  {
   "cell_type": "code",
   "execution_count": null,
   "metadata": {},
   "outputs": [],
   "source": [
    "sample_7"
   ]
  },
  {
   "attachments": {},
   "cell_type": "markdown",
   "metadata": {},
   "source": [
    "En somme, pour avoir l'impact total causé par la ligne"
   ]
  },
  {
   "cell_type": "code",
   "execution_count": null,
   "metadata": {},
   "outputs": [],
   "source": [
    "s_7_s = sample_7[[\"stop_id\", \"delay\"]].groupby(\"stop_id\", as_index = False).sum(\"delay\").merge(\n",
    "    coord,\n",
    "    \"left\",\n",
    "    \"stop_id\"\n",
    ").merge(sample_7[[\"stop_id\", \"stop_name\"]], \"left\", \"stop_id\")"
   ]
  },
  {
   "cell_type": "code",
   "execution_count": null,
   "metadata": {},
   "outputs": [],
   "source": [
    "s_7_s"
   ]
  },
  {
   "cell_type": "code",
   "execution_count": null,
   "metadata": {},
   "outputs": [],
   "source": [
    "px.set_mapbox_access_token(\"pk.eyJ1IjoibWpkYW91ZGkiLCJhIjoiY2xibm54OThyMGdyOTNvcnhqeTYyZmRuYiJ9.rfxe3z8triwA5yvV1XZA-A\")\n",
    "fig = px.density_mapbox(s_7_s, lat='stop_lat', lon='stop_lon', z='delay', radius=10,\n",
    "                        center=dict(lat=50.85, lon=4.45), zoom=10,\n",
    "                        color_continuous_scale = \"portland\" , \n",
    "                        mapbox_style=\"light\",\n",
    "                        hover_name=\"stop_name\", hover_data=[\"delay\"])\n",
    "fig.show()"
   ]
  },
  {
   "attachments": {},
   "cell_type": "markdown",
   "metadata": {},
   "source": [
    "En médiane, pour avoir l'impact médian par arrêt"
   ]
  },
  {
   "cell_type": "code",
   "execution_count": null,
   "metadata": {},
   "outputs": [],
   "source": [
    "s_7_m = sample_7[[\"stop_id\", \"delay\"]].groupby(\"stop_id\", as_index = False).median(\"delay\").merge(\n",
    "    coord,\n",
    "    \"left\",\n",
    "    \"stop_id\"\n",
    ")"
   ]
  },
  {
   "cell_type": "code",
   "execution_count": null,
   "metadata": {},
   "outputs": [],
   "source": [
    "\n",
    "px.set_mapbox_access_token(\"pk.eyJ1IjoibWpkYW91ZGkiLCJhIjoiY2xibm54OThyMGdyOTNvcnhqeTYyZmRuYiJ9.rfxe3z8triwA5yvV1XZA-A\")\n",
    "fig = px.density_mapbox(s_7_m, lat='stop_lat', lon='stop_lon', z='delay', radius=10,\n",
    "                        center=dict(lat=50.85, lon=4.45), zoom=10,\n",
    "                        color_continuous_scale = \"portland\" , \n",
    "                        mapbox_style=\"stamen-terrain\")\n",
    "fig.show()"
   ]
  },
  {
   "attachments": {},
   "cell_type": "markdown",
   "metadata": {},
   "source": [
    "Observation tram 7: \n",
    "   <br><br/> - beaucoup de retard aux alentours de vdk, soit ils impactent la suite (direction heysel); soit les retards sont vers la fin de la ligne (direction vdk)"
   ]
  },
  {
   "cell_type": "code",
   "execution_count": null,
   "metadata": {},
   "outputs": [],
   "source": [
    "res"
   ]
  },
  {
   "cell_type": "code",
   "execution_count": null,
   "metadata": {},
   "outputs": [],
   "source": [
    "# Number of stops\n",
    "round(res.stop_id.unique().shape[0])"
   ]
  },
  {
   "cell_type": "code",
   "execution_count": null,
   "metadata": {},
   "outputs": [],
   "source": [
    "# Number of lines\n",
    "round(res.route_short_name.unique().shape[0])"
   ]
  },
  {
   "cell_type": "code",
   "execution_count": null,
   "metadata": {},
   "outputs": [],
   "source": [
    "# On time positionning (idealemnent, rajouter un threshold with thhresh hold)\n",
    "round((res[res.regularity == 0].delay_label_120.value_counts()/res[res.regularity == 0].shape[0])*100, 2).to_dict()"
   ]
  },
  {
   "cell_type": "code",
   "execution_count": null,
   "metadata": {},
   "outputs": [],
   "source": [
    "_ = res[(res.regularity == 0)][[\"stop_name\", \"delay\"]].groupby(\"stop_name\", as_index = False).count().sort_values(\"delay\", ascending = True).merge(\n",
    "    res[(res.regularity == 0) & (res.delay_label == \"lat\")][[\"stop_name\", \"delay\"]].groupby(\"stop_name\", as_index = False).count().sort_values(\"delay\", ascending = True),\n",
    "    \"left\",\n",
    "    \"stop_name\"\n",
    ")\n",
    "_[\"Probs\"] = round((_.delay_y/_.delay_x)*100)\n",
    "_.sort_values(\"Probs\", ascending=False).iloc[0].Probs"
   ]
  },
  {
   "cell_type": "code",
   "execution_count": null,
   "metadata": {},
   "outputs": [],
   "source": [
    "res[\n",
    "    (res.regularity == 0)\n",
    "    & (res.delay_label_strict == \"lat\")\n",
    "][[\"stop_name\", \"route_short_name\", \"delay\"]].groupby([\"stop_name\", \"route_short_name\"], as_index=False).count().sort_values(\"delay\", ascending=False).merge(\n",
    "    res[(res.regularity == 0)][\n",
    "    [\"stop_name\", \"delay\", \"route_short_name\"]\n",
    "].groupby([\"stop_name\", \"route_short_name\"], as_index=False).count().sort_values(\"delay\", ascending=True),\n",
    "\"left\",\n",
    "[\"stop_name\", \"route_short_name\"]\n",
    ")"
   ]
  },
  {
   "cell_type": "code",
   "execution_count": null,
   "metadata": {},
   "outputs": [],
   "source": [
    "def get_probs():\n",
    "    _ = res[\n",
    "            (res.regularity == 0)\n",
    "            & (res.delay_label_strict == \"lat\")\n",
    "        ][[\"stop_name\", \"route_short_name\", \"delay\"]].groupby([\"stop_name\", \"route_short_name\"], as_index=False).count().sort_values(\"delay\", ascending=False).merge(\n",
    "            res[(res.regularity == 0)][\n",
    "            [\"stop_name\", \"delay\", \"route_short_name\"]\n",
    "        ].groupby([\"stop_name\", \"route_short_name\"], as_index=False).count().sort_values(\"delay\", ascending=True),\n",
    "        \"left\",\n",
    "        [\"stop_name\", \"route_short_name\"]\n",
    "        )\n",
    "    _[\"Probs\"] = round((_.delay_x / _.delay_y) * 100)\n",
    "    return _[_.delay_y>100].sort_values(by=\"Probs\", ascending= False)\n",
    "\n",
    "get_probs()\n",
    "\n"
   ]
  },
  {
   "cell_type": "code",
   "execution_count": null,
   "metadata": {},
   "outputs": [],
   "source": [
    "# Number of vehicule\n",
    "veh = res.trip_id.unique().shape[0]\n",
    "\"number of vehicule\", veh\n"
   ]
  },
  {
   "cell_type": "code",
   "execution_count": null,
   "metadata": {},
   "outputs": [],
   "source": [
    "fig = px.histogram(res, x=\"delay_label\", color=\"mode\")\n",
    "fig.show()"
   ]
  },
  {
   "cell_type": "code",
   "execution_count": null,
   "metadata": {},
   "outputs": [],
   "source": [
    "mode = \"B\"\n",
    "fig = px.histogram(res[(res.delay.quantile(0.9) > res.delay) & (res.delay > res.delay.quantile(0.05)) & (res[\"mode\"] == mode)], x=\"delay\", histnorm='percent')\n",
    "fig.show()"
   ]
  },
  {
   "cell_type": "code",
   "execution_count": null,
   "metadata": {},
   "outputs": [],
   "source": [
    "res[\"EWT_label\"] = np.where(res[\"EWT\"] >= 1, \"irregular\", \"regular\")\n"
   ]
  },
  {
   "cell_type": "code",
   "execution_count": null,
   "metadata": {},
   "outputs": [],
   "source": [
    "res.to_pickle(\"data/computed/matches_EWT_delay_reglab.pkl\")"
   ]
  },
  {
   "cell_type": "code",
   "execution_count": null,
   "metadata": {},
   "outputs": [],
   "source": [
    "round((res[res.regularity == 1].EWT_label.value_counts()/res[res.regularity == 1].shape[0])*100, 2).to_dict()"
   ]
  },
  {
   "cell_type": "code",
   "execution_count": null,
   "metadata": {},
   "outputs": [],
   "source": [
    "res[res.regularity == 1].groupby(by = [\"route_short_name\"], as_index = False).apply(lambda x: x[\"EWT\"].median())"
   ]
  },
  {
   "cell_type": "code",
   "execution_count": null,
   "metadata": {},
   "outputs": [],
   "source": [
    "df = res\n",
    "\n",
    "data = res"
   ]
  },
  {
   "cell_type": "code",
   "execution_count": null,
   "metadata": {},
   "outputs": [],
   "source": [
    "df[(df.stop_name == \"DIEWEG\") & (df.route_short_name == \"97\") & (df.date_normalized == \"10-09-2021\")& (df.direction_id == 1)].sort_values(\"headway_real\", ascending=False).to_csv(\"test.csv\")"
   ]
  },
  {
   "cell_type": "code",
   "execution_count": null,
   "metadata": {},
   "outputs": [],
   "source": [
    "df[(df.route_short_name == \"97\") & (df.regularity == 1)].sort_values(\"EWT\", ascending=False)"
   ]
  },
  {
   "cell_type": "code",
   "execution_count": null,
   "metadata": {},
   "outputs": [],
   "source": [
    "df[df.regularity == 1][[\"stop_name\",\"route_short_name\", \"EWT\"]].groupby(by = [\"stop_name\", \"route_short_name\"], as_index = False).median().sort_values(\"EWT\", ascending = False)"
   ]
  },
  {
   "cell_type": "code",
   "execution_count": null,
   "metadata": {},
   "outputs": [],
   "source": [
    "EWT_line = df[df.regularity == 1].groupby(by = [\"route_short_name\"]).apply(lambda x: x[\"EWT\"].median())\n",
    "EWT_line.name = 'EWT_line'\n",
    "df = df.merge(\n",
    "    EWT_line,\n",
    "    'left',\n",
    "    'route_short_name'\n",
    ")\n",
    "df[\"EWT_line_label\"] = np.where(df[\"EWT_line\"] >= 1, \"irregular\", \"regular\")\n",
    "line_prob= round((df[df.regularity == 1].EWT_line_label.value_counts()/df[df.regularity == 1].shape[0])*100, 2).to_dict()\n",
    "worst_line = df[(df.regularity == 1) & (df.EWT_line_label == \"irregular\")].sort_values(by= 'EWT_line', ascending = False).iloc[0].route_short_name"
   ]
  },
  {
   "cell_type": "code",
   "execution_count": null,
   "metadata": {},
   "outputs": [],
   "source": [
    "data[data.regularity == 1][[\"route_short_name\", \"EWT\"]].groupby(by=[\"route_short_name\"], as_index=False).median().sort_values(\"EWT\", ascending=False).iloc[0]"
   ]
  },
  {
   "cell_type": "code",
   "execution_count": null,
   "metadata": {},
   "outputs": [],
   "source": [
    "data[data.regularity == 0]"
   ]
  },
  {
   "cell_type": "code",
   "execution_count": null,
   "metadata": {},
   "outputs": [],
   "source": [
    "data[\"hour\"] = data[data.regularity == 0].theoretical_time.apply(lambda x:int(x.split(\":\")[0]))\n",
    "data[\"day\"] = data[data.regularity == 0].date_normalized.apply(lambda x:int(x.split(\"-\")[0]))"
   ]
  },
  {
   "cell_type": "code",
   "execution_count": null,
   "metadata": {},
   "outputs": [],
   "source": [
    "data[\"hour\"]"
   ]
  },
  {
   "cell_type": "code",
   "execution_count": null,
   "metadata": {},
   "outputs": [],
   "source": [
    "t = data[[\"day\", \"hour\", \"mode\", \"delay\"]].groupby([\"day\", \"hour\", \"mode\"], as_index=False).median()\n",
    "t = t[t.hour <= 24]\n",
    "\n",
    "fig = px.line(t, x=\"hour\", y=\"delay\", color='mode')\n",
    "\"\"\"\n",
    ".update_layout({\n",
    "    'plot_bgcolor': 'rgba(0,0,0,0)',\n",
    "    'paper_bgcolor': 'rgba(0,0,0,0)'\n",
    "})\n",
    "\"\"\"\n",
    "fig.show()"
   ]
  },
  {
   "cell_type": "code",
   "execution_count": null,
   "metadata": {},
   "outputs": [],
   "source": [
    "t = data[[\"day\", \"mode\", \"delay\"]].groupby([\"day\", \"mode\"], as_index=False).median()\n",
    "\n",
    "fig = px.line(t, x=\"day\", y=\"delay\", color='mode').update_layout({\n",
    "    'plot_bgcolor': 'rgba(0,0,0,0)',\n",
    "    'paper_bgcolor': 'rgba(0,0,0,0)'\n",
    "})\n",
    "fig.show()"
   ]
  },
  {
   "cell_type": "code",
   "execution_count": null,
   "metadata": {},
   "outputs": [],
   "source": [
    "test = data[[\"day\", \"hour\", \"mode\", \"delay\"]].groupby([\"day\", \"hour\", \"mode\"], as_index=False).median()\n",
    "test = test[test.hour <= 24]\n",
    "test"
   ]
  },
  {
   "cell_type": "code",
   "execution_count": null,
   "metadata": {},
   "outputs": [],
   "source": [
    "fig = px.density_heatmap(test, x=\"day\", y=\"hour\", z=\"delay\", histfunc=\"avg\", nbinsx=test.day.shape[0], nbinsy=test.hour.shape[0],)\n",
    "fig.show()"
   ]
  },
  {
   "cell_type": "code",
   "execution_count": null,
   "metadata": {},
   "outputs": [],
   "source": [
    "fig = px.scatter_3d(test, x='day', y='hour', z='delay', color='day', size_max=18)\n",
    "fig.show()"
   ]
  },
  {
   "cell_type": "code",
   "execution_count": null,
   "metadata": {},
   "outputs": [],
   "source": [
    "res"
   ]
  },
  {
   "cell_type": "code",
   "execution_count": null,
   "metadata": {},
   "outputs": [],
   "source": [
    "t = data[[\"day\", \"hour\", \"mode\", \"delay\"]].groupby([\"day\", \"hour\", \"mode\"], as_index=False).median()\n",
    "t = t[t.hour <= 24]\n",
    "\n",
    "fig = px.line(t, x=\"hour\", y=\"delay\", color='mode')"
   ]
  },
  {
   "cell_type": "code",
   "execution_count": null,
   "metadata": {},
   "outputs": [],
   "source": [
    "t"
   ]
  },
  {
   "cell_type": "code",
   "execution_count": null,
   "metadata": {},
   "outputs": [],
   "source": [
    "_ = data[[\"day\", \"mode\", \"delay_label_120\"]].groupby([\"day\", \"mode\"], as_index=False).apply(lambda x: pd.Series({'OTP':(x[x.delay_label_120 == \"nan\"].shape[0]/x.shape[0])*100}))\n",
    "fig = px.line(_, x=\"day\", y=\"OTP\", color = \"mode\")\n",
    "fig.show()"
   ]
  },
  {
   "cell_type": "code",
   "execution_count": null,
   "metadata": {},
   "outputs": [],
   "source": [
    "_ = data[data.regularity == 0][[\"day\", \"mode\", \"delay_label_120\"]].groupby([\"day\", \"mode\"], as_index=False).apply(lambda x: pd.Series({'OTP':(x[x.delay_label_120 == \"nan\"].shape[0]/x.shape[0])*100}))\n",
    "fig = px.line(_, x=\"day\", y=\"OTP\", color = \"mode\")\n",
    "fig.show()"
   ]
  },
  {
   "cell_type": "code",
   "execution_count": null,
   "metadata": {},
   "outputs": [],
   "source": [
    "_ = data[[\"hour\", \"mode\", \"delay_label_120\"]].groupby([\"hour\", \"mode\"], as_index=False).apply(lambda x: pd.Series({'OTP':(x[x.delay_label_120 == \"nan\"].shape[0]/x.shape[0])*100}))\n",
    "_ = _[_.hour <= 24]\n",
    "fig = px.line(_, x=\"hour\", y=\"OTP\", color = \"mode\", labels = dict(hour='Hour of the day (h)', OTP='OTP (%)'))\n",
    "fig.show()"
   ]
  },
  {
   "cell_type": "code",
   "execution_count": null,
   "metadata": {},
   "outputs": [],
   "source": [
    "_ = data[[\"hour\", \"mode\", \"delay_label_120\"]].groupby([\"hour\", \"mode\"], as_index=False).apply(lambda x: pd.Series({'OTP':(x[x.delay_label_120 == \"nan\"].shape[0]/x.shape[0])*100}))"
   ]
  },
  {
   "cell_type": "code",
   "execution_count": null,
   "metadata": {},
   "outputs": [],
   "source": [
    "_"
   ]
  },
  {
   "cell_type": "code",
   "execution_count": null,
   "metadata": {},
   "outputs": [],
   "source": [
    "_.groupby(\"mode\").median(\"OTP\")"
   ]
  },
  {
   "cell_type": "code",
   "execution_count": null,
   "metadata": {},
   "outputs": [],
   "source": [
    "data"
   ]
  },
  {
   "cell_type": "code",
   "execution_count": null,
   "metadata": {},
   "outputs": [],
   "source": [
    "_ = data[data.regularity == 0][[\"day\", \"mode\", \"delay_label_120\"]].groupby([\"day\", \"mode\"], as_index=False).apply(lambda x: pd.Series({'OTP':(x[x.delay_label_120 == \"nan\"].shape[0]/x.shape[0])*100}))"
   ]
  },
  {
   "cell_type": "code",
   "execution_count": null,
   "metadata": {},
   "outputs": [],
   "source": [
    "data_line = "
   ]
  },
  {
   "cell_type": "code",
   "execution_count": null,
   "metadata": {},
   "outputs": [],
   "source": [
    "_ = data[[\"stop_name\", \"delay_label_120\", \"delay\"]].groupby([\"stop_name\"], as_index=False).apply(lambda x: pd.Series({'OTP':(x[x.delay_label_120 == \"nan\"].shape[0]/x.shape[0])*100,\n",
    "'median': x.delay.median()}))"
   ]
  },
  {
   "cell_type": "code",
   "execution_count": null,
   "metadata": {},
   "outputs": [],
   "source": [
    "_ = data[[\"route_short_name\", \"delay_label_120\", \"delay\"]].groupby([\"route_short_name\"], as_index=False).apply(lambda x: pd.Series({'OTP':(x[x.delay_label_120 == \"nan\"].shape[0]/x.shape[0])*100,\n",
    "'median': x.delay.median()}))"
   ]
  },
  {
   "cell_type": "code",
   "execution_count": null,
   "metadata": {},
   "outputs": [],
   "source": [
    "px.scatter(_,\n",
    "x= \"OTP\",\n",
    "y='median',\n",
    "color='route_short_name',\n",
    "text='route_short_name',\n",
    "trendline = \"lowess\",\n",
    "trendline_scope=\"overall\", \n",
    "labels=dict(OTP='OTP (%)', median='median delays (sec)')\n",
    ")"
   ]
  },
  {
   "cell_type": "code",
   "execution_count": null,
   "metadata": {},
   "outputs": [],
   "source": [
    "_ = data[[\"stop_name\", \"delay_label_120\", \"delay\"]].groupby([\"stop_name\"], as_index=False).apply(lambda x: pd.Series({'OTP':(x[x.delay_label_120 == \"nan\"].shape[0]/x.shape[0])*100,\n",
    "'median': x.delay.median()}))"
   ]
  },
  {
   "cell_type": "code",
   "execution_count": null,
   "metadata": {},
   "outputs": [],
   "source": [
    "px.scatter(_,\n",
    "x= \"OTP\",\n",
    "y='median',\n",
    "hover_name='stop_name',\n",
    "trendline = \"lowess\",\n",
    "trendline_scope=\"overall\", \n",
    "color=\"stop_name\",\n",
    "labels=dict(OTP='OTP (%)', median='median delays (sec)')\n",
    ")"
   ]
  },
  {
   "cell_type": "code",
   "execution_count": null,
   "metadata": {},
   "outputs": [],
   "source": [
    "fs_delay = pd.read_pickle(\"data/computed/freq_mining.pkl\")"
   ]
  },
  {
   "cell_type": "code",
   "execution_count": null,
   "metadata": {},
   "outputs": [],
   "source": [
    "fs_delay"
   ]
  },
  {
   "cell_type": "code",
   "execution_count": null,
   "metadata": {},
   "outputs": [],
   "source": [
    "res"
   ]
  },
  {
   "cell_type": "code",
   "execution_count": null,
   "metadata": {},
   "outputs": [],
   "source": [
    "t"
   ]
  },
  {
   "cell_type": "code",
   "execution_count": null,
   "metadata": {},
   "outputs": [],
   "source": [
    "t = pd.read_pickle(\"data/computed/lines_growth_EWT_th.pkl\")\n",
    "#t_g = (t[[\"route_short_name\", \"stop_name\" ,\"date_normalized\", \"trip_headsign\", \"succession\", \"stop_lat\", \"stop_lon\",\"growth_cut\", \"lab_growth\", \"delay\"]].groupby([\"route_short_name\", \"stop_name\", \"date_normalized\", \"trip_headsign\", \"succession\"], as_index = False).median()).groupby([\"route_short_name\", \"date_normalized\", \"direction_id\"])"
   ]
  },
  {
   "cell_type": "code",
   "execution_count": null,
   "metadata": {},
   "outputs": [],
   "source": [
    "t"
   ]
  },
  {
   "cell_type": "code",
   "execution_count": null,
   "metadata": {},
   "outputs": [],
   "source": [
    "t.merge(\n",
    "    coord_name.drop_duplicates(subset=[\"stop_name\"]),\n",
    "    \"left\",\n",
    "    \"stop_name\"\n",
    ").to_pickle(\"data/computed/lines_growth_EWT_th.pkl\")"
   ]
  },
  {
   "cell_type": "code",
   "execution_count": null,
   "metadata": {},
   "outputs": [],
   "source": [
    "t_g.groupby([\"route_short_name\", \"date_normalized\", \"direction_id\"])"
   ]
  },
  {
   "cell_type": "code",
   "execution_count": null,
   "metadata": {},
   "outputs": [],
   "source": [
    "coord"
   ]
  },
  {
   "cell_type": "code",
   "execution_count": null,
   "metadata": {},
   "outputs": [],
   "source": [
    "route = \"7\"\n",
    "direction = \"VANDERKINDERE\"\n",
    "date = \"15-09-2021\"\n",
    "\n",
    "sample_date = t_g[(t_g.route_short_name == route) & (t_g.trip_headsign == direction)& (t_g[\"date_normalized\"] == date)].sort_values(\"succession\")\n",
    "sample_date"
   ]
  },
  {
   "cell_type": "code",
   "execution_count": null,
   "metadata": {},
   "outputs": [],
   "source": [
    "px.set_mapbox_access_token(\"pk.eyJ1IjoibWpkYW91ZGkiLCJhIjoiY2xibm54OThyMGdyOTNvcnhqeTYyZmRuYiJ9.rfxe3z8triwA5yvV1XZA-A\")\n",
    "sample_date[\"lab_growth\"] = sample_date[\"lab_growth\"].astype(str) \n",
    "fig = px.scatter_mapbox(sample_date, \n",
    "    lat=\"stop_lat\", \n",
    "    lon=\"stop_lon\", \n",
    "    hover_name=\"stop_name\",\n",
    "    size = \"delay\",\n",
    "    color=\"lab_growth\", \n",
    "    zoom=10)\n",
    "\n",
    "\n",
    "fig.update_layout(mapbox_style=\"light\", margin={\"r\": 0, \"t\": 0, \"l\": 0, \"b\": 0})"
   ]
  },
  {
   "cell_type": "code",
   "execution_count": null,
   "metadata": {},
   "outputs": [],
   "source": [
    "res"
   ]
  },
  {
   "cell_type": "code",
   "execution_count": null,
   "metadata": {},
   "outputs": [],
   "source": []
  }
 ],
 "metadata": {
  "kernelspec": {
   "display_name": "base",
   "language": "python",
   "name": "python3"
  },
  "language_info": {
   "codemirror_mode": {
    "name": "ipython",
    "version": 3
   },
   "file_extension": ".py",
   "mimetype": "text/x-python",
   "name": "python",
   "nbconvert_exporter": "python",
   "pygments_lexer": "ipython3",
   "version": "3.9.12"
  },
  "orig_nbformat": 4,
  "vscode": {
   "interpreter": {
    "hash": "64d58bae5e1836223e39dfe00c2cc12f2d07ff9816769b2cafc50efbdc5d5643"
   }
  }
 },
 "nbformat": 4,
 "nbformat_minor": 2
}
