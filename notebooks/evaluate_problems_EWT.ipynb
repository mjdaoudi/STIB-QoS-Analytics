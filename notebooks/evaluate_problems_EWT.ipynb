{
 "cells": [
  {
   "attachments": {},
   "cell_type": "markdown",
   "metadata": {},
   "source": [
    "# Evaluate Problematic issues"
   ]
  },
  {
   "cell_type": "code",
   "execution_count": null,
   "metadata": {},
   "outputs": [],
   "source": [
    "import geopandas as gpd\n",
    "import folium\n",
    "import json\n",
    "from tqdm import tqdm\n",
    "import re\n",
    "import plotly.express as px\n",
    "import ruptures as rpt \n",
    "from sklearn.metrics import r2_score\n",
    "\n",
    "from custom_functions.gtfs_methods import detect_direction, match_schedule_for_service_line\n",
    "import pandas as pd\n",
    "import numpy as np\n",
    "pd.set_option('display.max_columns', None)\n",
    "pd.set_option('mode.chained_assignment', None)"
   ]
  },
  {
   "cell_type": "code",
   "execution_count": null,
   "metadata": {},
   "outputs": [],
   "source": [
    "res = pd.read_pickle(\"data/computed/matches_clean_EWT_delay.pkl\")"
   ]
  },
  {
   "cell_type": "code",
   "execution_count": null,
   "metadata": {},
   "outputs": [],
   "source": [
    "sample_7_unbiased = res[(res.route_short_name == \"7\") & (res.date_label == \"workdays\") & (res.direction_id == 0)]\n",
    "test = sample_7_unbiased[(sample_7_unbiased.trip_id == 113338966237534000) & (sample_7_unbiased.date_normalized == \"14-09-2021\")].sort_values(\"stop_sequence\")\n",
    "test\n",
    "\n",
    "#test = sample_7[(sample_7.trip_id == 113338889237534000) & (sample_7.date_normalized == \"08-09-2021\")].sort_values(\"stop_sequence\")\n",
    "fig = px.scatter(sample_7_unbiased, x=\"stop_sequence\", y=\"delay\", color = \"date_normalized\", symbol=\"direction_id\", hover_data=['stop_id', \"stop_name\", \"direction_id\", \"stop_sequence\"])\n",
    "fig.show()\n"
   ]
  },
  {
   "cell_type": "code",
   "execution_count": null,
   "metadata": {},
   "outputs": [],
   "source": [
    "test_day = sample_7_unbiased[((sample_7_unbiased.date_normalized == \"14-09-2021\"))][[\"trip_id\", \"delay\", \"stop_sequence\"]].groupby([\"stop_sequence\"], as_index = False).median()\n",
    "fig = px.scatter(test_day, x=\"stop_sequence\", y=\"delay\")\n",
    "fig.show()"
   ]
  },
  {
   "cell_type": "code",
   "execution_count": null,
   "metadata": {},
   "outputs": [],
   "source": [
    "order = 15\n",
    "\n",
    "p = np.polyfit(test_day.sort_values(by=\"stop_sequence\")[\"stop_sequence\"],test_day.sort_values(by=\"stop_sequence\")[\"delay\"], order)\n",
    "y = np.polyval(p,test.sort_values(by=\"stop_sequence\")[\"stop_sequence\"])\n",
    "fig = px.scatter(x=test.sort_values(by=\"stop_sequence\")[\"stop_sequence\"], y =y)\n",
    "fig.show()"
   ]
  },
  {
   "cell_type": "code",
   "execution_count": null,
   "metadata": {},
   "outputs": [],
   "source": [
    "from sklearn.metrics import r2_score\n",
    "\n",
    "\n",
    "for order in range(1, 20):\n",
    "    p = np.polyfit(test_day.sort_values(by=\"stop_sequence\")[\"stop_sequence\"],test_day.sort_values(by=\"stop_sequence\")[\"delay\"], order)\n",
    "    y = np.polyval(p,test_day.sort_values(by=\"stop_sequence\")[\"stop_sequence\"])\n",
    "    print(order , \" : \", r2_score(test_day.sort_values(by=\"stop_sequence\")[\"delay\"], y))"
   ]
  },
  {
   "attachments": {},
   "cell_type": "markdown",
   "metadata": {},
   "source": [
    "### Test"
   ]
  },
  {
   "cell_type": "code",
   "execution_count": null,
   "metadata": {},
   "outputs": [],
   "source": [
    "from sklearn.metrics import r2_score\n",
    "\n",
    "\n",
    "for order in range(1, 15):\n",
    "    p = np.polyfit(test.sort_values(by=\"stop_sequence\")[\"stop_sequence\"],test.sort_values(by=\"stop_sequence\")[\"delay\"], order)\n",
    "    y = np.polyval(p,test.sort_values(by=\"stop_sequence\")[\"stop_sequence\"])\n",
    "    print(order , \" : \", r2_score(test.sort_values(by=\"stop_sequence\")[\"delay\"], y))"
   ]
  },
  {
   "cell_type": "code",
   "execution_count": null,
   "metadata": {},
   "outputs": [],
   "source": [
    "order = 9\n",
    "\n",
    "p = np.polyfit(test.sort_values(by=\"stop_sequence\")[\"stop_sequence\"],test.sort_values(by=\"stop_sequence\")[\"delay\"], order)\n",
    "y = np.polyval(p,test.sort_values(by=\"stop_sequence\")[\"stop_sequence\"])\n",
    "\n",
    "order2 = 7\n",
    "\n",
    "p2 =  np.polyfit(test.sort_values(by=\"stop_sequence\")[\"stop_sequence\"], y, order2)\n",
    "y2 = np.polyval(p2,test.sort_values(by=\"stop_sequence\")[\"stop_sequence\"])\n",
    "fig = px.scatter(x=test.sort_values(by=\"stop_sequence\")[\"stop_sequence\"], y =y2)\n",
    "fig.show()"
   ]
  },
  {
   "cell_type": "code",
   "execution_count": null,
   "metadata": {},
   "outputs": [],
   "source": [
    "y, y2"
   ]
  },
  {
   "cell_type": "code",
   "execution_count": null,
   "metadata": {},
   "outputs": [],
   "source": [
    "\n",
    "for order in range(1, 15):\n",
    "    p2 = np.polyfit(test.sort_values(by=\"stop_sequence\")[\"stop_sequence\"],y, order)\n",
    "    y2 = np.polyval(p2,test.sort_values(by=\"stop_sequence\")[\"stop_sequence\"])\n",
    "    print(order , \" : \", r2_score(y, y2))"
   ]
  },
  {
   "attachments": {},
   "cell_type": "markdown",
   "metadata": {},
   "source": [
    "## Full method "
   ]
  },
  {
   "cell_type": "code",
   "execution_count": null,
   "metadata": {},
   "outputs": [],
   "source": [
    "import geopandas as gpd"
   ]
  },
  {
   "cell_type": "code",
   "execution_count": null,
   "metadata": {},
   "outputs": [],
   "source": [
    "lines = gpd.read_file(\"data/map/2109_STIB_MIVB_Network/ACTU_LINES.shp\")\n",
    "stops_geom = gpd.read_file(\"data/map/2109_STIB_MIVB_Network/ACTU_STOPS.shp\")"
   ]
  },
  {
   "cell_type": "code",
   "execution_count": null,
   "metadata": {},
   "outputs": [],
   "source": [
    "stops_geom"
   ]
  },
  {
   "cell_type": "code",
   "execution_count": null,
   "metadata": {},
   "outputs": [],
   "source": [
    "test = stops_geom[[\"Code_Ligne\", \"Variante\", \"stop_id\"]].groupby([\"Code_Ligne\", \"Variante\", \"stop_id\"], as_index=False).count()\n",
    "test\n",
    "test.groupby([\"Code_Ligne\", \"stop_id\"], as_index = False).count().sort_values(\"Variante\", ascending = False )"
   ]
  },
  {
   "cell_type": "code",
   "execution_count": null,
   "metadata": {},
   "outputs": [],
   "source": [
    "def detect_direction(\n",
    "    ligne: str, geom: pd.DataFrame, schedule: pd.DataFrame\n",
    ") -> pd.DataFrame:\n",
    "    g = geom[(geom.ligne_cleaned == ligne)]\n",
    "    g_dir = pd.DataFrame()\n",
    "\n",
    "    for name, group in g.groupby(\"VARIANTE\"):\n",
    "        sched_stops = schedule.sort_values(\"time_seconds\").stop_name.to_list()\n",
    "\n",
    "        hset_fr = group.sort_values(\"succession\").stop_id.to_list()\n",
    "        hset_nl = group.sort_values(\"succession\").descr_nl.to_list()\n",
    "\n",
    "        for i in range(len(hset_fr) - len(sched_stops) + 1):\n",
    "            if (sched_stops == hset_fr[i : i + len(sched_stops)]) | (\n",
    "                sched_stops == hset_nl[i : i + len(sched_stops)]\n",
    "            ):\n",
    "                g_dir = group\n",
    "\n",
    "    return g_dir"
   ]
  },
  {
   "cell_type": "code",
   "execution_count": null,
   "metadata": {},
   "outputs": [],
   "source": [
    "stops_geom[stops_geom[\"numero_lig\"] == 1]"
   ]
  },
  {
   "cell_type": "code",
   "execution_count": null,
   "metadata": {},
   "outputs": [],
   "source": [
    "stg = stops_geom.groupby([\"numero_lig\"])"
   ]
  },
  {
   "cell_type": "code",
   "execution_count": null,
   "metadata": {},
   "outputs": [],
   "source": [
    "res_light = res[[\"date_normalized\", \"route_short_name\", \"stop_id\", \"delay\", \"stop_sequence\", \"direction_id\"]].groupby([\"route_short_name\", \"direction_id\"])"
   ]
  },
  {
   "cell_type": "code",
   "execution_count": null,
   "metadata": {},
   "outputs": [],
   "source": [
    "res_g_test = res.groupby([\"trip_id\", \"date_normalized\"])"
   ]
  },
  {
   "cell_type": "code",
   "execution_count": null,
   "metadata": {},
   "outputs": [],
   "source": [
    "count = 0\n",
    "index = 0\n",
    "br = 0\n",
    "rec = []\n",
    "for name, sched in tqdm(res_g_test):\n",
    "    if True:\n",
    "        if sched.shape[0]>1:\n",
    "            sched_stops = sched.sort_values(\"stop_sequence\").stop_name.to_list()[:2]\n",
    "            geo = stg.get_group(int(sched.iloc[0].route_short_name))\n",
    "            var = pd.DataFrame()\n",
    "\n",
    "            for name, group in geo.groupby([\"Variante\"]):\n",
    "\n",
    "                hset_fr = group.sort_values(\"succession\").descr_fr.to_list()\n",
    "                hset_nl = group.sort_values(\"succession\").descr_nl.to_list()\n",
    "                try:\n",
    "                    try:\n",
    "                        i1 = hset_fr.index(sched_stops[0])\n",
    "                    except:\n",
    "                        i1 = hset_nl.index(sched_stops[0])\n",
    "\n",
    "                    try:\n",
    "                        i2 = hset_fr.index(sched_stops[1])\n",
    "                    except:\n",
    "                        i2 = hset_nl.index(sched_stops[1])\n",
    "                except:\n",
    "                    #print(sched.shape)\n",
    "                    pass\n",
    "                    \n",
    "                if i1<i2:\n",
    "                    var = group\n",
    "                    index += 1\n",
    "\n",
    "            if var.empty :\n",
    "                #print(sched_stops, hset_fr, hset_nl)\n",
    "                pass\n",
    "            else:\n",
    "                rec.extend(sched.merge(\n",
    "                    var[[\"succession\", \"stop_id\"]],\n",
    "                    \"left\",\n",
    "                    \"stop_id\"\n",
    "                ).to_dict(\"record\"))\n",
    "\n",
    "    #br += 1\n",
    "    count += 1\n",
    "\n",
    "count, index"
   ]
  },
  {
   "attachments": {},
   "cell_type": "markdown",
   "metadata": {},
   "source": [
    "## Clean Successions"
   ]
  },
  {
   "cell_type": "code",
   "execution_count": null,
   "metadata": {},
   "outputs": [],
   "source": [
    "seq_data = pd.DataFrame(rec)\n",
    "seq_data.to_pickle(\"data/computed/matches_clean_EWT_delay_seq.pkl\")"
   ]
  },
  {
   "cell_type": "code",
   "execution_count": null,
   "metadata": {},
   "outputs": [],
   "source": [
    "seq = pd.read_pickle(\"data/computed/matches_clean_EWT_delay_seq.pkl\")"
   ]
  },
  {
   "cell_type": "code",
   "execution_count": null,
   "metadata": {},
   "outputs": [],
   "source": [
    "seq_f = seq[seq.regularity == 1][[\"route_short_name\", \"stop_name\" ,\"date_normalized\", \"direction_id\", \"succession\", \"EWT\"]].groupby([\"route_short_name\", \"stop_name\", \"date_normalized\", \"direction_id\", \"succession\"], as_index = False).median()"
   ]
  },
  {
   "attachments": {},
   "cell_type": "markdown",
   "metadata": {},
   "source": [
    "#### Sample 1"
   ]
  },
  {
   "cell_type": "code",
   "execution_count": null,
   "metadata": {},
   "outputs": [],
   "source": [
    "route = \"7\"\n",
    "direction = 1\n",
    "\n",
    "sample_date = seq_f[(seq_f.route_short_name == route) & (seq_f.direction_id == direction)].sort_values(\"succession\")\n",
    "fig = px.scatter(sample_date, x=\"succession\", y=\"EWT\", hover_data=[\"stop_name\"], color = \"date_normalized\")\n",
    "fig.show()"
   ]
  },
  {
   "cell_type": "code",
   "execution_count": null,
   "metadata": {},
   "outputs": [],
   "source": [
    "route = \"7\"\n",
    "date = \"08-09-2021\"\n",
    "direction = 1\n",
    "\n",
    "sample = seq_f[(seq_f.route_short_name == route) & (seq_f.date_normalized == date) & (seq_f.direction_id == direction)].sort_values(\"succession\")\n",
    "fig = px.scatter(sample, x=\"succession\", y=\"EWT\", hover_data=[\"stop_name\"])\n",
    "fig.show()"
   ]
  },
  {
   "cell_type": "code",
   "execution_count": null,
   "metadata": {},
   "outputs": [],
   "source": [
    "thresh = 0.90\n",
    "for order in range(1, 50):\n",
    "    p = np.polyfit(sample.sort_values(by=\"succession\")[\"succession\"],sample.sort_values(by=\"succession\")[\"EWT\"], order)\n",
    "    y = np.polyval(p,sample.sort_values(by=\"succession\")[\"succession\"])\n",
    "    t = r2_score(sample.sort_values(by=\"succession\")[\"EWT\"], y)\n",
    "    if t > thresh :\n",
    "        print(order , \" : \", t)\n",
    "        order_f = order\n",
    "        break\n",
    "\n",
    "p = np.polyfit(sample.sort_values(by=\"succession\")[\"succession\"],sample.sort_values(by=\"succession\")[\"EWT\"], order_f)\n",
    "y = np.polyval(p,sample.sort_values(by=\"succession\")[\"succession\"])\n",
    "fig = px.scatter(x=sample.sort_values(by=\"succession\")[\"succession\"], y=y)\n",
    "fig.show()\n"
   ]
  },
  {
   "cell_type": "code",
   "execution_count": null,
   "metadata": {},
   "outputs": [],
   "source": [
    "sample[\"smoothen_delay\"] = y\n",
    "sample[\"growth\"] = sample[\"smoothen_delay\"] - sample[\"smoothen_delay\"].shift(1)\n",
    "\n",
    "thresh_growth = 0.2\n",
    "cut_off = np.std(sample[\"growth\"])*thresh_growth\n",
    "\n",
    "sample[\"growth_cut\"] = np.where(\n",
    "    sample[\"growth\"].abs() >= cut_off,\n",
    "    sample[\"growth\"],\n",
    "    np.NaN\n",
    ")\n",
    "\n",
    "sample[\"lab_growth\"] = np.where(\n",
    "    np.isnan(sample[\"growth_cut\"]) == True,\n",
    "    np.NaN,\n",
    "    np.where(\n",
    "         (sample[\"growth_cut\"] > 0),\n",
    "         1,\n",
    "         -1\n",
    "    )\n",
    ")\n",
    "\n",
    "sample.drop(columns=[\"smoothen_delay\", \"growth\"])"
   ]
  },
  {
   "attachments": {},
   "cell_type": "markdown",
   "metadata": {},
   "source": [
    "## All Samples"
   ]
  },
  {
   "cell_type": "code",
   "execution_count": null,
   "metadata": {},
   "outputs": [],
   "source": [
    "seq = pd.read_pickle(\"data/computed/matches_clean_EWT_delay_seq.pkl\")\n",
    "seq_f = seq[[\"route_short_name\", \"stop_name\" ,\"date_normalized\", \"trip_headsign\", \"succession\", \"EWT\"]].groupby([\"route_short_name\", \"stop_name\", \"date_normalized\", \"trip_headsign\", \"succession\"], as_index = False).median()"
   ]
  },
  {
   "cell_type": "code",
   "execution_count": null,
   "metadata": {},
   "outputs": [],
   "source": [
    "seq_g = seq_f.groupby([\"route_short_name\", \"date_normalized\", \"trip_headsign\"])"
   ]
  },
  {
   "cell_type": "code",
   "execution_count": null,
   "metadata": {},
   "outputs": [],
   "source": [
    "res = []\n",
    "for name, group in tqdm(seq_g):\n",
    "    group = group.sort_values(\"succession\")\n",
    "    group = group.dropna()\n",
    "    try :\n",
    "        if group.empty == False:\n",
    "            thresh = 0.95\n",
    "            for order in range(1, 50):\n",
    "                \n",
    "                p = np.polyfit(group.sort_values(by=\"succession\")[\"succession\"],group.sort_values(by=\"succession\")[\"EWT\"], order)\n",
    "                y = np.polyval(p,group.sort_values(by=\"succession\")[\"succession\"])\n",
    "                t = r2_score(group.sort_values(by=\"succession\")[\"EWT\"], y)\n",
    "                if t > thresh :\n",
    "                    order_f = order\n",
    "                    break\n",
    "\n",
    "            p = np.polyfit(group.sort_values(by=\"succession\")[\"succession\"],group.sort_values(by=\"succession\")[\"EWT\"], order_f)\n",
    "\n",
    "            group[\"smoothen_delay\"] = np.polyval(p,group.sort_values(by=\"succession\")[\"succession\"])\n",
    "            group[\"growth\"] = group[\"smoothen_delay\"] - group[\"smoothen_delay\"].shift(1)\n",
    "\n",
    "            thresh_growth = 0.10\n",
    "            cut_off = np.std(group[\"growth\"])*thresh_growth\n",
    "\n",
    "            group[\"growth_cut\"] = np.where(\n",
    "                group[\"growth\"].abs() >= cut_off,\n",
    "                group[\"growth\"],\n",
    "                np.NaN\n",
    "            )\n",
    "\n",
    "            group[\"lab_growth\"] = np.where(\n",
    "                np.isnan(group[\"growth_cut\"]) == True,\n",
    "                np.NaN,\n",
    "                np.where(\n",
    "                    (group[\"growth_cut\"] > 0),\n",
    "                    1,\n",
    "                    -1\n",
    "                )\n",
    "            )\n",
    "\n",
    "            group.drop(columns=[\"smoothen_delay\", \"growth\"])\n",
    "            res.extend(group.to_dict(\"records\"))\n",
    "    except Exception as e :\n",
    "        print(name)\n",
    "        print(group)\n",
    "        print(e)\n",
    "        break\n",
    "\n",
    "    "
   ]
  },
  {
   "cell_type": "code",
   "execution_count": null,
   "metadata": {},
   "outputs": [],
   "source": [
    "res_d = pd.DataFrame(res)"
   ]
  },
  {
   "cell_type": "code",
   "execution_count": null,
   "metadata": {},
   "outputs": [],
   "source": [
    "res_d.to_pickle(\"data/computed/lines_growth_EWT_th.pkl\")"
   ]
  },
  {
   "cell_type": "code",
   "execution_count": null,
   "metadata": {},
   "outputs": [],
   "source": [
    "res_g = res_d.groupby([\"route_short_name\", \"date_normalized\", \"direction_id\"])"
   ]
  },
  {
   "cell_type": "code",
   "execution_count": null,
   "metadata": {},
   "outputs": [],
   "source": [
    "test.sort_values(\"succession\")"
   ]
  },
  {
   "cell_type": "code",
   "execution_count": null,
   "metadata": {},
   "outputs": [],
   "source": [
    "test = res_g.get_group((\"1\", \"08-09-2021\", 0))\n",
    "test[\"lab_growth\"] = test[\"lab_growth\"].astype(\"str\")\n",
    "fig = px.scatter(test, x=\"succession\", y=\"EWT\", hover_data=[\"stop_name\"], color=\"lab_growth\", color_continuous_scale=\"portland\")\n",
    "fig.show()"
   ]
  },
  {
   "cell_type": "code",
   "execution_count": null,
   "metadata": {},
   "outputs": [],
   "source": [
    "thresh = 0.95\n",
    "for order in range(1, 50):\n",
    "    p = np.polyfit(test.sort_values(by=\"succession\")[\"succession\"],test.sort_values(by=\"succession\")[\"delay\"], order)\n",
    "    y = np.polyval(p,test.sort_values(by=\"succession\")[\"succession\"])\n",
    "    t = r2_score(test.sort_values(by=\"succession\")[\"delay\"], y)\n",
    "    if t > thresh :\n",
    "        print(order , \" : \", t)\n",
    "        order_f = order\n",
    "        break\n",
    "\n",
    "p = np.polyfit(test.sort_values(by=\"succession\")[\"succession\"],test.sort_values(by=\"succession\")[\"delay\"], order_f)\n",
    "y = np.polyval(p,test.sort_values(by=\"succession\")[\"succession\"])\n",
    "fig = px.scatter(x=test.sort_values(by=\"succession\")[\"succession\"], y=y)\n",
    "fig.show()\n"
   ]
  },
  {
   "cell_type": "code",
   "execution_count": null,
   "metadata": {},
   "outputs": [],
   "source": []
  }
 ],
 "metadata": {
  "kernelspec": {
   "display_name": "base",
   "language": "python",
   "name": "python3"
  },
  "language_info": {
   "codemirror_mode": {
    "name": "ipython",
    "version": 3
   },
   "file_extension": ".py",
   "mimetype": "text/x-python",
   "name": "python",
   "nbconvert_exporter": "python",
   "pygments_lexer": "ipython3",
   "version": "3.9.12"
  },
  "orig_nbformat": 4,
  "vscode": {
   "interpreter": {
    "hash": "64d58bae5e1836223e39dfe00c2cc12f2d07ff9816769b2cafc50efbdc5d5643"
   }
  }
 },
 "nbformat": 4,
 "nbformat_minor": 2
}
