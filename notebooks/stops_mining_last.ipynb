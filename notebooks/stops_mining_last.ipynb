{
 "cells": [
  {
   "attachments": {},
   "cell_type": "markdown",
   "metadata": {},
   "source": [
    "# Frequent Item Mining"
   ]
  },
  {
   "cell_type": "code",
   "execution_count": 1,
   "metadata": {},
   "outputs": [],
   "source": [
    "import pandas as pd\n",
    "import numpy as np\n",
    "import plotly.express as px\n",
    "import geopandas as gpd\n",
    "from tqdm import tqdm\n",
    "import pandas as pd\n",
    "import folium\n",
    "import json\n",
    "import ast\n",
    "\n",
    "\n",
    "\n",
    "pd.set_option('display.max_columns', None)\n",
    "pd.set_option('mode.chained_assignment', None)"
   ]
  },
  {
   "cell_type": "code",
   "execution_count": 2,
   "metadata": {},
   "outputs": [],
   "source": [
    "res = pd.read_pickle(\"data/computed/matches_clean_EWT_delay.pkl\")\n",
    "tt = res[[\"route_short_name\",\"mode\"]].drop_duplicates()\n",
    "del res"
   ]
  },
  {
   "cell_type": "code",
   "execution_count": 3,
   "metadata": {},
   "outputs": [],
   "source": [
    "data = pd.read_pickle(\"data/computed/lines_growth.pkl\")\n",
    "data = data.merge(\n",
    "    tt,\n",
    "    \"left\",\n",
    "    \"route_short_name\"\n",
    ")"
   ]
  },
  {
   "cell_type": "code",
   "execution_count": 4,
   "metadata": {},
   "outputs": [],
   "source": [
    "data = data.groupby([\"route_short_name\", \"date_normalized\", \"direction_id\", \"mode\", \"lab_growth\"], as_index=False).apply(lambda x: pd.Series({\"stops\" : [x.stop_name.to_list()]}))"
   ]
  },
  {
   "attachments": {},
   "cell_type": "markdown",
   "metadata": {},
   "source": [
    "## Delay creators stops"
   ]
  },
  {
   "cell_type": "code",
   "execution_count": 5,
   "metadata": {},
   "outputs": [],
   "source": [
    "gen = [t for x in data[(data.lab_growth == 1)][\"stops\"].to_list() for t in x ]\n",
    "metro_del = [t for x in data[(data.lab_growth == 1) & (data[\"mode\"] == \"M\")][\"stops\"].to_list() for t in x ]\n",
    "tram_del = [t for x in data[(data.lab_growth == 1) & (data[\"mode\"] == \"T\")][\"stops\"].to_list() for t in x ]\n",
    "bus_del = [t for x in data[(data.lab_growth == 1) & (data[\"mode\"] == \"B\")][\"stops\"].to_list() for t in x ]"
   ]
  },
  {
   "cell_type": "code",
   "execution_count": 6,
   "metadata": {},
   "outputs": [],
   "source": [
    "config = [{\"data\" : metro_del, \"type\" : \"M\", \"sup\": 0.45}, {\"data\" : tram_del, \"type\" : \"T\", \"sup\": 0.05}, {\"data\" : bus_del, \"type\" : \"B\", \"sup\": 0.03}]\n",
    "\n",
    "\n",
    "config_gen = [{\"data\" : gen, \"type\" : \"M\", \"sup\": 0.03}]"
   ]
  },
  {
   "cell_type": "code",
   "execution_count": 7,
   "metadata": {},
   "outputs": [
    {
     "name": "stderr",
     "output_type": "stream",
     "text": [
      "/Users/mjdaoudi/opt/anaconda3/lib/python3.9/site-packages/scipy/__init__.py:146: UserWarning: A NumPy version >=1.16.5 and <1.23.0 is required for this version of SciPy (detected version 1.23.4\n",
      "  warnings.warn(f\"A NumPy version >={np_minversion} and <{np_maxversion}\"\n"
     ]
    },
    {
     "name": "stdout",
     "output_type": "stream",
     "text": [
      "=============\n",
      "M\n",
      "transaction encoder\n",
      "fitting the te\n",
      "Computing FP\n",
      "=============\n",
      "T\n",
      "transaction encoder\n",
      "fitting the te\n",
      "Computing FP\n",
      "=============\n",
      "B\n",
      "transaction encoder\n",
      "fitting the te\n",
      "Computing FP\n"
     ]
    }
   ],
   "source": [
    "from mlxtend.preprocessing import TransactionEncoder\n",
    "from mlxtend.frequent_patterns import fpgrowth\n",
    "\n",
    "for _ in config:\n",
    "    print(\"=============\")\n",
    "    print(_[\"type\"])\n",
    "    print(\"transaction encoder\")\n",
    "    te = TransactionEncoder()\n",
    "    print(\"fitting the te\")\n",
    "    te_ary = te.fit(_[\"data\"]).transform(_[\"data\"])\n",
    "    df_late = pd.DataFrame(te_ary, columns=te.columns_)\n",
    "    print(\"Computing FP\")\n",
    "    fp_late = fpgrowth(df_late, min_support=_[\"sup\"], use_colnames=True)\n",
    "    _[\"stops_patterns\"] = np.unique(np.array([t for k in fp_late.itemsets.apply(lambda x: list(x)) for t in k]))"
   ]
  },
  {
   "cell_type": "code",
   "execution_count": 8,
   "metadata": {},
   "outputs": [
    {
     "data": {
      "text/plain": [
       "((4,), (79,), (70,))"
      ]
     },
     "execution_count": 8,
     "metadata": {},
     "output_type": "execute_result"
    }
   ],
   "source": [
    "config[0][\"stops_patterns\"].shape, config[1][\"stops_patterns\"].shape, config[2][\"stops_patterns\"].shape"
   ]
  },
  {
   "cell_type": "code",
   "execution_count": 9,
   "metadata": {},
   "outputs": [
    {
     "ename": "KeyError",
     "evalue": "'stops_patterns'",
     "output_type": "error",
     "traceback": [
      "\u001b[0;31m---------------------------------------------------------------------------\u001b[0m",
      "\u001b[0;31mKeyError\u001b[0m                                  Traceback (most recent call last)",
      "\u001b[0;32m/var/folders/dz/p7gp3f295wxf90tn1dv3qkq40000gn/T/ipykernel_49714/2795554071.py\u001b[0m in \u001b[0;36m<module>\u001b[0;34m\u001b[0m\n\u001b[0;32m----> 1\u001b[0;31m \u001b[0mconfig_gen\u001b[0m\u001b[0;34m[\u001b[0m\u001b[0;36m0\u001b[0m\u001b[0;34m]\u001b[0m\u001b[0;34m[\u001b[0m\u001b[0;34m\"stops_patterns\"\u001b[0m\u001b[0;34m]\u001b[0m\u001b[0;34m.\u001b[0m\u001b[0mshape\u001b[0m\u001b[0;34m\u001b[0m\u001b[0;34m\u001b[0m\u001b[0m\n\u001b[0m",
      "\u001b[0;31mKeyError\u001b[0m: 'stops_patterns'"
     ]
    }
   ],
   "source": [
    "config_gen[0][\"stops_patterns\"].shape"
   ]
  },
  {
   "cell_type": "code",
   "execution_count": 10,
   "metadata": {},
   "outputs": [],
   "source": [
    "plot = []\n",
    "\n",
    "for item in config:\n",
    "    plot.extend([{\"mode\" : item[\"type\"], \"stop_name\" : x} for x in item[\"stops_patterns\"]])\n",
    "\n",
    "delay_stops = pd.DataFrame(plot)\n"
   ]
  },
  {
   "attachments": {},
   "cell_type": "markdown",
   "metadata": {},
   "source": [
    "### Plot stops"
   ]
  },
  {
   "cell_type": "code",
   "execution_count": 11,
   "metadata": {},
   "outputs": [],
   "source": [
    "stops = pd.read_csv(\"data/timetables/gtfs3Sept/stops.txt\")\n",
    "coord = stops[[\"stop_name\", \"stop_lat\", \"stop_lon\"]].drop_duplicates(\"stop_name\")"
   ]
  },
  {
   "cell_type": "code",
   "execution_count": 12,
   "metadata": {},
   "outputs": [],
   "source": [
    "delay_stops = delay_stops.merge(\n",
    "    coord,\n",
    "    \"left\",\n",
    "    \"stop_name\"\n",
    ")"
   ]
  },
  {
   "cell_type": "code",
   "execution_count": 13,
   "metadata": {},
   "outputs": [
    {
     "data": {
      "text/html": [
       "<div>\n",
       "<style scoped>\n",
       "    .dataframe tbody tr th:only-of-type {\n",
       "        vertical-align: middle;\n",
       "    }\n",
       "\n",
       "    .dataframe tbody tr th {\n",
       "        vertical-align: top;\n",
       "    }\n",
       "\n",
       "    .dataframe thead th {\n",
       "        text-align: right;\n",
       "    }\n",
       "</style>\n",
       "<table border=\"1\" class=\"dataframe\">\n",
       "  <thead>\n",
       "    <tr style=\"text-align: right;\">\n",
       "      <th></th>\n",
       "      <th>mode</th>\n",
       "      <th>stop_name</th>\n",
       "      <th>stop_lat</th>\n",
       "      <th>stop_lon</th>\n",
       "    </tr>\n",
       "  </thead>\n",
       "  <tbody>\n",
       "    <tr>\n",
       "      <th>0</th>\n",
       "      <td>M</td>\n",
       "      <td>ARTS-LOI</td>\n",
       "      <td>50.845476</td>\n",
       "      <td>4.369121</td>\n",
       "    </tr>\n",
       "    <tr>\n",
       "      <th>1</th>\n",
       "      <td>M</td>\n",
       "      <td>BEEKKANT</td>\n",
       "      <td>50.854237</td>\n",
       "      <td>4.323407</td>\n",
       "    </tr>\n",
       "    <tr>\n",
       "      <th>2</th>\n",
       "      <td>M</td>\n",
       "      <td>DELACROIX</td>\n",
       "      <td>50.845805</td>\n",
       "      <td>4.323060</td>\n",
       "    </tr>\n",
       "    <tr>\n",
       "      <th>3</th>\n",
       "      <td>M</td>\n",
       "      <td>GARE DE L'OUEST</td>\n",
       "      <td>50.848351</td>\n",
       "      <td>4.322094</td>\n",
       "    </tr>\n",
       "    <tr>\n",
       "      <th>4</th>\n",
       "      <td>T</td>\n",
       "      <td>ALBERT</td>\n",
       "      <td>50.821090</td>\n",
       "      <td>4.343888</td>\n",
       "    </tr>\n",
       "    <tr>\n",
       "      <th>...</th>\n",
       "      <td>...</td>\n",
       "      <td>...</td>\n",
       "      <td>...</td>\n",
       "      <td>...</td>\n",
       "    </tr>\n",
       "    <tr>\n",
       "      <th>148</th>\n",
       "      <td>B</td>\n",
       "      <td>VANDENHOVEN</td>\n",
       "      <td>50.882600</td>\n",
       "      <td>4.407090</td>\n",
       "    </tr>\n",
       "    <tr>\n",
       "      <th>149</th>\n",
       "      <td>B</td>\n",
       "      <td>VICTOR HUGO</td>\n",
       "      <td>50.847707</td>\n",
       "      <td>4.397407</td>\n",
       "    </tr>\n",
       "    <tr>\n",
       "      <th>150</th>\n",
       "      <td>B</td>\n",
       "      <td>WIELS</td>\n",
       "      <td>50.824159</td>\n",
       "      <td>4.325394</td>\n",
       "    </tr>\n",
       "    <tr>\n",
       "      <th>151</th>\n",
       "      <td>B</td>\n",
       "      <td>WILLEBROEK</td>\n",
       "      <td>50.863306</td>\n",
       "      <td>4.353795</td>\n",
       "    </tr>\n",
       "    <tr>\n",
       "      <th>152</th>\n",
       "      <td>B</td>\n",
       "      <td>WTC</td>\n",
       "      <td>50.861176</td>\n",
       "      <td>4.355358</td>\n",
       "    </tr>\n",
       "  </tbody>\n",
       "</table>\n",
       "<p>153 rows × 4 columns</p>\n",
       "</div>"
      ],
      "text/plain": [
       "    mode        stop_name   stop_lat  stop_lon\n",
       "0      M         ARTS-LOI  50.845476  4.369121\n",
       "1      M         BEEKKANT  50.854237  4.323407\n",
       "2      M        DELACROIX  50.845805  4.323060\n",
       "3      M  GARE DE L'OUEST  50.848351  4.322094\n",
       "4      T           ALBERT  50.821090  4.343888\n",
       "..   ...              ...        ...       ...\n",
       "148    B      VANDENHOVEN  50.882600  4.407090\n",
       "149    B      VICTOR HUGO  50.847707  4.397407\n",
       "150    B            WIELS  50.824159  4.325394\n",
       "151    B       WILLEBROEK  50.863306  4.353795\n",
       "152    B              WTC  50.861176  4.355358\n",
       "\n",
       "[153 rows x 4 columns]"
      ]
     },
     "execution_count": 13,
     "metadata": {},
     "output_type": "execute_result"
    }
   ],
   "source": [
    "delay_stops"
   ]
  },
  {
   "cell_type": "code",
   "execution_count": 14,
   "metadata": {},
   "outputs": [
    {
     "name": "stderr",
     "output_type": "stream",
     "text": [
      "/Users/mjdaoudi/opt/anaconda3/lib/python3.9/site-packages/plotly/io/_renderers.py:395: DeprecationWarning:\n",
      "\n",
      "distutils Version classes are deprecated. Use packaging.version instead.\n",
      "\n",
      "/Users/mjdaoudi/opt/anaconda3/lib/python3.9/site-packages/plotly/io/_renderers.py:395: DeprecationWarning:\n",
      "\n",
      "distutils Version classes are deprecated. Use packaging.version instead.\n",
      "\n"
     ]
    },
    {
     "data": {
      "application/vnd.plotly.v1+json": {
       "config": {
        "plotlyServerURL": "https://plot.ly"
       },
       "data": [
        {
         "hovertemplate": "<b>%{hovertext}</b><br><br>mode=M<br>stop_lat=%{lat}<br>stop_lon=%{lon}<extra></extra>",
         "hovertext": [
          "ARTS-LOI",
          "BEEKKANT",
          "DELACROIX",
          "GARE DE L'OUEST"
         ],
         "lat": [
          50.845476,
          50.854237,
          50.845805,
          50.848351
         ],
         "legendgroup": "M",
         "lon": [
          4.369121,
          4.323407,
          4.32306,
          4.322094
         ],
         "marker": {
          "color": "#636efa"
         },
         "mode": "markers",
         "name": "M",
         "showlegend": true,
         "subplot": "mapbox",
         "type": "scattermapbox"
        },
        {
         "hovertemplate": "<b>%{hovertext}</b><br><br>mode=T<br>stop_lat=%{lat}<br>stop_lon=%{lon}<extra></extra>",
         "hovertext": [
          "ALBERT",
          "ANNEESSENS",
          "ARAUCARIA",
          "AUDERGHEM-SHOP.",
          "BAILLI",
          "BEMPT",
          "BERKENDAEL",
          "BESME",
          "BOETENDAEL",
          "BOONDAEL GARE",
          "BOTANIQUE",
          "BOURDON",
          "BOURSE",
          "BRESIL",
          "BROUSTIN",
          "BUISSONNETS",
          "CARREFOUR STALLE",
          "CAVELL",
          "CHIEN VERT",
          "CIM. DE JETTE",
          "DA VINCI",
          "DE WAND",
          "DEFACQZ",
          "DEMINEURS",
          "EGIDE VAN OPHEM",
          "FOREST CENTRE",
          "GARE DU MIDI",
          "GARE DU NORD",
          "GILLON",
          "GJ MARTIN",
          "GLOBE",
          "GUILL. DE GREEF",
          "HEEMBEEK",
          "HEROS",
          "HERRMANN-DEBROUX",
          "HOPITAL BRUGMANN",
          "HORTA",
          "JANSON",
          "JULES DE TROOZ",
          "LEMONNIER",
          "LEOPOLD III",
          "LOUIS MARCELIS",
          "MADOUX",
          "MARLOW",
          "MASUI",
          "MAX WALLER",
          "MEISER",
          "MERLO",
          "MESSIDOR",
          "MIROIR",
          "MONACO",
          "MUSEE DU TRAM",
          "NEERSTALLE",
          "OPPEMSTRAAT",
          "PALAIS",
          "PARC DES SOURCES",
          "PARC SENY",
          "PARVIS ST-GILLES",
          "PENTATHLON",
          "POLYCL. BRUGMANN",
          "PORTE DE HAL",
          "PRINC. ELISABETH",
          "QUATRE BRAS",
          "ROYALE",
          "SAINT-DENIS",
          "SAINT-LAMBERT",
          "SCHWEITZER",
          "SIMONIS",
          "STEPHANIE",
          "STOCKEL",
          "TER MEEREN",
          "THOMAS",
          "TIR AUX PIGEONS",
          "TROIS COULEURS",
          "UZ BRUSSEL",
          "VAN PRAET",
          "VANDERKINDERE",
          "WIELS",
          "WOLVENDAEL"
         ],
         "lat": [
          50.82109,
          50.844184,
          50.892871,
          50.816646,
          50.827127,
          50.802176,
          50.818079,
          50.863632,
          50.80664,
          50.801169,
          50.853704,
          50.78698,
          50.847772,
          50.802634,
          50.867911,
          50.891291,
          50.79673,
          50.811716,
          50.834697,
          50.879312,
          50.876747,
          50.895678,
          50.828607,
          50.879096,
          50.79622,
          50.81194,
          50.836497,
          50.860134,
          50.855891,
          50.836753,
          50.800674,
          50.882396,
          50.888855,
          50.803597,
          50.812483,
          50.885793,
          50.825702,
          50.825907,
          50.871164,
          50.840084,
          50.857622,
          50.846952,
          50.827135,
          50.801591,
          50.869411,
          50.806607,
          50.855501,
          50.798779,
          50.809808,
          50.870847,
          50.812948,
          50.832932,
          50.801295,
          50.825801,
          50.843692,
          50.837131,
          50.808321,
          50.829721,
          50.860596,
          50.889219,
          50.832547,
          50.873267,
          50.820296,
          50.841426,
          50.810537,
          50.890848,
          50.864418,
          50.863666,
          50.833327,
          50.840858,
          50.844993,
          50.865348,
          50.81981,
          50.821865,
          50.88634,
          50.881205,
          50.814339,
          50.824159,
          50.79831
         ],
         "legendgroup": "T",
         "lon": [
          4.343888,
          4.345254,
          4.363956,
          4.425399,
          4.363428,
          4.316292,
          4.346047,
          4.324662,
          4.343477,
          4.393449,
          4.365987,
          4.330689,
          4.348972,
          4.390584,
          4.326561,
          4.368867,
          4.321064,
          4.357429,
          4.426884,
          4.333755,
          4.412529,
          4.357282,
          4.36228,
          4.332662,
          4.324184,
          4.31919,
          4.337946,
          4.359946,
          4.366991,
          4.41154,
          4.337416,
          4.335686,
          4.374708,
          4.342061,
          4.428388,
          4.332671,
          4.34549,
          4.355286,
          4.361237,
          4.341039,
          4.398493,
          4.483413,
          4.444942,
          4.340593,
          4.363255,
          4.314443,
          4.395892,
          4.319388,
          4.345455,
          4.324577,
          4.322708,
          4.432063,
          4.317314,
          4.507531,
          4.36073,
          4.435076,
          4.427177,
          4.346537,
          4.40152,
          4.334089,
          4.342972,
          4.377632,
          4.476975,
          4.358345,
          4.317971,
          4.344463,
          4.29709,
          4.329612,
          4.357041,
          4.462754,
          4.499935,
          4.362872,
          4.467423,
          4.447474,
          4.311669,
          4.373115,
          4.348376,
          4.325394,
          4.343077
         ],
         "marker": {
          "color": "#EF553B"
         },
         "mode": "markers",
         "name": "T",
         "showlegend": true,
         "subplot": "mapbox",
         "type": "scattermapbox"
        },
        {
         "hovertemplate": "<b>%{hovertext}</b><br><br>mode=B<br>stop_lat=%{lat}<br>stop_lon=%{lon}<extra></extra>",
         "hovertext": [
          "ANTOON VAN OSS",
          "ARBRE BALLON",
          "ARTEMIS",
          "AUDREY HEPBURN",
          "AVENUE DU ROI",
          "BASTOGNE",
          "BERVOETS",
          "BOCKSTAEL",
          "BONAVENTURE",
          "BORDET STATION",
          "BOURDON",
          "BOURSE",
          "BRABANCONNE",
          "BRAVES",
          "CARENE",
          "CHARROI",
          "CIM. DE BRUXELLES",
          "COLLEGE ST-PIERRE",
          "COLONEL BOURG",
          "CROCQ",
          "DA VINCI",
          "DEGROOFF",
          "DELTA",
          "DIAMANT",
          "DIGUE DU CANAL",
          "ENGELAND",
          "FLAGEY",
          "FOREST CENTRE",
          "FROISSART",
          "GARE CENTRALE",
          "GARE DE JETTE",
          "GAZELLE",
          "GEORGES HENRI",
          "GLOBE",
          "GUILLAUME",
          "GULLEDELLE",
          "HEROS",
          "HOEDEMAEKERS",
          "HOUZEAU",
          "JAMBLINNE DE MEUX",
          "LORGE",
          "MARCEL THIRY",
          "MERODE",
          "MEUDON",
          "MICHEL-ANGE",
          "MOLIERE-LONGCHAMP",
          "MONTGOMERY",
          "PADUWA",
          "PEUPLIERS",
          "PLASKY",
          "PORTE DE NAMUR",
          "REINE ASTRID",
          "ROSA PARKS",
          "SAINT-DENIS",
          "SAINT-VINCENT",
          "SCHUMAN",
          "STATUAIRES",
          "SUEDE",
          "TAMARIS",
          "THIRY-WOLUWE",
          "TOUR ET TAXIS",
          "TRONE",
          "UCCLE CALEVOET",
          "UZ BRUSSEL",
          "UZ-PEDIATRIE",
          "VANDENHOVEN",
          "VICTOR HUGO",
          "WIELS",
          "WILLEBROEK",
          "WTC"
         ],
         "lat": [
          50.905632,
          50.892851,
          50.862308,
          50.889678,
          50.831389,
          50.861273,
          50.816648,
          50.877635,
          50.885563,
          50.877616,
          50.78698,
          50.847772,
          50.851647,
          50.773299,
          50.854515,
          50.822306,
          50.864222,
          50.806433,
          50.852548,
          50.884911,
          50.876747,
          50.843639,
          50.816744,
          50.848931,
          50.823973,
          50.789489,
          50.828383,
          50.81194,
          50.840527,
          50.84498,
          50.880228,
          50.782011,
          50.843453,
          50.800674,
          50.861276,
          50.855498,
          50.803597,
          50.871958,
          50.80305,
          50.84724,
          50.882853,
          50.855671,
          50.839211,
          50.845057,
          50.845205,
          50.816262,
          50.838006,
          50.859657,
          50.852876,
          50.851519,
          50.839217,
          50.848082,
          50.847297,
          50.810537,
          50.880816,
          50.842046,
          50.803921,
          50.834096,
          50.851039,
          50.854805,
          50.864968,
          50.841633,
          50.791242,
          50.88634,
          50.889498,
          50.8826,
          50.847707,
          50.824159,
          50.863306,
          50.861176
         ],
         "legendgroup": "B",
         "lon": [
          4.402999,
          4.312731,
          4.416194,
          4.316768,
          4.332229,
          4.315886,
          4.319873,
          4.347781,
          4.322378,
          4.409348,
          4.330689,
          4.348972,
          4.387125,
          4.335988,
          4.414539,
          4.322642,
          4.41871,
          4.34079,
          4.409566,
          4.329588,
          4.412529,
          4.411958,
          4.405058,
          4.402428,
          4.310747,
          4.333821,
          4.373166,
          4.31919,
          4.382651,
          4.357027,
          4.330089,
          4.341228,
          4.405598,
          4.337416,
          4.412642,
          4.428174,
          4.342061,
          4.40383,
          4.358807,
          4.393729,
          4.330882,
          4.440572,
          4.398523,
          4.417284,
          4.386602,
          4.339974,
          4.40897,
          4.414231,
          4.437997,
          4.394513,
          4.363777,
          4.467057,
          4.361212,
          4.317971,
          4.403821,
          4.383774,
          4.349047,
          4.335818,
          4.307562,
          4.445186,
          4.350239,
          4.364862,
          4.332898,
          4.311669,
          4.309422,
          4.40709,
          4.397407,
          4.325394,
          4.353795,
          4.355358
         ],
         "marker": {
          "color": "#00cc96"
         },
         "mode": "markers",
         "name": "B",
         "showlegend": true,
         "subplot": "mapbox",
         "type": "scattermapbox"
        }
       ],
       "layout": {
        "legend": {
         "title": {
          "text": "mode"
         },
         "tracegroupgap": 0
        },
        "mapbox": {
         "accesstoken": "pk.eyJ1IjoibWpkYW91ZGkiLCJhIjoiY2xibm54OThyMGdyOTNvcnhqeTYyZmRuYiJ9.rfxe3z8triwA5yvV1XZA-A",
         "center": {
          "lat": 50.84221099346405,
          "lon": 4.367203241830066
         },
         "domain": {
          "x": [
           0,
           1
          ],
          "y": [
           0,
           1
          ]
         },
         "style": "light",
         "zoom": 10
        },
        "margin": {
         "b": 0,
         "l": 0,
         "r": 0,
         "t": 0
        },
        "template": {
         "data": {
          "bar": [
           {
            "error_x": {
             "color": "#2a3f5f"
            },
            "error_y": {
             "color": "#2a3f5f"
            },
            "marker": {
             "line": {
              "color": "#E5ECF6",
              "width": 0.5
             },
             "pattern": {
              "fillmode": "overlay",
              "size": 10,
              "solidity": 0.2
             }
            },
            "type": "bar"
           }
          ],
          "barpolar": [
           {
            "marker": {
             "line": {
              "color": "#E5ECF6",
              "width": 0.5
             },
             "pattern": {
              "fillmode": "overlay",
              "size": 10,
              "solidity": 0.2
             }
            },
            "type": "barpolar"
           }
          ],
          "carpet": [
           {
            "aaxis": {
             "endlinecolor": "#2a3f5f",
             "gridcolor": "white",
             "linecolor": "white",
             "minorgridcolor": "white",
             "startlinecolor": "#2a3f5f"
            },
            "baxis": {
             "endlinecolor": "#2a3f5f",
             "gridcolor": "white",
             "linecolor": "white",
             "minorgridcolor": "white",
             "startlinecolor": "#2a3f5f"
            },
            "type": "carpet"
           }
          ],
          "choropleth": [
           {
            "colorbar": {
             "outlinewidth": 0,
             "ticks": ""
            },
            "type": "choropleth"
           }
          ],
          "contour": [
           {
            "colorbar": {
             "outlinewidth": 0,
             "ticks": ""
            },
            "colorscale": [
             [
              0,
              "#0d0887"
             ],
             [
              0.1111111111111111,
              "#46039f"
             ],
             [
              0.2222222222222222,
              "#7201a8"
             ],
             [
              0.3333333333333333,
              "#9c179e"
             ],
             [
              0.4444444444444444,
              "#bd3786"
             ],
             [
              0.5555555555555556,
              "#d8576b"
             ],
             [
              0.6666666666666666,
              "#ed7953"
             ],
             [
              0.7777777777777778,
              "#fb9f3a"
             ],
             [
              0.8888888888888888,
              "#fdca26"
             ],
             [
              1,
              "#f0f921"
             ]
            ],
            "type": "contour"
           }
          ],
          "contourcarpet": [
           {
            "colorbar": {
             "outlinewidth": 0,
             "ticks": ""
            },
            "type": "contourcarpet"
           }
          ],
          "heatmap": [
           {
            "colorbar": {
             "outlinewidth": 0,
             "ticks": ""
            },
            "colorscale": [
             [
              0,
              "#0d0887"
             ],
             [
              0.1111111111111111,
              "#46039f"
             ],
             [
              0.2222222222222222,
              "#7201a8"
             ],
             [
              0.3333333333333333,
              "#9c179e"
             ],
             [
              0.4444444444444444,
              "#bd3786"
             ],
             [
              0.5555555555555556,
              "#d8576b"
             ],
             [
              0.6666666666666666,
              "#ed7953"
             ],
             [
              0.7777777777777778,
              "#fb9f3a"
             ],
             [
              0.8888888888888888,
              "#fdca26"
             ],
             [
              1,
              "#f0f921"
             ]
            ],
            "type": "heatmap"
           }
          ],
          "heatmapgl": [
           {
            "colorbar": {
             "outlinewidth": 0,
             "ticks": ""
            },
            "colorscale": [
             [
              0,
              "#0d0887"
             ],
             [
              0.1111111111111111,
              "#46039f"
             ],
             [
              0.2222222222222222,
              "#7201a8"
             ],
             [
              0.3333333333333333,
              "#9c179e"
             ],
             [
              0.4444444444444444,
              "#bd3786"
             ],
             [
              0.5555555555555556,
              "#d8576b"
             ],
             [
              0.6666666666666666,
              "#ed7953"
             ],
             [
              0.7777777777777778,
              "#fb9f3a"
             ],
             [
              0.8888888888888888,
              "#fdca26"
             ],
             [
              1,
              "#f0f921"
             ]
            ],
            "type": "heatmapgl"
           }
          ],
          "histogram": [
           {
            "marker": {
             "pattern": {
              "fillmode": "overlay",
              "size": 10,
              "solidity": 0.2
             }
            },
            "type": "histogram"
           }
          ],
          "histogram2d": [
           {
            "colorbar": {
             "outlinewidth": 0,
             "ticks": ""
            },
            "colorscale": [
             [
              0,
              "#0d0887"
             ],
             [
              0.1111111111111111,
              "#46039f"
             ],
             [
              0.2222222222222222,
              "#7201a8"
             ],
             [
              0.3333333333333333,
              "#9c179e"
             ],
             [
              0.4444444444444444,
              "#bd3786"
             ],
             [
              0.5555555555555556,
              "#d8576b"
             ],
             [
              0.6666666666666666,
              "#ed7953"
             ],
             [
              0.7777777777777778,
              "#fb9f3a"
             ],
             [
              0.8888888888888888,
              "#fdca26"
             ],
             [
              1,
              "#f0f921"
             ]
            ],
            "type": "histogram2d"
           }
          ],
          "histogram2dcontour": [
           {
            "colorbar": {
             "outlinewidth": 0,
             "ticks": ""
            },
            "colorscale": [
             [
              0,
              "#0d0887"
             ],
             [
              0.1111111111111111,
              "#46039f"
             ],
             [
              0.2222222222222222,
              "#7201a8"
             ],
             [
              0.3333333333333333,
              "#9c179e"
             ],
             [
              0.4444444444444444,
              "#bd3786"
             ],
             [
              0.5555555555555556,
              "#d8576b"
             ],
             [
              0.6666666666666666,
              "#ed7953"
             ],
             [
              0.7777777777777778,
              "#fb9f3a"
             ],
             [
              0.8888888888888888,
              "#fdca26"
             ],
             [
              1,
              "#f0f921"
             ]
            ],
            "type": "histogram2dcontour"
           }
          ],
          "mesh3d": [
           {
            "colorbar": {
             "outlinewidth": 0,
             "ticks": ""
            },
            "type": "mesh3d"
           }
          ],
          "parcoords": [
           {
            "line": {
             "colorbar": {
              "outlinewidth": 0,
              "ticks": ""
             }
            },
            "type": "parcoords"
           }
          ],
          "pie": [
           {
            "automargin": true,
            "type": "pie"
           }
          ],
          "scatter": [
           {
            "fillpattern": {
             "fillmode": "overlay",
             "size": 10,
             "solidity": 0.2
            },
            "type": "scatter"
           }
          ],
          "scatter3d": [
           {
            "line": {
             "colorbar": {
              "outlinewidth": 0,
              "ticks": ""
             }
            },
            "marker": {
             "colorbar": {
              "outlinewidth": 0,
              "ticks": ""
             }
            },
            "type": "scatter3d"
           }
          ],
          "scattercarpet": [
           {
            "marker": {
             "colorbar": {
              "outlinewidth": 0,
              "ticks": ""
             }
            },
            "type": "scattercarpet"
           }
          ],
          "scattergeo": [
           {
            "marker": {
             "colorbar": {
              "outlinewidth": 0,
              "ticks": ""
             }
            },
            "type": "scattergeo"
           }
          ],
          "scattergl": [
           {
            "marker": {
             "colorbar": {
              "outlinewidth": 0,
              "ticks": ""
             }
            },
            "type": "scattergl"
           }
          ],
          "scattermapbox": [
           {
            "marker": {
             "colorbar": {
              "outlinewidth": 0,
              "ticks": ""
             }
            },
            "type": "scattermapbox"
           }
          ],
          "scatterpolar": [
           {
            "marker": {
             "colorbar": {
              "outlinewidth": 0,
              "ticks": ""
             }
            },
            "type": "scatterpolar"
           }
          ],
          "scatterpolargl": [
           {
            "marker": {
             "colorbar": {
              "outlinewidth": 0,
              "ticks": ""
             }
            },
            "type": "scatterpolargl"
           }
          ],
          "scatterternary": [
           {
            "marker": {
             "colorbar": {
              "outlinewidth": 0,
              "ticks": ""
             }
            },
            "type": "scatterternary"
           }
          ],
          "surface": [
           {
            "colorbar": {
             "outlinewidth": 0,
             "ticks": ""
            },
            "colorscale": [
             [
              0,
              "#0d0887"
             ],
             [
              0.1111111111111111,
              "#46039f"
             ],
             [
              0.2222222222222222,
              "#7201a8"
             ],
             [
              0.3333333333333333,
              "#9c179e"
             ],
             [
              0.4444444444444444,
              "#bd3786"
             ],
             [
              0.5555555555555556,
              "#d8576b"
             ],
             [
              0.6666666666666666,
              "#ed7953"
             ],
             [
              0.7777777777777778,
              "#fb9f3a"
             ],
             [
              0.8888888888888888,
              "#fdca26"
             ],
             [
              1,
              "#f0f921"
             ]
            ],
            "type": "surface"
           }
          ],
          "table": [
           {
            "cells": {
             "fill": {
              "color": "#EBF0F8"
             },
             "line": {
              "color": "white"
             }
            },
            "header": {
             "fill": {
              "color": "#C8D4E3"
             },
             "line": {
              "color": "white"
             }
            },
            "type": "table"
           }
          ]
         },
         "layout": {
          "annotationdefaults": {
           "arrowcolor": "#2a3f5f",
           "arrowhead": 0,
           "arrowwidth": 1
          },
          "autotypenumbers": "strict",
          "coloraxis": {
           "colorbar": {
            "outlinewidth": 0,
            "ticks": ""
           }
          },
          "colorscale": {
           "diverging": [
            [
             0,
             "#8e0152"
            ],
            [
             0.1,
             "#c51b7d"
            ],
            [
             0.2,
             "#de77ae"
            ],
            [
             0.3,
             "#f1b6da"
            ],
            [
             0.4,
             "#fde0ef"
            ],
            [
             0.5,
             "#f7f7f7"
            ],
            [
             0.6,
             "#e6f5d0"
            ],
            [
             0.7,
             "#b8e186"
            ],
            [
             0.8,
             "#7fbc41"
            ],
            [
             0.9,
             "#4d9221"
            ],
            [
             1,
             "#276419"
            ]
           ],
           "sequential": [
            [
             0,
             "#0d0887"
            ],
            [
             0.1111111111111111,
             "#46039f"
            ],
            [
             0.2222222222222222,
             "#7201a8"
            ],
            [
             0.3333333333333333,
             "#9c179e"
            ],
            [
             0.4444444444444444,
             "#bd3786"
            ],
            [
             0.5555555555555556,
             "#d8576b"
            ],
            [
             0.6666666666666666,
             "#ed7953"
            ],
            [
             0.7777777777777778,
             "#fb9f3a"
            ],
            [
             0.8888888888888888,
             "#fdca26"
            ],
            [
             1,
             "#f0f921"
            ]
           ],
           "sequentialminus": [
            [
             0,
             "#0d0887"
            ],
            [
             0.1111111111111111,
             "#46039f"
            ],
            [
             0.2222222222222222,
             "#7201a8"
            ],
            [
             0.3333333333333333,
             "#9c179e"
            ],
            [
             0.4444444444444444,
             "#bd3786"
            ],
            [
             0.5555555555555556,
             "#d8576b"
            ],
            [
             0.6666666666666666,
             "#ed7953"
            ],
            [
             0.7777777777777778,
             "#fb9f3a"
            ],
            [
             0.8888888888888888,
             "#fdca26"
            ],
            [
             1,
             "#f0f921"
            ]
           ]
          },
          "colorway": [
           "#636efa",
           "#EF553B",
           "#00cc96",
           "#ab63fa",
           "#FFA15A",
           "#19d3f3",
           "#FF6692",
           "#B6E880",
           "#FF97FF",
           "#FECB52"
          ],
          "font": {
           "color": "#2a3f5f"
          },
          "geo": {
           "bgcolor": "white",
           "lakecolor": "white",
           "landcolor": "#E5ECF6",
           "showlakes": true,
           "showland": true,
           "subunitcolor": "white"
          },
          "hoverlabel": {
           "align": "left"
          },
          "hovermode": "closest",
          "mapbox": {
           "style": "light"
          },
          "paper_bgcolor": "white",
          "plot_bgcolor": "#E5ECF6",
          "polar": {
           "angularaxis": {
            "gridcolor": "white",
            "linecolor": "white",
            "ticks": ""
           },
           "bgcolor": "#E5ECF6",
           "radialaxis": {
            "gridcolor": "white",
            "linecolor": "white",
            "ticks": ""
           }
          },
          "scene": {
           "xaxis": {
            "backgroundcolor": "#E5ECF6",
            "gridcolor": "white",
            "gridwidth": 2,
            "linecolor": "white",
            "showbackground": true,
            "ticks": "",
            "zerolinecolor": "white"
           },
           "yaxis": {
            "backgroundcolor": "#E5ECF6",
            "gridcolor": "white",
            "gridwidth": 2,
            "linecolor": "white",
            "showbackground": true,
            "ticks": "",
            "zerolinecolor": "white"
           },
           "zaxis": {
            "backgroundcolor": "#E5ECF6",
            "gridcolor": "white",
            "gridwidth": 2,
            "linecolor": "white",
            "showbackground": true,
            "ticks": "",
            "zerolinecolor": "white"
           }
          },
          "shapedefaults": {
           "line": {
            "color": "#2a3f5f"
           }
          },
          "ternary": {
           "aaxis": {
            "gridcolor": "white",
            "linecolor": "white",
            "ticks": ""
           },
           "baxis": {
            "gridcolor": "white",
            "linecolor": "white",
            "ticks": ""
           },
           "bgcolor": "#E5ECF6",
           "caxis": {
            "gridcolor": "white",
            "linecolor": "white",
            "ticks": ""
           }
          },
          "title": {
           "x": 0.05
          },
          "xaxis": {
           "automargin": true,
           "gridcolor": "white",
           "linecolor": "white",
           "ticks": "",
           "title": {
            "standoff": 15
           },
           "zerolinecolor": "white",
           "zerolinewidth": 2
          },
          "yaxis": {
           "automargin": true,
           "gridcolor": "white",
           "linecolor": "white",
           "ticks": "",
           "title": {
            "standoff": 15
           },
           "zerolinecolor": "white",
           "zerolinewidth": 2
          }
         }
        }
       }
      }
     },
     "metadata": {},
     "output_type": "display_data"
    }
   ],
   "source": [
    "px.set_mapbox_access_token(\"pk.eyJ1IjoibWpkYW91ZGkiLCJhIjoiY2xibm54OThyMGdyOTNvcnhqeTYyZmRuYiJ9.rfxe3z8triwA5yvV1XZA-A\")\n",
    "fig = px.scatter_mapbox(delay_stops, lat=\"stop_lat\", lon=\"stop_lon\", hover_name=\"stop_name\",\n",
    "                        color=\"mode\", zoom=10)\n",
    "fig.update_layout(mapbox_style=\"light\")\n",
    "fig.update_layout(margin={\"r\":0,\"t\":0,\"l\":0,\"b\":0})\n",
    "fig.show()"
   ]
  },
  {
   "attachments": {},
   "cell_type": "markdown",
   "metadata": {},
   "source": [
    "## Delay catcher"
   ]
  },
  {
   "cell_type": "code",
   "execution_count": 15,
   "metadata": {},
   "outputs": [],
   "source": [
    "gen = [t for x in data[(data.lab_growth == -1)][\"stops\"].to_list() for t in x ]\n",
    "metro_cat = [t for x in data[(data.lab_growth == -1) & (data[\"mode\"] == \"M\")][\"stops\"].to_list() for t in x ]\n",
    "tram_cat = [t for x in data[(data.lab_growth == -1) & (data[\"mode\"] == \"T\")][\"stops\"].to_list() for t in x ]\n",
    "bus_cat = [t for x in data[(data.lab_growth == -1) & (data[\"mode\"] == \"B\")][\"stops\"].to_list() for t in x ]"
   ]
  },
  {
   "cell_type": "code",
   "execution_count": 16,
   "metadata": {},
   "outputs": [],
   "source": [
    "config_cat = [{\"data\" : metro_cat, \"type\" : \"M\", \"sup\": 0.45}, {\"data\" : tram_cat, \"type\" : \"T\", \"sup\": 0.05}, {\"data\" : bus_cat, \"type\" : \"B\", \"sup\": 0.03}]\n",
    "\n",
    "\n",
    "config_gen_cat = [{\"data\" : gen, \"type\" : \"M\", \"sup\": 0.03}]"
   ]
  },
  {
   "cell_type": "code",
   "execution_count": 17,
   "metadata": {},
   "outputs": [
    {
     "name": "stdout",
     "output_type": "stream",
     "text": [
      "=============\n",
      "M\n",
      "transaction encoder\n",
      "fitting the te\n",
      "Computing FP\n",
      "=============\n",
      "T\n",
      "transaction encoder\n",
      "fitting the te\n",
      "Computing FP\n",
      "=============\n",
      "B\n",
      "transaction encoder\n",
      "fitting the te\n",
      "Computing FP\n"
     ]
    }
   ],
   "source": [
    "from mlxtend.preprocessing import TransactionEncoder\n",
    "from mlxtend.frequent_patterns import fpgrowth\n",
    "\n",
    "for _ in config_cat:\n",
    "    print(\"=============\")\n",
    "    print(_[\"type\"])\n",
    "    print(\"transaction encoder\")\n",
    "    te = TransactionEncoder()\n",
    "    print(\"fitting the te\")\n",
    "    te_ary = te.fit(_[\"data\"]).transform(_[\"data\"])\n",
    "    df_late = pd.DataFrame(te_ary, columns=te.columns_)\n",
    "    print(\"Computing FP\")\n",
    "    fp_late = fpgrowth(df_late, min_support=_[\"sup\"], use_colnames=True)\n",
    "    _[\"stops_patterns\"] = np.unique(np.array([t for k in fp_late.itemsets.apply(lambda x: list(x)) for t in k]))"
   ]
  },
  {
   "cell_type": "code",
   "execution_count": 18,
   "metadata": {},
   "outputs": [
    {
     "data": {
      "text/plain": [
       "((1,), (46,), (19,))"
      ]
     },
     "execution_count": 18,
     "metadata": {},
     "output_type": "execute_result"
    }
   ],
   "source": [
    "config_cat[0][\"stops_patterns\"].shape, config_cat[1][\"stops_patterns\"].shape, config_cat[2][\"stops_patterns\"].shape"
   ]
  },
  {
   "cell_type": "code",
   "execution_count": 19,
   "metadata": {},
   "outputs": [],
   "source": [
    "plot = []\n",
    "\n",
    "for item in config_cat:\n",
    "    plot.extend([{\"mode\" : item[\"type\"], \"stop_name\" : x} for x in item[\"stops_patterns\"]])\n",
    "\n",
    "delay_stops_cat = pd.DataFrame(plot)\n",
    "delay_stops_cat = delay_stops_cat.merge(\n",
    "    coord,\n",
    "    \"left\",\n",
    "    \"stop_name\"\n",
    ")"
   ]
  },
  {
   "cell_type": "code",
   "execution_count": 20,
   "metadata": {},
   "outputs": [
    {
     "data": {
      "text/html": [
       "<div>\n",
       "<style scoped>\n",
       "    .dataframe tbody tr th:only-of-type {\n",
       "        vertical-align: middle;\n",
       "    }\n",
       "\n",
       "    .dataframe tbody tr th {\n",
       "        vertical-align: top;\n",
       "    }\n",
       "\n",
       "    .dataframe thead th {\n",
       "        text-align: right;\n",
       "    }\n",
       "</style>\n",
       "<table border=\"1\" class=\"dataframe\">\n",
       "  <thead>\n",
       "    <tr style=\"text-align: right;\">\n",
       "      <th></th>\n",
       "      <th>mode</th>\n",
       "      <th>stop_name</th>\n",
       "      <th>stop_lat</th>\n",
       "      <th>stop_lon</th>\n",
       "    </tr>\n",
       "  </thead>\n",
       "  <tbody>\n",
       "    <tr>\n",
       "      <th>0</th>\n",
       "      <td>M</td>\n",
       "      <td>ARTS-LOI</td>\n",
       "      <td>50.845476</td>\n",
       "      <td>4.369121</td>\n",
       "    </tr>\n",
       "    <tr>\n",
       "      <th>1</th>\n",
       "      <td>T</td>\n",
       "      <td>ALPHONSE XIII</td>\n",
       "      <td>50.791040</td>\n",
       "      <td>4.368950</td>\n",
       "    </tr>\n",
       "    <tr>\n",
       "      <th>2</th>\n",
       "      <td>T</td>\n",
       "      <td>ARSENAL</td>\n",
       "      <td>50.826393</td>\n",
       "      <td>4.396727</td>\n",
       "    </tr>\n",
       "    <tr>\n",
       "      <th>3</th>\n",
       "      <td>T</td>\n",
       "      <td>ARTS ET METIERS</td>\n",
       "      <td>50.847997</td>\n",
       "      <td>4.337780</td>\n",
       "    </tr>\n",
       "    <tr>\n",
       "      <th>4</th>\n",
       "      <td>T</td>\n",
       "      <td>AZUR</td>\n",
       "      <td>50.866659</td>\n",
       "      <td>4.287128</td>\n",
       "    </tr>\n",
       "    <tr>\n",
       "      <th>...</th>\n",
       "      <td>...</td>\n",
       "      <td>...</td>\n",
       "      <td>...</td>\n",
       "      <td>...</td>\n",
       "    </tr>\n",
       "    <tr>\n",
       "      <th>61</th>\n",
       "      <td>B</td>\n",
       "      <td>SCIENCE</td>\n",
       "      <td>50.839842</td>\n",
       "      <td>4.369371</td>\n",
       "    </tr>\n",
       "    <tr>\n",
       "      <th>62</th>\n",
       "      <td>B</td>\n",
       "      <td>TOUR ET TAXIS</td>\n",
       "      <td>50.864968</td>\n",
       "      <td>4.350239</td>\n",
       "    </tr>\n",
       "    <tr>\n",
       "      <th>63</th>\n",
       "      <td>B</td>\n",
       "      <td>TRONE</td>\n",
       "      <td>50.841633</td>\n",
       "      <td>4.364862</td>\n",
       "    </tr>\n",
       "    <tr>\n",
       "      <th>64</th>\n",
       "      <td>B</td>\n",
       "      <td>WILLEBROEK</td>\n",
       "      <td>50.863306</td>\n",
       "      <td>4.353795</td>\n",
       "    </tr>\n",
       "    <tr>\n",
       "      <th>65</th>\n",
       "      <td>B</td>\n",
       "      <td>WTC</td>\n",
       "      <td>50.861176</td>\n",
       "      <td>4.355358</td>\n",
       "    </tr>\n",
       "  </tbody>\n",
       "</table>\n",
       "<p>66 rows × 4 columns</p>\n",
       "</div>"
      ],
      "text/plain": [
       "   mode        stop_name   stop_lat  stop_lon\n",
       "0     M         ARTS-LOI  50.845476  4.369121\n",
       "1     T    ALPHONSE XIII  50.791040  4.368950\n",
       "2     T          ARSENAL  50.826393  4.396727\n",
       "3     T  ARTS ET METIERS  50.847997  4.337780\n",
       "4     T             AZUR  50.866659  4.287128\n",
       "..  ...              ...        ...       ...\n",
       "61    B          SCIENCE  50.839842  4.369371\n",
       "62    B    TOUR ET TAXIS  50.864968  4.350239\n",
       "63    B            TRONE  50.841633  4.364862\n",
       "64    B       WILLEBROEK  50.863306  4.353795\n",
       "65    B              WTC  50.861176  4.355358\n",
       "\n",
       "[66 rows x 4 columns]"
      ]
     },
     "execution_count": 20,
     "metadata": {},
     "output_type": "execute_result"
    }
   ],
   "source": [
    "delay_stops_cat"
   ]
  },
  {
   "cell_type": "code",
   "execution_count": 21,
   "metadata": {},
   "outputs": [
    {
     "name": "stderr",
     "output_type": "stream",
     "text": [
      "/Users/mjdaoudi/opt/anaconda3/lib/python3.9/site-packages/plotly/io/_renderers.py:395: DeprecationWarning:\n",
      "\n",
      "distutils Version classes are deprecated. Use packaging.version instead.\n",
      "\n",
      "/Users/mjdaoudi/opt/anaconda3/lib/python3.9/site-packages/plotly/io/_renderers.py:395: DeprecationWarning:\n",
      "\n",
      "distutils Version classes are deprecated. Use packaging.version instead.\n",
      "\n"
     ]
    },
    {
     "data": {
      "application/vnd.plotly.v1+json": {
       "config": {
        "plotlyServerURL": "https://plot.ly"
       },
       "data": [
        {
         "hovertemplate": "<b>%{hovertext}</b><br><br>mode=M<br>stop_lat=%{lat}<br>stop_lon=%{lon}<extra></extra>",
         "hovertext": [
          "ARTS-LOI"
         ],
         "lat": [
          50.845476
         ],
         "legendgroup": "M",
         "lon": [
          4.369121
         ],
         "marker": {
          "color": "#636efa"
         },
         "mode": "markers",
         "name": "M",
         "showlegend": true,
         "subplot": "mapbox",
         "type": "scattermapbox"
        },
        {
         "hovertemplate": "<b>%{hovertext}</b><br><br>mode=T<br>stop_lat=%{lat}<br>stop_lon=%{lon}<extra></extra>",
         "hovertext": [
          "ALPHONSE XIII",
          "ARSENAL",
          "ARTS ET METIERS",
          "AZUR",
          "BARRIERE",
          "BELGICA",
          "BOETENDAEL",
          "BUISSONNETS",
          "BUYL",
          "CAMBRE-ETOILE",
          "CHATAIGNES",
          "DE VILLALOBAR",
          "DOCKS BRUXSEL",
          "EMPAIN",
          "ERNEST SALU",
          "EXPOSITION",
          "FAIDER",
          "GARE DU MIDI",
          "GARE DU NORD",
          "GLOBE",
          "HEEMBEEK",
          "HEROS",
          "JANSON",
          "JULES CESAR",
          "LEGRAND",
          "LEMONNIER",
          "LEOPOLD II",
          "MARGUERITE DURAS",
          "MEISER",
          "MESSIDOR",
          "ODON WARLAND",
          "PLACE R. ASTRID",
          "PORTE DE FLANDRE",
          "PORTE DE NINOVE",
          "PTE D'ANDERLECHT",
          "ROGIER",
          "SAINT-LAMBERT",
          "STEPHANIE",
          "THOMAS",
          "UNION",
          "UZ-PEDIATRIE",
          "VLEURGAT",
          "VUB",
          "WAGON",
          "WOLUWE SHOPPING",
          "ZAMAN-FOREST NAT."
         ],
         "lat": [
          50.79104,
          50.826393,
          50.847997,
          50.866659,
          50.827158,
          50.867474,
          50.80664,
          50.891291,
          50.818914,
          50.816372,
          50.817228,
          50.82784,
          50.879227,
          50.824976,
          50.88424,
          50.879669,
          50.829515,
          50.836497,
          50.860134,
          50.800674,
          50.888855,
          50.803597,
          50.825907,
          50.834547,
          50.816346,
          50.840084,
          50.836069,
          50.855491,
          50.855501,
          50.809808,
          50.870424,
          50.873287,
          50.85302,
          50.850536,
          50.845369,
          50.855635,
          50.890848,
          50.833327,
          50.865348,
          50.819628,
          50.889498,
          50.823578,
          50.824784,
          50.796832,
          50.844597,
          50.814081
         ],
         "legendgroup": "T",
         "lon": [
          4.36895,
          4.396727,
          4.33778,
          4.287128,
          4.344041,
          4.336065,
          4.343477,
          4.368867,
          4.378791,
          4.376301,
          4.32513,
          4.438996,
          4.375066,
          4.431867,
          4.337788,
          4.315958,
          4.35585,
          4.337946,
          4.359946,
          4.337416,
          4.374708,
          4.342061,
          4.355286,
          4.420311,
          4.371817,
          4.341039,
          4.412945,
          4.346631,
          4.395892,
          4.345455,
          4.334721,
          4.325704,
          4.341841,
          4.338749,
          4.338892,
          4.35804,
          4.344463,
          4.357041,
          4.362872,
          4.325398,
          4.309422,
          4.367622,
          4.392425,
          4.329461,
          4.438395,
          4.324764
         ],
         "marker": {
          "color": "#EF553B"
         },
         "mode": "markers",
         "name": "T",
         "showlegend": true,
         "subplot": "mapbox",
         "type": "scattermapbox"
        },
        {
         "hovertemplate": "<b>%{hovertext}</b><br><br>mode=B<br>stop_lat=%{lat}<br>stop_lon=%{lon}<extra></extra>",
         "hovertext": [
          "AMBIORIX",
          "ARENBERG",
          "AVENUE DU PORT",
          "CIM. D'IXELLES",
          "ENTREPOT",
          "FERNAND COCQ",
          "FRAITEUR",
          "HOEDEMAEKERS",
          "JAMBLINNE DE MEUX",
          "LUXEMBOURG",
          "OUD KAPELLEKE",
          "ROGIER",
          "ROSA PARKS",
          "ROYALE",
          "SCIENCE",
          "TOUR ET TAXIS",
          "TRONE",
          "WILLEBROEK",
          "WTC"
         ],
         "lat": [
          50.846234,
          50.848168,
          50.863018,
          50.815966,
          50.868313,
          50.833057,
          50.817709,
          50.871958,
          50.84724,
          50.839745,
          50.874152,
          50.855635,
          50.847297,
          50.841426,
          50.839842,
          50.864968,
          50.841633,
          50.863306,
          50.861176
         ],
         "legendgroup": "B",
         "lon": [
          4.38347,
          4.356484,
          4.348724,
          4.390704,
          4.353197,
          4.366481,
          4.395984,
          4.40383,
          4.393729,
          4.373679,
          4.403007,
          4.35804,
          4.361212,
          4.358345,
          4.369371,
          4.350239,
          4.364862,
          4.353795,
          4.355358
         ],
         "marker": {
          "color": "#00cc96"
         },
         "mode": "markers",
         "name": "B",
         "showlegend": true,
         "subplot": "mapbox",
         "type": "scattermapbox"
        }
       ],
       "layout": {
        "legend": {
         "title": {
          "text": "mode"
         },
         "tracegroupgap": 0
        },
        "mapbox": {
         "accesstoken": "pk.eyJ1IjoibWpkYW91ZGkiLCJhIjoiY2xibm54OThyMGdyOTNvcnhqeTYyZmRuYiJ9.rfxe3z8triwA5yvV1XZA-A",
         "center": {
          "lat": 50.843988696969696,
          "lon": 4.361510257575758
         },
         "domain": {
          "x": [
           0,
           1
          ],
          "y": [
           0,
           1
          ]
         },
         "style": "light",
         "zoom": 10
        },
        "margin": {
         "b": 0,
         "l": 0,
         "r": 0,
         "t": 0
        },
        "template": {
         "data": {
          "bar": [
           {
            "error_x": {
             "color": "#2a3f5f"
            },
            "error_y": {
             "color": "#2a3f5f"
            },
            "marker": {
             "line": {
              "color": "#E5ECF6",
              "width": 0.5
             },
             "pattern": {
              "fillmode": "overlay",
              "size": 10,
              "solidity": 0.2
             }
            },
            "type": "bar"
           }
          ],
          "barpolar": [
           {
            "marker": {
             "line": {
              "color": "#E5ECF6",
              "width": 0.5
             },
             "pattern": {
              "fillmode": "overlay",
              "size": 10,
              "solidity": 0.2
             }
            },
            "type": "barpolar"
           }
          ],
          "carpet": [
           {
            "aaxis": {
             "endlinecolor": "#2a3f5f",
             "gridcolor": "white",
             "linecolor": "white",
             "minorgridcolor": "white",
             "startlinecolor": "#2a3f5f"
            },
            "baxis": {
             "endlinecolor": "#2a3f5f",
             "gridcolor": "white",
             "linecolor": "white",
             "minorgridcolor": "white",
             "startlinecolor": "#2a3f5f"
            },
            "type": "carpet"
           }
          ],
          "choropleth": [
           {
            "colorbar": {
             "outlinewidth": 0,
             "ticks": ""
            },
            "type": "choropleth"
           }
          ],
          "contour": [
           {
            "colorbar": {
             "outlinewidth": 0,
             "ticks": ""
            },
            "colorscale": [
             [
              0,
              "#0d0887"
             ],
             [
              0.1111111111111111,
              "#46039f"
             ],
             [
              0.2222222222222222,
              "#7201a8"
             ],
             [
              0.3333333333333333,
              "#9c179e"
             ],
             [
              0.4444444444444444,
              "#bd3786"
             ],
             [
              0.5555555555555556,
              "#d8576b"
             ],
             [
              0.6666666666666666,
              "#ed7953"
             ],
             [
              0.7777777777777778,
              "#fb9f3a"
             ],
             [
              0.8888888888888888,
              "#fdca26"
             ],
             [
              1,
              "#f0f921"
             ]
            ],
            "type": "contour"
           }
          ],
          "contourcarpet": [
           {
            "colorbar": {
             "outlinewidth": 0,
             "ticks": ""
            },
            "type": "contourcarpet"
           }
          ],
          "heatmap": [
           {
            "colorbar": {
             "outlinewidth": 0,
             "ticks": ""
            },
            "colorscale": [
             [
              0,
              "#0d0887"
             ],
             [
              0.1111111111111111,
              "#46039f"
             ],
             [
              0.2222222222222222,
              "#7201a8"
             ],
             [
              0.3333333333333333,
              "#9c179e"
             ],
             [
              0.4444444444444444,
              "#bd3786"
             ],
             [
              0.5555555555555556,
              "#d8576b"
             ],
             [
              0.6666666666666666,
              "#ed7953"
             ],
             [
              0.7777777777777778,
              "#fb9f3a"
             ],
             [
              0.8888888888888888,
              "#fdca26"
             ],
             [
              1,
              "#f0f921"
             ]
            ],
            "type": "heatmap"
           }
          ],
          "heatmapgl": [
           {
            "colorbar": {
             "outlinewidth": 0,
             "ticks": ""
            },
            "colorscale": [
             [
              0,
              "#0d0887"
             ],
             [
              0.1111111111111111,
              "#46039f"
             ],
             [
              0.2222222222222222,
              "#7201a8"
             ],
             [
              0.3333333333333333,
              "#9c179e"
             ],
             [
              0.4444444444444444,
              "#bd3786"
             ],
             [
              0.5555555555555556,
              "#d8576b"
             ],
             [
              0.6666666666666666,
              "#ed7953"
             ],
             [
              0.7777777777777778,
              "#fb9f3a"
             ],
             [
              0.8888888888888888,
              "#fdca26"
             ],
             [
              1,
              "#f0f921"
             ]
            ],
            "type": "heatmapgl"
           }
          ],
          "histogram": [
           {
            "marker": {
             "pattern": {
              "fillmode": "overlay",
              "size": 10,
              "solidity": 0.2
             }
            },
            "type": "histogram"
           }
          ],
          "histogram2d": [
           {
            "colorbar": {
             "outlinewidth": 0,
             "ticks": ""
            },
            "colorscale": [
             [
              0,
              "#0d0887"
             ],
             [
              0.1111111111111111,
              "#46039f"
             ],
             [
              0.2222222222222222,
              "#7201a8"
             ],
             [
              0.3333333333333333,
              "#9c179e"
             ],
             [
              0.4444444444444444,
              "#bd3786"
             ],
             [
              0.5555555555555556,
              "#d8576b"
             ],
             [
              0.6666666666666666,
              "#ed7953"
             ],
             [
              0.7777777777777778,
              "#fb9f3a"
             ],
             [
              0.8888888888888888,
              "#fdca26"
             ],
             [
              1,
              "#f0f921"
             ]
            ],
            "type": "histogram2d"
           }
          ],
          "histogram2dcontour": [
           {
            "colorbar": {
             "outlinewidth": 0,
             "ticks": ""
            },
            "colorscale": [
             [
              0,
              "#0d0887"
             ],
             [
              0.1111111111111111,
              "#46039f"
             ],
             [
              0.2222222222222222,
              "#7201a8"
             ],
             [
              0.3333333333333333,
              "#9c179e"
             ],
             [
              0.4444444444444444,
              "#bd3786"
             ],
             [
              0.5555555555555556,
              "#d8576b"
             ],
             [
              0.6666666666666666,
              "#ed7953"
             ],
             [
              0.7777777777777778,
              "#fb9f3a"
             ],
             [
              0.8888888888888888,
              "#fdca26"
             ],
             [
              1,
              "#f0f921"
             ]
            ],
            "type": "histogram2dcontour"
           }
          ],
          "mesh3d": [
           {
            "colorbar": {
             "outlinewidth": 0,
             "ticks": ""
            },
            "type": "mesh3d"
           }
          ],
          "parcoords": [
           {
            "line": {
             "colorbar": {
              "outlinewidth": 0,
              "ticks": ""
             }
            },
            "type": "parcoords"
           }
          ],
          "pie": [
           {
            "automargin": true,
            "type": "pie"
           }
          ],
          "scatter": [
           {
            "fillpattern": {
             "fillmode": "overlay",
             "size": 10,
             "solidity": 0.2
            },
            "type": "scatter"
           }
          ],
          "scatter3d": [
           {
            "line": {
             "colorbar": {
              "outlinewidth": 0,
              "ticks": ""
             }
            },
            "marker": {
             "colorbar": {
              "outlinewidth": 0,
              "ticks": ""
             }
            },
            "type": "scatter3d"
           }
          ],
          "scattercarpet": [
           {
            "marker": {
             "colorbar": {
              "outlinewidth": 0,
              "ticks": ""
             }
            },
            "type": "scattercarpet"
           }
          ],
          "scattergeo": [
           {
            "marker": {
             "colorbar": {
              "outlinewidth": 0,
              "ticks": ""
             }
            },
            "type": "scattergeo"
           }
          ],
          "scattergl": [
           {
            "marker": {
             "colorbar": {
              "outlinewidth": 0,
              "ticks": ""
             }
            },
            "type": "scattergl"
           }
          ],
          "scattermapbox": [
           {
            "marker": {
             "colorbar": {
              "outlinewidth": 0,
              "ticks": ""
             }
            },
            "type": "scattermapbox"
           }
          ],
          "scatterpolar": [
           {
            "marker": {
             "colorbar": {
              "outlinewidth": 0,
              "ticks": ""
             }
            },
            "type": "scatterpolar"
           }
          ],
          "scatterpolargl": [
           {
            "marker": {
             "colorbar": {
              "outlinewidth": 0,
              "ticks": ""
             }
            },
            "type": "scatterpolargl"
           }
          ],
          "scatterternary": [
           {
            "marker": {
             "colorbar": {
              "outlinewidth": 0,
              "ticks": ""
             }
            },
            "type": "scatterternary"
           }
          ],
          "surface": [
           {
            "colorbar": {
             "outlinewidth": 0,
             "ticks": ""
            },
            "colorscale": [
             [
              0,
              "#0d0887"
             ],
             [
              0.1111111111111111,
              "#46039f"
             ],
             [
              0.2222222222222222,
              "#7201a8"
             ],
             [
              0.3333333333333333,
              "#9c179e"
             ],
             [
              0.4444444444444444,
              "#bd3786"
             ],
             [
              0.5555555555555556,
              "#d8576b"
             ],
             [
              0.6666666666666666,
              "#ed7953"
             ],
             [
              0.7777777777777778,
              "#fb9f3a"
             ],
             [
              0.8888888888888888,
              "#fdca26"
             ],
             [
              1,
              "#f0f921"
             ]
            ],
            "type": "surface"
           }
          ],
          "table": [
           {
            "cells": {
             "fill": {
              "color": "#EBF0F8"
             },
             "line": {
              "color": "white"
             }
            },
            "header": {
             "fill": {
              "color": "#C8D4E3"
             },
             "line": {
              "color": "white"
             }
            },
            "type": "table"
           }
          ]
         },
         "layout": {
          "annotationdefaults": {
           "arrowcolor": "#2a3f5f",
           "arrowhead": 0,
           "arrowwidth": 1
          },
          "autotypenumbers": "strict",
          "coloraxis": {
           "colorbar": {
            "outlinewidth": 0,
            "ticks": ""
           }
          },
          "colorscale": {
           "diverging": [
            [
             0,
             "#8e0152"
            ],
            [
             0.1,
             "#c51b7d"
            ],
            [
             0.2,
             "#de77ae"
            ],
            [
             0.3,
             "#f1b6da"
            ],
            [
             0.4,
             "#fde0ef"
            ],
            [
             0.5,
             "#f7f7f7"
            ],
            [
             0.6,
             "#e6f5d0"
            ],
            [
             0.7,
             "#b8e186"
            ],
            [
             0.8,
             "#7fbc41"
            ],
            [
             0.9,
             "#4d9221"
            ],
            [
             1,
             "#276419"
            ]
           ],
           "sequential": [
            [
             0,
             "#0d0887"
            ],
            [
             0.1111111111111111,
             "#46039f"
            ],
            [
             0.2222222222222222,
             "#7201a8"
            ],
            [
             0.3333333333333333,
             "#9c179e"
            ],
            [
             0.4444444444444444,
             "#bd3786"
            ],
            [
             0.5555555555555556,
             "#d8576b"
            ],
            [
             0.6666666666666666,
             "#ed7953"
            ],
            [
             0.7777777777777778,
             "#fb9f3a"
            ],
            [
             0.8888888888888888,
             "#fdca26"
            ],
            [
             1,
             "#f0f921"
            ]
           ],
           "sequentialminus": [
            [
             0,
             "#0d0887"
            ],
            [
             0.1111111111111111,
             "#46039f"
            ],
            [
             0.2222222222222222,
             "#7201a8"
            ],
            [
             0.3333333333333333,
             "#9c179e"
            ],
            [
             0.4444444444444444,
             "#bd3786"
            ],
            [
             0.5555555555555556,
             "#d8576b"
            ],
            [
             0.6666666666666666,
             "#ed7953"
            ],
            [
             0.7777777777777778,
             "#fb9f3a"
            ],
            [
             0.8888888888888888,
             "#fdca26"
            ],
            [
             1,
             "#f0f921"
            ]
           ]
          },
          "colorway": [
           "#636efa",
           "#EF553B",
           "#00cc96",
           "#ab63fa",
           "#FFA15A",
           "#19d3f3",
           "#FF6692",
           "#B6E880",
           "#FF97FF",
           "#FECB52"
          ],
          "font": {
           "color": "#2a3f5f"
          },
          "geo": {
           "bgcolor": "white",
           "lakecolor": "white",
           "landcolor": "#E5ECF6",
           "showlakes": true,
           "showland": true,
           "subunitcolor": "white"
          },
          "hoverlabel": {
           "align": "left"
          },
          "hovermode": "closest",
          "mapbox": {
           "style": "light"
          },
          "paper_bgcolor": "white",
          "plot_bgcolor": "#E5ECF6",
          "polar": {
           "angularaxis": {
            "gridcolor": "white",
            "linecolor": "white",
            "ticks": ""
           },
           "bgcolor": "#E5ECF6",
           "radialaxis": {
            "gridcolor": "white",
            "linecolor": "white",
            "ticks": ""
           }
          },
          "scene": {
           "xaxis": {
            "backgroundcolor": "#E5ECF6",
            "gridcolor": "white",
            "gridwidth": 2,
            "linecolor": "white",
            "showbackground": true,
            "ticks": "",
            "zerolinecolor": "white"
           },
           "yaxis": {
            "backgroundcolor": "#E5ECF6",
            "gridcolor": "white",
            "gridwidth": 2,
            "linecolor": "white",
            "showbackground": true,
            "ticks": "",
            "zerolinecolor": "white"
           },
           "zaxis": {
            "backgroundcolor": "#E5ECF6",
            "gridcolor": "white",
            "gridwidth": 2,
            "linecolor": "white",
            "showbackground": true,
            "ticks": "",
            "zerolinecolor": "white"
           }
          },
          "shapedefaults": {
           "line": {
            "color": "#2a3f5f"
           }
          },
          "ternary": {
           "aaxis": {
            "gridcolor": "white",
            "linecolor": "white",
            "ticks": ""
           },
           "baxis": {
            "gridcolor": "white",
            "linecolor": "white",
            "ticks": ""
           },
           "bgcolor": "#E5ECF6",
           "caxis": {
            "gridcolor": "white",
            "linecolor": "white",
            "ticks": ""
           }
          },
          "title": {
           "x": 0.05
          },
          "xaxis": {
           "automargin": true,
           "gridcolor": "white",
           "linecolor": "white",
           "ticks": "",
           "title": {
            "standoff": 15
           },
           "zerolinecolor": "white",
           "zerolinewidth": 2
          },
          "yaxis": {
           "automargin": true,
           "gridcolor": "white",
           "linecolor": "white",
           "ticks": "",
           "title": {
            "standoff": 15
           },
           "zerolinecolor": "white",
           "zerolinewidth": 2
          }
         }
        }
       }
      }
     },
     "metadata": {},
     "output_type": "display_data"
    }
   ],
   "source": [
    "px.set_mapbox_access_token(\"pk.eyJ1IjoibWpkYW91ZGkiLCJhIjoiY2xibm54OThyMGdyOTNvcnhqeTYyZmRuYiJ9.rfxe3z8triwA5yvV1XZA-A\")\n",
    "fig = px.scatter_mapbox(delay_stops_cat, lat=\"stop_lat\", lon=\"stop_lon\", hover_name=\"stop_name\",\n",
    "                        color=\"mode\", zoom=10)\n",
    "fig.update_layout(mapbox_style=\"light\")\n",
    "fig.update_layout(margin={\"r\":0,\"t\":0,\"l\":0,\"b\":0})\n",
    "fig.show()"
   ]
  },
  {
   "cell_type": "code",
   "execution_count": 22,
   "metadata": {},
   "outputs": [],
   "source": [
    "delay_stops_cat[\"cat\"] = \"catcher\"\n",
    "delay_stops[\"cat\"] = \"delayer\""
   ]
  },
  {
   "cell_type": "code",
   "execution_count": 25,
   "metadata": {},
   "outputs": [],
   "source": [
    "pd.concat([delay_stops, delay_stops_cat]).to_pickle(\"data/computed/freq_mining.pkl\")"
   ]
  },
  {
   "attachments": {},
   "cell_type": "markdown",
   "metadata": {},
   "source": [
    "## Buses"
   ]
  },
  {
   "cell_type": "code",
   "execution_count": 28,
   "metadata": {},
   "outputs": [],
   "source": [
    "Buses = pd.concat([delay_stops[delay_stops[\"mode\"] == \"B\"], delay_stops_cat[delay_stops_cat[\"mode\"] == \"B\"]])\n",
    "Buses = Buses[~Buses.stop_name.isin(Buses[Buses.duplicated(subset=\"stop_name\")].stop_name)]"
   ]
  },
  {
   "cell_type": "code",
   "execution_count": 43,
   "metadata": {},
   "outputs": [
    {
     "name": "stderr",
     "output_type": "stream",
     "text": [
      "/Users/mjdaoudi/opt/anaconda3/lib/python3.9/site-packages/plotly/io/_renderers.py:395: DeprecationWarning:\n",
      "\n",
      "distutils Version classes are deprecated. Use packaging.version instead.\n",
      "\n",
      "/Users/mjdaoudi/opt/anaconda3/lib/python3.9/site-packages/plotly/io/_renderers.py:395: DeprecationWarning:\n",
      "\n",
      "distutils Version classes are deprecated. Use packaging.version instead.\n",
      "\n"
     ]
    },
    {
     "data": {
      "application/vnd.plotly.v1+json": {
       "config": {
        "plotlyServerURL": "https://plot.ly"
       },
       "data": [
        {
         "hovertemplate": "<b>%{hovertext}</b><br><br>cat=delayer<br>stop_lat=%{lat}<br>stop_lon=%{lon}<extra></extra>",
         "hovertext": [
          "ANTOON VAN OSS",
          "ARBRE BALLON",
          "ARTEMIS",
          "AUDREY HEPBURN",
          "AVENUE DU ROI",
          "BASTOGNE",
          "BERVOETS",
          "BOCKSTAEL",
          "BONAVENTURE",
          "BORDET STATION",
          "BOURDON",
          "BOURSE",
          "BRABANCONNE",
          "BRAVES",
          "CARENE",
          "CHARROI",
          "CIM. DE BRUXELLES",
          "COLLEGE ST-PIERRE",
          "COLONEL BOURG",
          "CROCQ",
          "DA VINCI",
          "DEGROOFF",
          "DELTA",
          "DIAMANT",
          "DIGUE DU CANAL",
          "ENGELAND",
          "FLAGEY",
          "FOREST CENTRE",
          "FROISSART",
          "GARE CENTRALE",
          "GARE DE JETTE",
          "GAZELLE",
          "GEORGES HENRI",
          "GLOBE",
          "GUILLAUME",
          "GULLEDELLE",
          "HEROS",
          "HOUZEAU",
          "LORGE",
          "MARCEL THIRY",
          "MERODE",
          "MEUDON",
          "MICHEL-ANGE",
          "MOLIERE-LONGCHAMP",
          "MONTGOMERY",
          "PADUWA",
          "PEUPLIERS",
          "PLASKY",
          "PORTE DE NAMUR",
          "REINE ASTRID",
          "SAINT-DENIS",
          "SAINT-VINCENT",
          "SCHUMAN",
          "STATUAIRES",
          "SUEDE",
          "TAMARIS",
          "THIRY-WOLUWE",
          "UCCLE CALEVOET",
          "UZ BRUSSEL",
          "UZ-PEDIATRIE",
          "VANDENHOVEN",
          "VICTOR HUGO",
          "WIELS"
         ],
         "lat": [
          50.905632,
          50.892851,
          50.862308,
          50.889678,
          50.831389,
          50.861273,
          50.816648,
          50.877635,
          50.885563,
          50.877616,
          50.78698,
          50.847772,
          50.851647,
          50.773299,
          50.854515,
          50.822306,
          50.864222,
          50.806433,
          50.852548,
          50.884911,
          50.876747,
          50.843639,
          50.816744,
          50.848931,
          50.823973,
          50.789489,
          50.828383,
          50.81194,
          50.840527,
          50.84498,
          50.880228,
          50.782011,
          50.843453,
          50.800674,
          50.861276,
          50.855498,
          50.803597,
          50.80305,
          50.882853,
          50.855671,
          50.839211,
          50.845057,
          50.845205,
          50.816262,
          50.838006,
          50.859657,
          50.852876,
          50.851519,
          50.839217,
          50.848082,
          50.810537,
          50.880816,
          50.842046,
          50.803921,
          50.834096,
          50.851039,
          50.854805,
          50.791242,
          50.88634,
          50.889498,
          50.8826,
          50.847707,
          50.824159
         ],
         "legendgroup": "delayer",
         "lon": [
          4.402999,
          4.312731,
          4.416194,
          4.316768,
          4.332229,
          4.315886,
          4.319873,
          4.347781,
          4.322378,
          4.409348,
          4.330689,
          4.348972,
          4.387125,
          4.335988,
          4.414539,
          4.322642,
          4.41871,
          4.34079,
          4.409566,
          4.329588,
          4.412529,
          4.411958,
          4.405058,
          4.402428,
          4.310747,
          4.333821,
          4.373166,
          4.31919,
          4.382651,
          4.357027,
          4.330089,
          4.341228,
          4.405598,
          4.337416,
          4.412642,
          4.428174,
          4.342061,
          4.358807,
          4.330882,
          4.440572,
          4.398523,
          4.417284,
          4.386602,
          4.339974,
          4.40897,
          4.414231,
          4.437997,
          4.394513,
          4.363777,
          4.467057,
          4.317971,
          4.403821,
          4.383774,
          4.349047,
          4.335818,
          4.307562,
          4.445186,
          4.332898,
          4.311669,
          4.309422,
          4.40709,
          4.397407,
          4.325394
         ],
         "marker": {
          "color": "#636efa"
         },
         "mode": "markers",
         "name": "delayer",
         "showlegend": true,
         "subplot": "mapbox",
         "type": "scattermapbox"
        },
        {
         "hovertemplate": "<b>%{hovertext}</b><br><br>cat=catcher<br>stop_lat=%{lat}<br>stop_lon=%{lon}<extra></extra>",
         "hovertext": [
          "AMBIORIX",
          "ARENBERG",
          "AVENUE DU PORT",
          "CIM. D'IXELLES",
          "ENTREPOT",
          "FERNAND COCQ",
          "FRAITEUR",
          "LUXEMBOURG",
          "OUD KAPELLEKE",
          "ROGIER",
          "ROYALE",
          "SCIENCE"
         ],
         "lat": [
          50.846234,
          50.848168,
          50.863018,
          50.815966,
          50.868313,
          50.833057,
          50.817709,
          50.839745,
          50.874152,
          50.855635,
          50.841426,
          50.839842
         ],
         "legendgroup": "catcher",
         "lon": [
          4.38347,
          4.356484,
          4.348724,
          4.390704,
          4.353197,
          4.366481,
          4.395984,
          4.373679,
          4.403007,
          4.35804,
          4.358345,
          4.369371
         ],
         "marker": {
          "color": "#EF553B"
         },
         "mode": "markers",
         "name": "catcher",
         "showlegend": true,
         "subplot": "mapbox",
         "type": "scattermapbox"
        }
       ],
       "layout": {
        "legend": {
         "title": {
          "text": "cat"
         },
         "tracegroupgap": 0
        },
        "mapbox": {
         "accesstoken": "pk.eyJ1IjoibWpkYW91ZGkiLCJhIjoiY2xibm54OThyMGdyOTNvcnhqeTYyZmRuYiJ9.rfxe3z8triwA5yvV1XZA-A",
         "center": {
          "lat": 50.84421404,
          "lon": 4.369124173333334
         },
         "domain": {
          "x": [
           0,
           1
          ],
          "y": [
           0,
           1
          ]
         },
         "style": "light",
         "zoom": 10
        },
        "margin": {
         "b": 0,
         "l": 0,
         "r": 0,
         "t": 0
        },
        "template": {
         "data": {
          "bar": [
           {
            "error_x": {
             "color": "#2a3f5f"
            },
            "error_y": {
             "color": "#2a3f5f"
            },
            "marker": {
             "line": {
              "color": "#E5ECF6",
              "width": 0.5
             },
             "pattern": {
              "fillmode": "overlay",
              "size": 10,
              "solidity": 0.2
             }
            },
            "type": "bar"
           }
          ],
          "barpolar": [
           {
            "marker": {
             "line": {
              "color": "#E5ECF6",
              "width": 0.5
             },
             "pattern": {
              "fillmode": "overlay",
              "size": 10,
              "solidity": 0.2
             }
            },
            "type": "barpolar"
           }
          ],
          "carpet": [
           {
            "aaxis": {
             "endlinecolor": "#2a3f5f",
             "gridcolor": "white",
             "linecolor": "white",
             "minorgridcolor": "white",
             "startlinecolor": "#2a3f5f"
            },
            "baxis": {
             "endlinecolor": "#2a3f5f",
             "gridcolor": "white",
             "linecolor": "white",
             "minorgridcolor": "white",
             "startlinecolor": "#2a3f5f"
            },
            "type": "carpet"
           }
          ],
          "choropleth": [
           {
            "colorbar": {
             "outlinewidth": 0,
             "ticks": ""
            },
            "type": "choropleth"
           }
          ],
          "contour": [
           {
            "colorbar": {
             "outlinewidth": 0,
             "ticks": ""
            },
            "colorscale": [
             [
              0,
              "#0d0887"
             ],
             [
              0.1111111111111111,
              "#46039f"
             ],
             [
              0.2222222222222222,
              "#7201a8"
             ],
             [
              0.3333333333333333,
              "#9c179e"
             ],
             [
              0.4444444444444444,
              "#bd3786"
             ],
             [
              0.5555555555555556,
              "#d8576b"
             ],
             [
              0.6666666666666666,
              "#ed7953"
             ],
             [
              0.7777777777777778,
              "#fb9f3a"
             ],
             [
              0.8888888888888888,
              "#fdca26"
             ],
             [
              1,
              "#f0f921"
             ]
            ],
            "type": "contour"
           }
          ],
          "contourcarpet": [
           {
            "colorbar": {
             "outlinewidth": 0,
             "ticks": ""
            },
            "type": "contourcarpet"
           }
          ],
          "heatmap": [
           {
            "colorbar": {
             "outlinewidth": 0,
             "ticks": ""
            },
            "colorscale": [
             [
              0,
              "#0d0887"
             ],
             [
              0.1111111111111111,
              "#46039f"
             ],
             [
              0.2222222222222222,
              "#7201a8"
             ],
             [
              0.3333333333333333,
              "#9c179e"
             ],
             [
              0.4444444444444444,
              "#bd3786"
             ],
             [
              0.5555555555555556,
              "#d8576b"
             ],
             [
              0.6666666666666666,
              "#ed7953"
             ],
             [
              0.7777777777777778,
              "#fb9f3a"
             ],
             [
              0.8888888888888888,
              "#fdca26"
             ],
             [
              1,
              "#f0f921"
             ]
            ],
            "type": "heatmap"
           }
          ],
          "heatmapgl": [
           {
            "colorbar": {
             "outlinewidth": 0,
             "ticks": ""
            },
            "colorscale": [
             [
              0,
              "#0d0887"
             ],
             [
              0.1111111111111111,
              "#46039f"
             ],
             [
              0.2222222222222222,
              "#7201a8"
             ],
             [
              0.3333333333333333,
              "#9c179e"
             ],
             [
              0.4444444444444444,
              "#bd3786"
             ],
             [
              0.5555555555555556,
              "#d8576b"
             ],
             [
              0.6666666666666666,
              "#ed7953"
             ],
             [
              0.7777777777777778,
              "#fb9f3a"
             ],
             [
              0.8888888888888888,
              "#fdca26"
             ],
             [
              1,
              "#f0f921"
             ]
            ],
            "type": "heatmapgl"
           }
          ],
          "histogram": [
           {
            "marker": {
             "pattern": {
              "fillmode": "overlay",
              "size": 10,
              "solidity": 0.2
             }
            },
            "type": "histogram"
           }
          ],
          "histogram2d": [
           {
            "colorbar": {
             "outlinewidth": 0,
             "ticks": ""
            },
            "colorscale": [
             [
              0,
              "#0d0887"
             ],
             [
              0.1111111111111111,
              "#46039f"
             ],
             [
              0.2222222222222222,
              "#7201a8"
             ],
             [
              0.3333333333333333,
              "#9c179e"
             ],
             [
              0.4444444444444444,
              "#bd3786"
             ],
             [
              0.5555555555555556,
              "#d8576b"
             ],
             [
              0.6666666666666666,
              "#ed7953"
             ],
             [
              0.7777777777777778,
              "#fb9f3a"
             ],
             [
              0.8888888888888888,
              "#fdca26"
             ],
             [
              1,
              "#f0f921"
             ]
            ],
            "type": "histogram2d"
           }
          ],
          "histogram2dcontour": [
           {
            "colorbar": {
             "outlinewidth": 0,
             "ticks": ""
            },
            "colorscale": [
             [
              0,
              "#0d0887"
             ],
             [
              0.1111111111111111,
              "#46039f"
             ],
             [
              0.2222222222222222,
              "#7201a8"
             ],
             [
              0.3333333333333333,
              "#9c179e"
             ],
             [
              0.4444444444444444,
              "#bd3786"
             ],
             [
              0.5555555555555556,
              "#d8576b"
             ],
             [
              0.6666666666666666,
              "#ed7953"
             ],
             [
              0.7777777777777778,
              "#fb9f3a"
             ],
             [
              0.8888888888888888,
              "#fdca26"
             ],
             [
              1,
              "#f0f921"
             ]
            ],
            "type": "histogram2dcontour"
           }
          ],
          "mesh3d": [
           {
            "colorbar": {
             "outlinewidth": 0,
             "ticks": ""
            },
            "type": "mesh3d"
           }
          ],
          "parcoords": [
           {
            "line": {
             "colorbar": {
              "outlinewidth": 0,
              "ticks": ""
             }
            },
            "type": "parcoords"
           }
          ],
          "pie": [
           {
            "automargin": true,
            "type": "pie"
           }
          ],
          "scatter": [
           {
            "fillpattern": {
             "fillmode": "overlay",
             "size": 10,
             "solidity": 0.2
            },
            "type": "scatter"
           }
          ],
          "scatter3d": [
           {
            "line": {
             "colorbar": {
              "outlinewidth": 0,
              "ticks": ""
             }
            },
            "marker": {
             "colorbar": {
              "outlinewidth": 0,
              "ticks": ""
             }
            },
            "type": "scatter3d"
           }
          ],
          "scattercarpet": [
           {
            "marker": {
             "colorbar": {
              "outlinewidth": 0,
              "ticks": ""
             }
            },
            "type": "scattercarpet"
           }
          ],
          "scattergeo": [
           {
            "marker": {
             "colorbar": {
              "outlinewidth": 0,
              "ticks": ""
             }
            },
            "type": "scattergeo"
           }
          ],
          "scattergl": [
           {
            "marker": {
             "colorbar": {
              "outlinewidth": 0,
              "ticks": ""
             }
            },
            "type": "scattergl"
           }
          ],
          "scattermapbox": [
           {
            "marker": {
             "colorbar": {
              "outlinewidth": 0,
              "ticks": ""
             }
            },
            "type": "scattermapbox"
           }
          ],
          "scatterpolar": [
           {
            "marker": {
             "colorbar": {
              "outlinewidth": 0,
              "ticks": ""
             }
            },
            "type": "scatterpolar"
           }
          ],
          "scatterpolargl": [
           {
            "marker": {
             "colorbar": {
              "outlinewidth": 0,
              "ticks": ""
             }
            },
            "type": "scatterpolargl"
           }
          ],
          "scatterternary": [
           {
            "marker": {
             "colorbar": {
              "outlinewidth": 0,
              "ticks": ""
             }
            },
            "type": "scatterternary"
           }
          ],
          "surface": [
           {
            "colorbar": {
             "outlinewidth": 0,
             "ticks": ""
            },
            "colorscale": [
             [
              0,
              "#0d0887"
             ],
             [
              0.1111111111111111,
              "#46039f"
             ],
             [
              0.2222222222222222,
              "#7201a8"
             ],
             [
              0.3333333333333333,
              "#9c179e"
             ],
             [
              0.4444444444444444,
              "#bd3786"
             ],
             [
              0.5555555555555556,
              "#d8576b"
             ],
             [
              0.6666666666666666,
              "#ed7953"
             ],
             [
              0.7777777777777778,
              "#fb9f3a"
             ],
             [
              0.8888888888888888,
              "#fdca26"
             ],
             [
              1,
              "#f0f921"
             ]
            ],
            "type": "surface"
           }
          ],
          "table": [
           {
            "cells": {
             "fill": {
              "color": "#EBF0F8"
             },
             "line": {
              "color": "white"
             }
            },
            "header": {
             "fill": {
              "color": "#C8D4E3"
             },
             "line": {
              "color": "white"
             }
            },
            "type": "table"
           }
          ]
         },
         "layout": {
          "annotationdefaults": {
           "arrowcolor": "#2a3f5f",
           "arrowhead": 0,
           "arrowwidth": 1
          },
          "autotypenumbers": "strict",
          "coloraxis": {
           "colorbar": {
            "outlinewidth": 0,
            "ticks": ""
           }
          },
          "colorscale": {
           "diverging": [
            [
             0,
             "#8e0152"
            ],
            [
             0.1,
             "#c51b7d"
            ],
            [
             0.2,
             "#de77ae"
            ],
            [
             0.3,
             "#f1b6da"
            ],
            [
             0.4,
             "#fde0ef"
            ],
            [
             0.5,
             "#f7f7f7"
            ],
            [
             0.6,
             "#e6f5d0"
            ],
            [
             0.7,
             "#b8e186"
            ],
            [
             0.8,
             "#7fbc41"
            ],
            [
             0.9,
             "#4d9221"
            ],
            [
             1,
             "#276419"
            ]
           ],
           "sequential": [
            [
             0,
             "#0d0887"
            ],
            [
             0.1111111111111111,
             "#46039f"
            ],
            [
             0.2222222222222222,
             "#7201a8"
            ],
            [
             0.3333333333333333,
             "#9c179e"
            ],
            [
             0.4444444444444444,
             "#bd3786"
            ],
            [
             0.5555555555555556,
             "#d8576b"
            ],
            [
             0.6666666666666666,
             "#ed7953"
            ],
            [
             0.7777777777777778,
             "#fb9f3a"
            ],
            [
             0.8888888888888888,
             "#fdca26"
            ],
            [
             1,
             "#f0f921"
            ]
           ],
           "sequentialminus": [
            [
             0,
             "#0d0887"
            ],
            [
             0.1111111111111111,
             "#46039f"
            ],
            [
             0.2222222222222222,
             "#7201a8"
            ],
            [
             0.3333333333333333,
             "#9c179e"
            ],
            [
             0.4444444444444444,
             "#bd3786"
            ],
            [
             0.5555555555555556,
             "#d8576b"
            ],
            [
             0.6666666666666666,
             "#ed7953"
            ],
            [
             0.7777777777777778,
             "#fb9f3a"
            ],
            [
             0.8888888888888888,
             "#fdca26"
            ],
            [
             1,
             "#f0f921"
            ]
           ]
          },
          "colorway": [
           "#636efa",
           "#EF553B",
           "#00cc96",
           "#ab63fa",
           "#FFA15A",
           "#19d3f3",
           "#FF6692",
           "#B6E880",
           "#FF97FF",
           "#FECB52"
          ],
          "font": {
           "color": "#2a3f5f"
          },
          "geo": {
           "bgcolor": "white",
           "lakecolor": "white",
           "landcolor": "#E5ECF6",
           "showlakes": true,
           "showland": true,
           "subunitcolor": "white"
          },
          "hoverlabel": {
           "align": "left"
          },
          "hovermode": "closest",
          "mapbox": {
           "style": "light"
          },
          "paper_bgcolor": "white",
          "plot_bgcolor": "#E5ECF6",
          "polar": {
           "angularaxis": {
            "gridcolor": "white",
            "linecolor": "white",
            "ticks": ""
           },
           "bgcolor": "#E5ECF6",
           "radialaxis": {
            "gridcolor": "white",
            "linecolor": "white",
            "ticks": ""
           }
          },
          "scene": {
           "xaxis": {
            "backgroundcolor": "#E5ECF6",
            "gridcolor": "white",
            "gridwidth": 2,
            "linecolor": "white",
            "showbackground": true,
            "ticks": "",
            "zerolinecolor": "white"
           },
           "yaxis": {
            "backgroundcolor": "#E5ECF6",
            "gridcolor": "white",
            "gridwidth": 2,
            "linecolor": "white",
            "showbackground": true,
            "ticks": "",
            "zerolinecolor": "white"
           },
           "zaxis": {
            "backgroundcolor": "#E5ECF6",
            "gridcolor": "white",
            "gridwidth": 2,
            "linecolor": "white",
            "showbackground": true,
            "ticks": "",
            "zerolinecolor": "white"
           }
          },
          "shapedefaults": {
           "line": {
            "color": "#2a3f5f"
           }
          },
          "ternary": {
           "aaxis": {
            "gridcolor": "white",
            "linecolor": "white",
            "ticks": ""
           },
           "baxis": {
            "gridcolor": "white",
            "linecolor": "white",
            "ticks": ""
           },
           "bgcolor": "#E5ECF6",
           "caxis": {
            "gridcolor": "white",
            "linecolor": "white",
            "ticks": ""
           }
          },
          "title": {
           "x": 0.05
          },
          "xaxis": {
           "automargin": true,
           "gridcolor": "white",
           "linecolor": "white",
           "ticks": "",
           "title": {
            "standoff": 15
           },
           "zerolinecolor": "white",
           "zerolinewidth": 2
          },
          "yaxis": {
           "automargin": true,
           "gridcolor": "white",
           "linecolor": "white",
           "ticks": "",
           "title": {
            "standoff": 15
           },
           "zerolinecolor": "white",
           "zerolinewidth": 2
          }
         }
        }
       }
      }
     },
     "metadata": {},
     "output_type": "display_data"
    }
   ],
   "source": [
    "px.set_mapbox_access_token(\"pk.eyJ1IjoibWpkYW91ZGkiLCJhIjoiY2xibm54OThyMGdyOTNvcnhqeTYyZmRuYiJ9.rfxe3z8triwA5yvV1XZA-A\")\n",
    "fig = px.scatter_mapbox(Buses, lat=\"stop_lat\", lon=\"stop_lon\", hover_name=\"stop_name\",\n",
    "                        color=\"cat\", zoom=10)\n",
    "fig.update_layout(mapbox_style=\"light\")\n",
    "fig.update_layout(margin={\"r\":0,\"t\":0,\"l\":0,\"b\":0})\n",
    "fig.show()"
   ]
  },
  {
   "attachments": {},
   "cell_type": "markdown",
   "metadata": {},
   "source": [
    "## Tram"
   ]
  },
  {
   "cell_type": "code",
   "execution_count": 42,
   "metadata": {},
   "outputs": [
    {
     "name": "stderr",
     "output_type": "stream",
     "text": [
      "/Users/mjdaoudi/opt/anaconda3/lib/python3.9/site-packages/plotly/io/_renderers.py:395: DeprecationWarning:\n",
      "\n",
      "distutils Version classes are deprecated. Use packaging.version instead.\n",
      "\n",
      "/Users/mjdaoudi/opt/anaconda3/lib/python3.9/site-packages/plotly/io/_renderers.py:395: DeprecationWarning:\n",
      "\n",
      "distutils Version classes are deprecated. Use packaging.version instead.\n",
      "\n"
     ]
    },
    {
     "data": {
      "application/vnd.plotly.v1+json": {
       "config": {
        "plotlyServerURL": "https://plot.ly"
       },
       "data": [
        {
         "hovertemplate": "<b>%{hovertext}</b><br><br>cat=delayer<br>stop_lat=%{lat}<br>stop_lon=%{lon}<extra></extra>",
         "hovertext": [
          "ALBERT",
          "ANNEESSENS",
          "ARAUCARIA",
          "AUDERGHEM-SHOP.",
          "BAILLI",
          "BEMPT",
          "BERKENDAEL",
          "BESME",
          "BOONDAEL GARE",
          "BOTANIQUE",
          "BOURDON",
          "BOURSE",
          "BRESIL",
          "BROUSTIN",
          "CARREFOUR STALLE",
          "CAVELL",
          "CHIEN VERT",
          "CIM. DE JETTE",
          "DA VINCI",
          "DE WAND",
          "DEFACQZ",
          "DEMINEURS",
          "EGIDE VAN OPHEM",
          "FOREST CENTRE",
          "GILLON",
          "GJ MARTIN",
          "GUILL. DE GREEF",
          "HERRMANN-DEBROUX",
          "HOPITAL BRUGMANN",
          "HORTA",
          "JULES DE TROOZ",
          "LEOPOLD III",
          "LOUIS MARCELIS",
          "MADOUX",
          "MARLOW",
          "MASUI",
          "MAX WALLER",
          "MERLO",
          "MIROIR",
          "MONACO",
          "MUSEE DU TRAM",
          "NEERSTALLE",
          "OPPEMSTRAAT",
          "PALAIS",
          "PARC DES SOURCES",
          "PARC SENY",
          "PARVIS ST-GILLES",
          "PENTATHLON",
          "POLYCL. BRUGMANN",
          "PORTE DE HAL",
          "PRINC. ELISABETH",
          "QUATRE BRAS",
          "ROYALE",
          "SAINT-DENIS",
          "SCHWEITZER",
          "SIMONIS",
          "STOCKEL",
          "TER MEEREN",
          "TIR AUX PIGEONS",
          "TROIS COULEURS",
          "UZ BRUSSEL",
          "VAN PRAET",
          "VANDERKINDERE",
          "WIELS",
          "WOLVENDAEL"
         ],
         "lat": [
          50.82109,
          50.844184,
          50.892871,
          50.816646,
          50.827127,
          50.802176,
          50.818079,
          50.863632,
          50.801169,
          50.853704,
          50.78698,
          50.847772,
          50.802634,
          50.867911,
          50.79673,
          50.811716,
          50.834697,
          50.879312,
          50.876747,
          50.895678,
          50.828607,
          50.879096,
          50.79622,
          50.81194,
          50.855891,
          50.836753,
          50.882396,
          50.812483,
          50.885793,
          50.825702,
          50.871164,
          50.857622,
          50.846952,
          50.827135,
          50.801591,
          50.869411,
          50.806607,
          50.798779,
          50.870847,
          50.812948,
          50.832932,
          50.801295,
          50.825801,
          50.843692,
          50.837131,
          50.808321,
          50.829721,
          50.860596,
          50.889219,
          50.832547,
          50.873267,
          50.820296,
          50.841426,
          50.810537,
          50.864418,
          50.863666,
          50.840858,
          50.844993,
          50.81981,
          50.821865,
          50.88634,
          50.881205,
          50.814339,
          50.824159,
          50.79831
         ],
         "legendgroup": "delayer",
         "lon": [
          4.343888,
          4.345254,
          4.363956,
          4.425399,
          4.363428,
          4.316292,
          4.346047,
          4.324662,
          4.393449,
          4.365987,
          4.330689,
          4.348972,
          4.390584,
          4.326561,
          4.321064,
          4.357429,
          4.426884,
          4.333755,
          4.412529,
          4.357282,
          4.36228,
          4.332662,
          4.324184,
          4.31919,
          4.366991,
          4.41154,
          4.335686,
          4.428388,
          4.332671,
          4.34549,
          4.361237,
          4.398493,
          4.483413,
          4.444942,
          4.340593,
          4.363255,
          4.314443,
          4.319388,
          4.324577,
          4.322708,
          4.432063,
          4.317314,
          4.507531,
          4.36073,
          4.435076,
          4.427177,
          4.346537,
          4.40152,
          4.334089,
          4.342972,
          4.377632,
          4.476975,
          4.358345,
          4.317971,
          4.29709,
          4.329612,
          4.462754,
          4.499935,
          4.467423,
          4.447474,
          4.311669,
          4.373115,
          4.348376,
          4.325394,
          4.343077
         ],
         "marker": {
          "color": "#636efa"
         },
         "mode": "markers",
         "name": "delayer",
         "showlegend": true,
         "subplot": "mapbox",
         "type": "scattermapbox"
        },
        {
         "hovertemplate": "<b>%{hovertext}</b><br><br>cat=catcher<br>stop_lat=%{lat}<br>stop_lon=%{lon}<extra></extra>",
         "hovertext": [
          "ALPHONSE XIII",
          "ARSENAL",
          "ARTS ET METIERS",
          "AZUR",
          "BARRIERE",
          "BELGICA",
          "BUYL",
          "CAMBRE-ETOILE",
          "CHATAIGNES",
          "DE VILLALOBAR",
          "DOCKS BRUXSEL",
          "EMPAIN",
          "ERNEST SALU",
          "EXPOSITION",
          "FAIDER",
          "JULES CESAR",
          "LEGRAND",
          "LEOPOLD II",
          "MARGUERITE DURAS",
          "ODON WARLAND",
          "PLACE R. ASTRID",
          "PORTE DE FLANDRE",
          "PORTE DE NINOVE",
          "PTE D'ANDERLECHT",
          "ROGIER",
          "UNION",
          "UZ-PEDIATRIE",
          "VLEURGAT",
          "VUB",
          "WAGON",
          "WOLUWE SHOPPING",
          "ZAMAN-FOREST NAT."
         ],
         "lat": [
          50.79104,
          50.826393,
          50.847997,
          50.866659,
          50.827158,
          50.867474,
          50.818914,
          50.816372,
          50.817228,
          50.82784,
          50.879227,
          50.824976,
          50.88424,
          50.879669,
          50.829515,
          50.834547,
          50.816346,
          50.836069,
          50.855491,
          50.870424,
          50.873287,
          50.85302,
          50.850536,
          50.845369,
          50.855635,
          50.819628,
          50.889498,
          50.823578,
          50.824784,
          50.796832,
          50.844597,
          50.814081
         ],
         "legendgroup": "catcher",
         "lon": [
          4.36895,
          4.396727,
          4.33778,
          4.287128,
          4.344041,
          4.336065,
          4.378791,
          4.376301,
          4.32513,
          4.438996,
          4.375066,
          4.431867,
          4.337788,
          4.315958,
          4.35585,
          4.420311,
          4.371817,
          4.412945,
          4.346631,
          4.334721,
          4.325704,
          4.341841,
          4.338749,
          4.338892,
          4.35804,
          4.325398,
          4.309422,
          4.367622,
          4.392425,
          4.329461,
          4.438395,
          4.324764
         ],
         "marker": {
          "color": "#EF553B"
         },
         "mode": "markers",
         "name": "catcher",
         "showlegend": true,
         "subplot": "mapbox",
         "type": "scattermapbox"
        }
       ],
       "layout": {
        "legend": {
         "title": {
          "text": "cat"
         },
         "tracegroupgap": 0
        },
        "mapbox": {
         "accesstoken": "pk.eyJ1IjoibWpkYW91ZGkiLCJhIjoiY2xibm54OThyMGdyOTNvcnhqeTYyZmRuYiJ9.rfxe3z8triwA5yvV1XZA-A",
         "center": {
          "lat": 50.839112989690726,
          "lon": 4.366512051546392
         },
         "domain": {
          "x": [
           0,
           1
          ],
          "y": [
           0,
           1
          ]
         },
         "style": "light",
         "zoom": 10
        },
        "margin": {
         "b": 0,
         "l": 0,
         "r": 0,
         "t": 0
        },
        "template": {
         "data": {
          "bar": [
           {
            "error_x": {
             "color": "#2a3f5f"
            },
            "error_y": {
             "color": "#2a3f5f"
            },
            "marker": {
             "line": {
              "color": "#E5ECF6",
              "width": 0.5
             },
             "pattern": {
              "fillmode": "overlay",
              "size": 10,
              "solidity": 0.2
             }
            },
            "type": "bar"
           }
          ],
          "barpolar": [
           {
            "marker": {
             "line": {
              "color": "#E5ECF6",
              "width": 0.5
             },
             "pattern": {
              "fillmode": "overlay",
              "size": 10,
              "solidity": 0.2
             }
            },
            "type": "barpolar"
           }
          ],
          "carpet": [
           {
            "aaxis": {
             "endlinecolor": "#2a3f5f",
             "gridcolor": "white",
             "linecolor": "white",
             "minorgridcolor": "white",
             "startlinecolor": "#2a3f5f"
            },
            "baxis": {
             "endlinecolor": "#2a3f5f",
             "gridcolor": "white",
             "linecolor": "white",
             "minorgridcolor": "white",
             "startlinecolor": "#2a3f5f"
            },
            "type": "carpet"
           }
          ],
          "choropleth": [
           {
            "colorbar": {
             "outlinewidth": 0,
             "ticks": ""
            },
            "type": "choropleth"
           }
          ],
          "contour": [
           {
            "colorbar": {
             "outlinewidth": 0,
             "ticks": ""
            },
            "colorscale": [
             [
              0,
              "#0d0887"
             ],
             [
              0.1111111111111111,
              "#46039f"
             ],
             [
              0.2222222222222222,
              "#7201a8"
             ],
             [
              0.3333333333333333,
              "#9c179e"
             ],
             [
              0.4444444444444444,
              "#bd3786"
             ],
             [
              0.5555555555555556,
              "#d8576b"
             ],
             [
              0.6666666666666666,
              "#ed7953"
             ],
             [
              0.7777777777777778,
              "#fb9f3a"
             ],
             [
              0.8888888888888888,
              "#fdca26"
             ],
             [
              1,
              "#f0f921"
             ]
            ],
            "type": "contour"
           }
          ],
          "contourcarpet": [
           {
            "colorbar": {
             "outlinewidth": 0,
             "ticks": ""
            },
            "type": "contourcarpet"
           }
          ],
          "heatmap": [
           {
            "colorbar": {
             "outlinewidth": 0,
             "ticks": ""
            },
            "colorscale": [
             [
              0,
              "#0d0887"
             ],
             [
              0.1111111111111111,
              "#46039f"
             ],
             [
              0.2222222222222222,
              "#7201a8"
             ],
             [
              0.3333333333333333,
              "#9c179e"
             ],
             [
              0.4444444444444444,
              "#bd3786"
             ],
             [
              0.5555555555555556,
              "#d8576b"
             ],
             [
              0.6666666666666666,
              "#ed7953"
             ],
             [
              0.7777777777777778,
              "#fb9f3a"
             ],
             [
              0.8888888888888888,
              "#fdca26"
             ],
             [
              1,
              "#f0f921"
             ]
            ],
            "type": "heatmap"
           }
          ],
          "heatmapgl": [
           {
            "colorbar": {
             "outlinewidth": 0,
             "ticks": ""
            },
            "colorscale": [
             [
              0,
              "#0d0887"
             ],
             [
              0.1111111111111111,
              "#46039f"
             ],
             [
              0.2222222222222222,
              "#7201a8"
             ],
             [
              0.3333333333333333,
              "#9c179e"
             ],
             [
              0.4444444444444444,
              "#bd3786"
             ],
             [
              0.5555555555555556,
              "#d8576b"
             ],
             [
              0.6666666666666666,
              "#ed7953"
             ],
             [
              0.7777777777777778,
              "#fb9f3a"
             ],
             [
              0.8888888888888888,
              "#fdca26"
             ],
             [
              1,
              "#f0f921"
             ]
            ],
            "type": "heatmapgl"
           }
          ],
          "histogram": [
           {
            "marker": {
             "pattern": {
              "fillmode": "overlay",
              "size": 10,
              "solidity": 0.2
             }
            },
            "type": "histogram"
           }
          ],
          "histogram2d": [
           {
            "colorbar": {
             "outlinewidth": 0,
             "ticks": ""
            },
            "colorscale": [
             [
              0,
              "#0d0887"
             ],
             [
              0.1111111111111111,
              "#46039f"
             ],
             [
              0.2222222222222222,
              "#7201a8"
             ],
             [
              0.3333333333333333,
              "#9c179e"
             ],
             [
              0.4444444444444444,
              "#bd3786"
             ],
             [
              0.5555555555555556,
              "#d8576b"
             ],
             [
              0.6666666666666666,
              "#ed7953"
             ],
             [
              0.7777777777777778,
              "#fb9f3a"
             ],
             [
              0.8888888888888888,
              "#fdca26"
             ],
             [
              1,
              "#f0f921"
             ]
            ],
            "type": "histogram2d"
           }
          ],
          "histogram2dcontour": [
           {
            "colorbar": {
             "outlinewidth": 0,
             "ticks": ""
            },
            "colorscale": [
             [
              0,
              "#0d0887"
             ],
             [
              0.1111111111111111,
              "#46039f"
             ],
             [
              0.2222222222222222,
              "#7201a8"
             ],
             [
              0.3333333333333333,
              "#9c179e"
             ],
             [
              0.4444444444444444,
              "#bd3786"
             ],
             [
              0.5555555555555556,
              "#d8576b"
             ],
             [
              0.6666666666666666,
              "#ed7953"
             ],
             [
              0.7777777777777778,
              "#fb9f3a"
             ],
             [
              0.8888888888888888,
              "#fdca26"
             ],
             [
              1,
              "#f0f921"
             ]
            ],
            "type": "histogram2dcontour"
           }
          ],
          "mesh3d": [
           {
            "colorbar": {
             "outlinewidth": 0,
             "ticks": ""
            },
            "type": "mesh3d"
           }
          ],
          "parcoords": [
           {
            "line": {
             "colorbar": {
              "outlinewidth": 0,
              "ticks": ""
             }
            },
            "type": "parcoords"
           }
          ],
          "pie": [
           {
            "automargin": true,
            "type": "pie"
           }
          ],
          "scatter": [
           {
            "fillpattern": {
             "fillmode": "overlay",
             "size": 10,
             "solidity": 0.2
            },
            "type": "scatter"
           }
          ],
          "scatter3d": [
           {
            "line": {
             "colorbar": {
              "outlinewidth": 0,
              "ticks": ""
             }
            },
            "marker": {
             "colorbar": {
              "outlinewidth": 0,
              "ticks": ""
             }
            },
            "type": "scatter3d"
           }
          ],
          "scattercarpet": [
           {
            "marker": {
             "colorbar": {
              "outlinewidth": 0,
              "ticks": ""
             }
            },
            "type": "scattercarpet"
           }
          ],
          "scattergeo": [
           {
            "marker": {
             "colorbar": {
              "outlinewidth": 0,
              "ticks": ""
             }
            },
            "type": "scattergeo"
           }
          ],
          "scattergl": [
           {
            "marker": {
             "colorbar": {
              "outlinewidth": 0,
              "ticks": ""
             }
            },
            "type": "scattergl"
           }
          ],
          "scattermapbox": [
           {
            "marker": {
             "colorbar": {
              "outlinewidth": 0,
              "ticks": ""
             }
            },
            "type": "scattermapbox"
           }
          ],
          "scatterpolar": [
           {
            "marker": {
             "colorbar": {
              "outlinewidth": 0,
              "ticks": ""
             }
            },
            "type": "scatterpolar"
           }
          ],
          "scatterpolargl": [
           {
            "marker": {
             "colorbar": {
              "outlinewidth": 0,
              "ticks": ""
             }
            },
            "type": "scatterpolargl"
           }
          ],
          "scatterternary": [
           {
            "marker": {
             "colorbar": {
              "outlinewidth": 0,
              "ticks": ""
             }
            },
            "type": "scatterternary"
           }
          ],
          "surface": [
           {
            "colorbar": {
             "outlinewidth": 0,
             "ticks": ""
            },
            "colorscale": [
             [
              0,
              "#0d0887"
             ],
             [
              0.1111111111111111,
              "#46039f"
             ],
             [
              0.2222222222222222,
              "#7201a8"
             ],
             [
              0.3333333333333333,
              "#9c179e"
             ],
             [
              0.4444444444444444,
              "#bd3786"
             ],
             [
              0.5555555555555556,
              "#d8576b"
             ],
             [
              0.6666666666666666,
              "#ed7953"
             ],
             [
              0.7777777777777778,
              "#fb9f3a"
             ],
             [
              0.8888888888888888,
              "#fdca26"
             ],
             [
              1,
              "#f0f921"
             ]
            ],
            "type": "surface"
           }
          ],
          "table": [
           {
            "cells": {
             "fill": {
              "color": "#EBF0F8"
             },
             "line": {
              "color": "white"
             }
            },
            "header": {
             "fill": {
              "color": "#C8D4E3"
             },
             "line": {
              "color": "white"
             }
            },
            "type": "table"
           }
          ]
         },
         "layout": {
          "annotationdefaults": {
           "arrowcolor": "#2a3f5f",
           "arrowhead": 0,
           "arrowwidth": 1
          },
          "autotypenumbers": "strict",
          "coloraxis": {
           "colorbar": {
            "outlinewidth": 0,
            "ticks": ""
           }
          },
          "colorscale": {
           "diverging": [
            [
             0,
             "#8e0152"
            ],
            [
             0.1,
             "#c51b7d"
            ],
            [
             0.2,
             "#de77ae"
            ],
            [
             0.3,
             "#f1b6da"
            ],
            [
             0.4,
             "#fde0ef"
            ],
            [
             0.5,
             "#f7f7f7"
            ],
            [
             0.6,
             "#e6f5d0"
            ],
            [
             0.7,
             "#b8e186"
            ],
            [
             0.8,
             "#7fbc41"
            ],
            [
             0.9,
             "#4d9221"
            ],
            [
             1,
             "#276419"
            ]
           ],
           "sequential": [
            [
             0,
             "#0d0887"
            ],
            [
             0.1111111111111111,
             "#46039f"
            ],
            [
             0.2222222222222222,
             "#7201a8"
            ],
            [
             0.3333333333333333,
             "#9c179e"
            ],
            [
             0.4444444444444444,
             "#bd3786"
            ],
            [
             0.5555555555555556,
             "#d8576b"
            ],
            [
             0.6666666666666666,
             "#ed7953"
            ],
            [
             0.7777777777777778,
             "#fb9f3a"
            ],
            [
             0.8888888888888888,
             "#fdca26"
            ],
            [
             1,
             "#f0f921"
            ]
           ],
           "sequentialminus": [
            [
             0,
             "#0d0887"
            ],
            [
             0.1111111111111111,
             "#46039f"
            ],
            [
             0.2222222222222222,
             "#7201a8"
            ],
            [
             0.3333333333333333,
             "#9c179e"
            ],
            [
             0.4444444444444444,
             "#bd3786"
            ],
            [
             0.5555555555555556,
             "#d8576b"
            ],
            [
             0.6666666666666666,
             "#ed7953"
            ],
            [
             0.7777777777777778,
             "#fb9f3a"
            ],
            [
             0.8888888888888888,
             "#fdca26"
            ],
            [
             1,
             "#f0f921"
            ]
           ]
          },
          "colorway": [
           "#636efa",
           "#EF553B",
           "#00cc96",
           "#ab63fa",
           "#FFA15A",
           "#19d3f3",
           "#FF6692",
           "#B6E880",
           "#FF97FF",
           "#FECB52"
          ],
          "font": {
           "color": "#2a3f5f"
          },
          "geo": {
           "bgcolor": "white",
           "lakecolor": "white",
           "landcolor": "#E5ECF6",
           "showlakes": true,
           "showland": true,
           "subunitcolor": "white"
          },
          "hoverlabel": {
           "align": "left"
          },
          "hovermode": "closest",
          "mapbox": {
           "style": "light"
          },
          "paper_bgcolor": "white",
          "plot_bgcolor": "#E5ECF6",
          "polar": {
           "angularaxis": {
            "gridcolor": "white",
            "linecolor": "white",
            "ticks": ""
           },
           "bgcolor": "#E5ECF6",
           "radialaxis": {
            "gridcolor": "white",
            "linecolor": "white",
            "ticks": ""
           }
          },
          "scene": {
           "xaxis": {
            "backgroundcolor": "#E5ECF6",
            "gridcolor": "white",
            "gridwidth": 2,
            "linecolor": "white",
            "showbackground": true,
            "ticks": "",
            "zerolinecolor": "white"
           },
           "yaxis": {
            "backgroundcolor": "#E5ECF6",
            "gridcolor": "white",
            "gridwidth": 2,
            "linecolor": "white",
            "showbackground": true,
            "ticks": "",
            "zerolinecolor": "white"
           },
           "zaxis": {
            "backgroundcolor": "#E5ECF6",
            "gridcolor": "white",
            "gridwidth": 2,
            "linecolor": "white",
            "showbackground": true,
            "ticks": "",
            "zerolinecolor": "white"
           }
          },
          "shapedefaults": {
           "line": {
            "color": "#2a3f5f"
           }
          },
          "ternary": {
           "aaxis": {
            "gridcolor": "white",
            "linecolor": "white",
            "ticks": ""
           },
           "baxis": {
            "gridcolor": "white",
            "linecolor": "white",
            "ticks": ""
           },
           "bgcolor": "#E5ECF6",
           "caxis": {
            "gridcolor": "white",
            "linecolor": "white",
            "ticks": ""
           }
          },
          "title": {
           "x": 0.05
          },
          "xaxis": {
           "automargin": true,
           "gridcolor": "white",
           "linecolor": "white",
           "ticks": "",
           "title": {
            "standoff": 15
           },
           "zerolinecolor": "white",
           "zerolinewidth": 2
          },
          "yaxis": {
           "automargin": true,
           "gridcolor": "white",
           "linecolor": "white",
           "ticks": "",
           "title": {
            "standoff": 15
           },
           "zerolinecolor": "white",
           "zerolinewidth": 2
          }
         }
        }
       }
      }
     },
     "metadata": {},
     "output_type": "display_data"
    }
   ],
   "source": [
    "tram = pd.concat([delay_stops[delay_stops[\"mode\"] == \"T\"], delay_stops_cat[delay_stops_cat[\"mode\"] == \"T\"]])\n",
    "tram = tram[~tram.stop_name.isin(tram[tram.duplicated(subset=\"stop_name\")].stop_name)]\n",
    "\n",
    "px.set_mapbox_access_token(\"pk.eyJ1IjoibWpkYW91ZGkiLCJhIjoiY2xibm54OThyMGdyOTNvcnhqeTYyZmRuYiJ9.rfxe3z8triwA5yvV1XZA-A\")\n",
    "fig = px.scatter_mapbox(tram, lat=\"stop_lat\", lon=\"stop_lon\", hover_name=\"stop_name\",\n",
    "                        color=\"cat\", zoom=10)\n",
    "fig.update_layout(mapbox_style=\"light\")\n",
    "fig.update_layout(margin={\"r\":0,\"t\":0,\"l\":0,\"b\":0})\n",
    "fig.show()"
   ]
  },
  {
   "attachments": {},
   "cell_type": "markdown",
   "metadata": {},
   "source": [
    "## Metro"
   ]
  },
  {
   "cell_type": "code",
   "execution_count": 41,
   "metadata": {},
   "outputs": [
    {
     "name": "stderr",
     "output_type": "stream",
     "text": [
      "/Users/mjdaoudi/opt/anaconda3/lib/python3.9/site-packages/plotly/io/_renderers.py:395: DeprecationWarning:\n",
      "\n",
      "distutils Version classes are deprecated. Use packaging.version instead.\n",
      "\n",
      "/Users/mjdaoudi/opt/anaconda3/lib/python3.9/site-packages/plotly/io/_renderers.py:395: DeprecationWarning:\n",
      "\n",
      "distutils Version classes are deprecated. Use packaging.version instead.\n",
      "\n"
     ]
    },
    {
     "data": {
      "application/vnd.plotly.v1+json": {
       "config": {
        "plotlyServerURL": "https://plot.ly"
       },
       "data": [
        {
         "hovertemplate": "<b>%{hovertext}</b><br><br>cat=delayer<br>stop_lat=%{lat}<br>stop_lon=%{lon}<extra></extra>",
         "hovertext": [
          "BEEKKANT",
          "DELACROIX",
          "GARE DE L'OUEST"
         ],
         "lat": [
          50.854237,
          50.845805,
          50.848351
         ],
         "legendgroup": "delayer",
         "lon": [
          4.323407,
          4.32306,
          4.322094
         ],
         "marker": {
          "color": "#636efa"
         },
         "mode": "markers",
         "name": "delayer",
         "showlegend": true,
         "subplot": "mapbox",
         "type": "scattermapbox"
        },
        {
         "hovertemplate": "<b>%{hovertext}</b><br><br>cat=catcher<br>stop_lat=%{lat}<br>stop_lon=%{lon}<extra></extra>",
         "hovertext": [
          "DE BROUCKERE",
          "GARE CENTRALE",
          "MAELBEEK",
          "MONTGOMERY",
          "PARC",
          "PETILLON",
          "TOMBERG"
         ],
         "lat": [
          50.851494,
          50.84498,
          50.84433,
          50.838006,
          50.846991,
          50.829732,
          50.84284
         ],
         "legendgroup": "catcher",
         "lon": [
          4.352876,
          4.357027,
          4.378052,
          4.40897,
          4.362448,
          4.403331,
          4.425409
         ],
         "marker": {
          "color": "#EF553B"
         },
         "mode": "markers",
         "name": "catcher",
         "showlegend": true,
         "subplot": "mapbox",
         "type": "scattermapbox"
        }
       ],
       "layout": {
        "legend": {
         "title": {
          "text": "cat"
         },
         "tracegroupgap": 0
        },
        "mapbox": {
         "accesstoken": "pk.eyJ1IjoibWpkYW91ZGkiLCJhIjoiY2xibm54OThyMGdyOTNvcnhqeTYyZmRuYiJ9.rfxe3z8triwA5yvV1XZA-A",
         "center": {
          "lat": 50.8446766,
          "lon": 4.3656674
         },
         "domain": {
          "x": [
           0,
           1
          ],
          "y": [
           0,
           1
          ]
         },
         "style": "light",
         "zoom": 10
        },
        "margin": {
         "b": 0,
         "l": 0,
         "r": 0,
         "t": 0
        },
        "template": {
         "data": {
          "bar": [
           {
            "error_x": {
             "color": "#2a3f5f"
            },
            "error_y": {
             "color": "#2a3f5f"
            },
            "marker": {
             "line": {
              "color": "#E5ECF6",
              "width": 0.5
             },
             "pattern": {
              "fillmode": "overlay",
              "size": 10,
              "solidity": 0.2
             }
            },
            "type": "bar"
           }
          ],
          "barpolar": [
           {
            "marker": {
             "line": {
              "color": "#E5ECF6",
              "width": 0.5
             },
             "pattern": {
              "fillmode": "overlay",
              "size": 10,
              "solidity": 0.2
             }
            },
            "type": "barpolar"
           }
          ],
          "carpet": [
           {
            "aaxis": {
             "endlinecolor": "#2a3f5f",
             "gridcolor": "white",
             "linecolor": "white",
             "minorgridcolor": "white",
             "startlinecolor": "#2a3f5f"
            },
            "baxis": {
             "endlinecolor": "#2a3f5f",
             "gridcolor": "white",
             "linecolor": "white",
             "minorgridcolor": "white",
             "startlinecolor": "#2a3f5f"
            },
            "type": "carpet"
           }
          ],
          "choropleth": [
           {
            "colorbar": {
             "outlinewidth": 0,
             "ticks": ""
            },
            "type": "choropleth"
           }
          ],
          "contour": [
           {
            "colorbar": {
             "outlinewidth": 0,
             "ticks": ""
            },
            "colorscale": [
             [
              0,
              "#0d0887"
             ],
             [
              0.1111111111111111,
              "#46039f"
             ],
             [
              0.2222222222222222,
              "#7201a8"
             ],
             [
              0.3333333333333333,
              "#9c179e"
             ],
             [
              0.4444444444444444,
              "#bd3786"
             ],
             [
              0.5555555555555556,
              "#d8576b"
             ],
             [
              0.6666666666666666,
              "#ed7953"
             ],
             [
              0.7777777777777778,
              "#fb9f3a"
             ],
             [
              0.8888888888888888,
              "#fdca26"
             ],
             [
              1,
              "#f0f921"
             ]
            ],
            "type": "contour"
           }
          ],
          "contourcarpet": [
           {
            "colorbar": {
             "outlinewidth": 0,
             "ticks": ""
            },
            "type": "contourcarpet"
           }
          ],
          "heatmap": [
           {
            "colorbar": {
             "outlinewidth": 0,
             "ticks": ""
            },
            "colorscale": [
             [
              0,
              "#0d0887"
             ],
             [
              0.1111111111111111,
              "#46039f"
             ],
             [
              0.2222222222222222,
              "#7201a8"
             ],
             [
              0.3333333333333333,
              "#9c179e"
             ],
             [
              0.4444444444444444,
              "#bd3786"
             ],
             [
              0.5555555555555556,
              "#d8576b"
             ],
             [
              0.6666666666666666,
              "#ed7953"
             ],
             [
              0.7777777777777778,
              "#fb9f3a"
             ],
             [
              0.8888888888888888,
              "#fdca26"
             ],
             [
              1,
              "#f0f921"
             ]
            ],
            "type": "heatmap"
           }
          ],
          "heatmapgl": [
           {
            "colorbar": {
             "outlinewidth": 0,
             "ticks": ""
            },
            "colorscale": [
             [
              0,
              "#0d0887"
             ],
             [
              0.1111111111111111,
              "#46039f"
             ],
             [
              0.2222222222222222,
              "#7201a8"
             ],
             [
              0.3333333333333333,
              "#9c179e"
             ],
             [
              0.4444444444444444,
              "#bd3786"
             ],
             [
              0.5555555555555556,
              "#d8576b"
             ],
             [
              0.6666666666666666,
              "#ed7953"
             ],
             [
              0.7777777777777778,
              "#fb9f3a"
             ],
             [
              0.8888888888888888,
              "#fdca26"
             ],
             [
              1,
              "#f0f921"
             ]
            ],
            "type": "heatmapgl"
           }
          ],
          "histogram": [
           {
            "marker": {
             "pattern": {
              "fillmode": "overlay",
              "size": 10,
              "solidity": 0.2
             }
            },
            "type": "histogram"
           }
          ],
          "histogram2d": [
           {
            "colorbar": {
             "outlinewidth": 0,
             "ticks": ""
            },
            "colorscale": [
             [
              0,
              "#0d0887"
             ],
             [
              0.1111111111111111,
              "#46039f"
             ],
             [
              0.2222222222222222,
              "#7201a8"
             ],
             [
              0.3333333333333333,
              "#9c179e"
             ],
             [
              0.4444444444444444,
              "#bd3786"
             ],
             [
              0.5555555555555556,
              "#d8576b"
             ],
             [
              0.6666666666666666,
              "#ed7953"
             ],
             [
              0.7777777777777778,
              "#fb9f3a"
             ],
             [
              0.8888888888888888,
              "#fdca26"
             ],
             [
              1,
              "#f0f921"
             ]
            ],
            "type": "histogram2d"
           }
          ],
          "histogram2dcontour": [
           {
            "colorbar": {
             "outlinewidth": 0,
             "ticks": ""
            },
            "colorscale": [
             [
              0,
              "#0d0887"
             ],
             [
              0.1111111111111111,
              "#46039f"
             ],
             [
              0.2222222222222222,
              "#7201a8"
             ],
             [
              0.3333333333333333,
              "#9c179e"
             ],
             [
              0.4444444444444444,
              "#bd3786"
             ],
             [
              0.5555555555555556,
              "#d8576b"
             ],
             [
              0.6666666666666666,
              "#ed7953"
             ],
             [
              0.7777777777777778,
              "#fb9f3a"
             ],
             [
              0.8888888888888888,
              "#fdca26"
             ],
             [
              1,
              "#f0f921"
             ]
            ],
            "type": "histogram2dcontour"
           }
          ],
          "mesh3d": [
           {
            "colorbar": {
             "outlinewidth": 0,
             "ticks": ""
            },
            "type": "mesh3d"
           }
          ],
          "parcoords": [
           {
            "line": {
             "colorbar": {
              "outlinewidth": 0,
              "ticks": ""
             }
            },
            "type": "parcoords"
           }
          ],
          "pie": [
           {
            "automargin": true,
            "type": "pie"
           }
          ],
          "scatter": [
           {
            "fillpattern": {
             "fillmode": "overlay",
             "size": 10,
             "solidity": 0.2
            },
            "type": "scatter"
           }
          ],
          "scatter3d": [
           {
            "line": {
             "colorbar": {
              "outlinewidth": 0,
              "ticks": ""
             }
            },
            "marker": {
             "colorbar": {
              "outlinewidth": 0,
              "ticks": ""
             }
            },
            "type": "scatter3d"
           }
          ],
          "scattercarpet": [
           {
            "marker": {
             "colorbar": {
              "outlinewidth": 0,
              "ticks": ""
             }
            },
            "type": "scattercarpet"
           }
          ],
          "scattergeo": [
           {
            "marker": {
             "colorbar": {
              "outlinewidth": 0,
              "ticks": ""
             }
            },
            "type": "scattergeo"
           }
          ],
          "scattergl": [
           {
            "marker": {
             "colorbar": {
              "outlinewidth": 0,
              "ticks": ""
             }
            },
            "type": "scattergl"
           }
          ],
          "scattermapbox": [
           {
            "marker": {
             "colorbar": {
              "outlinewidth": 0,
              "ticks": ""
             }
            },
            "type": "scattermapbox"
           }
          ],
          "scatterpolar": [
           {
            "marker": {
             "colorbar": {
              "outlinewidth": 0,
              "ticks": ""
             }
            },
            "type": "scatterpolar"
           }
          ],
          "scatterpolargl": [
           {
            "marker": {
             "colorbar": {
              "outlinewidth": 0,
              "ticks": ""
             }
            },
            "type": "scatterpolargl"
           }
          ],
          "scatterternary": [
           {
            "marker": {
             "colorbar": {
              "outlinewidth": 0,
              "ticks": ""
             }
            },
            "type": "scatterternary"
           }
          ],
          "surface": [
           {
            "colorbar": {
             "outlinewidth": 0,
             "ticks": ""
            },
            "colorscale": [
             [
              0,
              "#0d0887"
             ],
             [
              0.1111111111111111,
              "#46039f"
             ],
             [
              0.2222222222222222,
              "#7201a8"
             ],
             [
              0.3333333333333333,
              "#9c179e"
             ],
             [
              0.4444444444444444,
              "#bd3786"
             ],
             [
              0.5555555555555556,
              "#d8576b"
             ],
             [
              0.6666666666666666,
              "#ed7953"
             ],
             [
              0.7777777777777778,
              "#fb9f3a"
             ],
             [
              0.8888888888888888,
              "#fdca26"
             ],
             [
              1,
              "#f0f921"
             ]
            ],
            "type": "surface"
           }
          ],
          "table": [
           {
            "cells": {
             "fill": {
              "color": "#EBF0F8"
             },
             "line": {
              "color": "white"
             }
            },
            "header": {
             "fill": {
              "color": "#C8D4E3"
             },
             "line": {
              "color": "white"
             }
            },
            "type": "table"
           }
          ]
         },
         "layout": {
          "annotationdefaults": {
           "arrowcolor": "#2a3f5f",
           "arrowhead": 0,
           "arrowwidth": 1
          },
          "autotypenumbers": "strict",
          "coloraxis": {
           "colorbar": {
            "outlinewidth": 0,
            "ticks": ""
           }
          },
          "colorscale": {
           "diverging": [
            [
             0,
             "#8e0152"
            ],
            [
             0.1,
             "#c51b7d"
            ],
            [
             0.2,
             "#de77ae"
            ],
            [
             0.3,
             "#f1b6da"
            ],
            [
             0.4,
             "#fde0ef"
            ],
            [
             0.5,
             "#f7f7f7"
            ],
            [
             0.6,
             "#e6f5d0"
            ],
            [
             0.7,
             "#b8e186"
            ],
            [
             0.8,
             "#7fbc41"
            ],
            [
             0.9,
             "#4d9221"
            ],
            [
             1,
             "#276419"
            ]
           ],
           "sequential": [
            [
             0,
             "#0d0887"
            ],
            [
             0.1111111111111111,
             "#46039f"
            ],
            [
             0.2222222222222222,
             "#7201a8"
            ],
            [
             0.3333333333333333,
             "#9c179e"
            ],
            [
             0.4444444444444444,
             "#bd3786"
            ],
            [
             0.5555555555555556,
             "#d8576b"
            ],
            [
             0.6666666666666666,
             "#ed7953"
            ],
            [
             0.7777777777777778,
             "#fb9f3a"
            ],
            [
             0.8888888888888888,
             "#fdca26"
            ],
            [
             1,
             "#f0f921"
            ]
           ],
           "sequentialminus": [
            [
             0,
             "#0d0887"
            ],
            [
             0.1111111111111111,
             "#46039f"
            ],
            [
             0.2222222222222222,
             "#7201a8"
            ],
            [
             0.3333333333333333,
             "#9c179e"
            ],
            [
             0.4444444444444444,
             "#bd3786"
            ],
            [
             0.5555555555555556,
             "#d8576b"
            ],
            [
             0.6666666666666666,
             "#ed7953"
            ],
            [
             0.7777777777777778,
             "#fb9f3a"
            ],
            [
             0.8888888888888888,
             "#fdca26"
            ],
            [
             1,
             "#f0f921"
            ]
           ]
          },
          "colorway": [
           "#636efa",
           "#EF553B",
           "#00cc96",
           "#ab63fa",
           "#FFA15A",
           "#19d3f3",
           "#FF6692",
           "#B6E880",
           "#FF97FF",
           "#FECB52"
          ],
          "font": {
           "color": "#2a3f5f"
          },
          "geo": {
           "bgcolor": "white",
           "lakecolor": "white",
           "landcolor": "#E5ECF6",
           "showlakes": true,
           "showland": true,
           "subunitcolor": "white"
          },
          "hoverlabel": {
           "align": "left"
          },
          "hovermode": "closest",
          "mapbox": {
           "style": "light"
          },
          "paper_bgcolor": "white",
          "plot_bgcolor": "#E5ECF6",
          "polar": {
           "angularaxis": {
            "gridcolor": "white",
            "linecolor": "white",
            "ticks": ""
           },
           "bgcolor": "#E5ECF6",
           "radialaxis": {
            "gridcolor": "white",
            "linecolor": "white",
            "ticks": ""
           }
          },
          "scene": {
           "xaxis": {
            "backgroundcolor": "#E5ECF6",
            "gridcolor": "white",
            "gridwidth": 2,
            "linecolor": "white",
            "showbackground": true,
            "ticks": "",
            "zerolinecolor": "white"
           },
           "yaxis": {
            "backgroundcolor": "#E5ECF6",
            "gridcolor": "white",
            "gridwidth": 2,
            "linecolor": "white",
            "showbackground": true,
            "ticks": "",
            "zerolinecolor": "white"
           },
           "zaxis": {
            "backgroundcolor": "#E5ECF6",
            "gridcolor": "white",
            "gridwidth": 2,
            "linecolor": "white",
            "showbackground": true,
            "ticks": "",
            "zerolinecolor": "white"
           }
          },
          "shapedefaults": {
           "line": {
            "color": "#2a3f5f"
           }
          },
          "ternary": {
           "aaxis": {
            "gridcolor": "white",
            "linecolor": "white",
            "ticks": ""
           },
           "baxis": {
            "gridcolor": "white",
            "linecolor": "white",
            "ticks": ""
           },
           "bgcolor": "#E5ECF6",
           "caxis": {
            "gridcolor": "white",
            "linecolor": "white",
            "ticks": ""
           }
          },
          "title": {
           "x": 0.05
          },
          "xaxis": {
           "automargin": true,
           "gridcolor": "white",
           "linecolor": "white",
           "ticks": "",
           "title": {
            "standoff": 15
           },
           "zerolinecolor": "white",
           "zerolinewidth": 2
          },
          "yaxis": {
           "automargin": true,
           "gridcolor": "white",
           "linecolor": "white",
           "ticks": "",
           "title": {
            "standoff": 15
           },
           "zerolinecolor": "white",
           "zerolinewidth": 2
          }
         }
        }
       }
      }
     },
     "metadata": {},
     "output_type": "display_data"
    }
   ],
   "source": [
    "metro = pd.concat([delay_stops[delay_stops[\"mode\"] == \"M\"], delay_stops_cat[delay_stops_cat[\"mode\"] == \"M\"]])\n",
    "metro = metro[~metro.stop_name.isin(metro[metro.duplicated(subset=\"stop_name\")].stop_name)]\n",
    "\n",
    "px.set_mapbox_access_token(\"pk.eyJ1IjoibWpkYW91ZGkiLCJhIjoiY2xibm54OThyMGdyOTNvcnhqeTYyZmRuYiJ9.rfxe3z8triwA5yvV1XZA-A\")\n",
    "fig = px.scatter_mapbox(metro, lat=\"stop_lat\", lon=\"stop_lon\", hover_name=\"stop_name\",\n",
    "                        color=\"cat\", zoom=10)\n",
    "fig.update_layout(mapbox_style=\"light\")\n",
    "fig.update_layout(margin={\"r\":0,\"t\":0,\"l\":0,\"b\":0})\n",
    "fig.show()"
   ]
  },
  {
   "cell_type": "code",
   "execution_count": null,
   "metadata": {},
   "outputs": [],
   "source": []
  }
 ],
 "metadata": {
  "kernelspec": {
   "display_name": "base",
   "language": "python",
   "name": "python3"
  },
  "language_info": {
   "codemirror_mode": {
    "name": "ipython",
    "version": 3
   },
   "file_extension": ".py",
   "mimetype": "text/x-python",
   "name": "python",
   "nbconvert_exporter": "python",
   "pygments_lexer": "ipython3",
   "version": "3.9.12"
  },
  "orig_nbformat": 4,
  "vscode": {
   "interpreter": {
    "hash": "64d58bae5e1836223e39dfe00c2cc12f2d07ff9816769b2cafc50efbdc5d5643"
   }
  }
 },
 "nbformat": 4,
 "nbformat_minor": 2
}
